{
 "cells": [
  {
   "cell_type": "markdown",
   "metadata": {},
   "source": [
    "# Basic code"
   ]
  },
  {
   "cell_type": "markdown",
   "metadata": {},
   "source": [
    "## For problems"
   ]
  },
  {
   "cell_type": "code",
   "execution_count": 1,
   "metadata": {},
   "outputs": [],
   "source": [
    "%matplotlib inline\n",
    "import matplotlib.pyplot as plt\n",
    "import random\n",
    "import heapq\n",
    "import math\n",
    "import sys\n",
    "from collections import defaultdict, deque, Counter\n",
    "from itertools import combinations\n",
    "\n",
    "\n",
    "class Problem(object):\n",
    "    \"\"\"The abstract class for a formal problem. A new domain subclasses this,\n",
    "    overriding `actions` and `results`, and perhaps other methods.\n",
    "    The default heuristic is 0 and the default action cost is 1 for all states.\n",
    "    When yiou create an instance of a subclass, specify `initial`, and `goal` states \n",
    "    (or give an `is_goal` method) and perhaps other keyword args for the subclass.\"\"\"\n",
    "\n",
    "    def __init__(self, initial=None, goal=None, **kwds): \n",
    "        self.__dict__.update(initial=initial, goal=goal, **kwds) \n",
    "        \n",
    "    def actions(self, state):        raise NotImplementedError\n",
    "    def result(self, state, action): raise NotImplementedError\n",
    "    def is_goal(self, state):        return state == self.goal\n",
    "    def action_cost(self, s, a, s1): return 1\n",
    "    def h(self, node):               return 0\n",
    "    \n",
    "    def __str__(self):\n",
    "        return '{}({!r}, {!r})'.format(\n",
    "            type(self).__name__, self.initial, self.goal)\n",
    "    \n",
    "\n",
    "class Node:\n",
    "    \"A Node in a search tree.\"\n",
    "    def __init__(self, state, parent=None, action=None, path_cost=0):\n",
    "        self.__dict__.update(state=state, parent=parent, action=action, path_cost=path_cost)\n",
    "\n",
    "    def __repr__(self): return '<{}>'.format(self.state)\n",
    "    def __len__(self): return 0 if self.parent is None else (1 + len(self.parent))\n",
    "    def __lt__(self, other): return self.path_cost < other.path_cost\n",
    "    \n",
    "    \n",
    "failure = Node('failure', path_cost=math.inf) # Indicates an algorithm couldn't find a solution.\n",
    "cutoff  = Node('cutoff',  path_cost=math.inf) # Indicates iterative deepening search was cut off.\n",
    "    \n",
    "    \n",
    "def expand(problem, node):\n",
    "    \"Expand a node, generating the children nodes.\"\n",
    "    s = node.state\n",
    "\n",
    "    for action in problem.actions(s):\n",
    "        s1 = problem.result(s, action)\n",
    "        cost = node.path_cost + problem.action_cost(s, action, s1)\n",
    "        yield Node(s1, node, action, cost)\n",
    "        \n",
    "\n",
    "def path_actions(node):\n",
    "    \"The sequence of actions to get to this node.\"\n",
    "    if node.parent is None:\n",
    "        return []  \n",
    "    return path_actions(node.parent) + [node.action]\n",
    "\n",
    "\n",
    "def path_states(node):\n",
    "    \"The sequence of states to get to this node.\"\n",
    "    if node in (cutoff, failure, None): \n",
    "        return []\n",
    "    return path_states(node.parent) + [node.state]"
   ]
  },
  {
   "cell_type": "markdown",
   "metadata": {},
   "source": [
    "## For resolve"
   ]
  },
  {
   "cell_type": "markdown",
   "metadata": {},
   "source": [
    "### Queues"
   ]
  },
  {
   "cell_type": "code",
   "execution_count": 2,
   "metadata": {},
   "outputs": [],
   "source": [
    "FIFOQueue = deque\n",
    "\n",
    "LIFOQueue = list\n",
    "\n",
    "\n",
    "class PriorityQueue:\n",
    "    \"\"\"A queue in which the item with minimum f(item) is always popped first.\"\"\"\n",
    "\n",
    "    def __init__(self, items=(), key=lambda x: x):\n",
    "        self.key = key\n",
    "        self.items = []  # a heap of (score, item) pairs\n",
    "        for item in items:\n",
    "            self.add(item)\n",
    "\n",
    "    def add(self, item):\n",
    "        \"\"\"Add item to the queuez.\"\"\"\n",
    "        pair = (self.key(item), item)\n",
    "        heapq.heappush(self.items, pair)\n",
    "\n",
    "    def pop(self):\n",
    "        \"\"\"Pop and return the item with min f(item) value.\"\"\"\n",
    "        return heapq.heappop(self.items)[1]\n",
    "\n",
    "    def top(self):\n",
    "        return self.items[0][1]\n",
    "\n",
    "    def __len__(self):\n",
    "        return len(self.items)"
   ]
  },
  {
   "cell_type": "markdown",
   "metadata": {},
   "source": [
    "### Search Algorithms"
   ]
  },
  {
   "cell_type": "code",
   "execution_count": 3,
   "metadata": {},
   "outputs": [],
   "source": [
    "def best_first_search(problem, f):\n",
    "    \"Search nodes with minimum f(node) value first.\"\n",
    "    node = Node(problem.initial)\n",
    "    frontier = PriorityQueue([node], key=f)\n",
    "    reached = {problem.initial: node}\n",
    "    while frontier:\n",
    "        node = frontier.pop()\n",
    "        if problem.is_goal(node.state):\n",
    "            return node\n",
    "        for child in expand(problem, node):\n",
    "            s = child.state\n",
    "            if s not in reached or child.path_cost < reached[s].path_cost:\n",
    "                reached[s] = child\n",
    "                frontier.add(child)\n",
    "    return failure\n",
    "\n",
    "\n",
    "def best_first_tree_search(problem, f):\n",
    "    \"A version of best_first_search without the `reached` table.\"\n",
    "    frontier = PriorityQueue([Node(problem.initial)], key=f)\n",
    "    while frontier:\n",
    "        node = frontier.pop()\n",
    "        if problem.is_goal(node.state):\n",
    "            return node\n",
    "        for child in expand(problem, node):\n",
    "            if not is_cycle(child):\n",
    "                frontier.add(child)\n",
    "    return failure\n",
    "\n",
    "\n",
    "def g(n):\n",
    "    return n.path_cost\n",
    "\n",
    "\n",
    "def astar_search(problem, h=None):\n",
    "    \"\"\"Search nodes with minimum f(n) = g(n) + h(n).\"\"\"\n",
    "    h = h or problem.h\n",
    "    return best_first_search(problem, f=lambda n: g(n) + h(n))\n",
    "\n",
    "\n",
    "def astar_tree_search(problem, h=None):\n",
    "    \"\"\"Search nodes with minimum f(n) = g(n) + h(n), with no `reached` table.\"\"\"\n",
    "    h = h or problem.h\n",
    "    return best_first_tree_search(problem, f=lambda n: g(n) + h(n))\n",
    "\n",
    "\n",
    "def weighted_astar_search(problem, h=None, weight=1.4):\n",
    "    \"\"\"Search nodes with minimum f(n) = g(n) + weight * h(n).\"\"\"\n",
    "    h = h or problem.h\n",
    "    return best_first_search(problem, f=lambda n: g(n) + weight * h(n))\n",
    "\n",
    "\n",
    "def greedy_bfs(problem, h=None):\n",
    "    \"\"\"Search nodes with minimum h(n).\"\"\"\n",
    "    h = h or problem.h\n",
    "    return best_first_search(problem, f=h)\n",
    "\n",
    "\n",
    "def uniform_cost_search(problem):\n",
    "    \"Search nodes with minimum path cost first.\"\n",
    "    return best_first_search(problem, f=g)\n",
    "\n",
    "\n",
    "def breadth_first_bfs(problem):\n",
    "    \"Search shallowest nodes in the search tree first; using best-first.\"\n",
    "    return best_first_search(problem, f=len)\n",
    "\n",
    "\n",
    "def depth_first_bfs(problem):\n",
    "    \"Search deepest nodes in the search tree first; using best-first.\"\n",
    "    return best_first_search(problem, f=lambda n: -len(n))\n",
    "\n",
    "\n",
    "def is_cycle(node, k=30):\n",
    "    \"Does this node form a cycle of length k or less?\"\n",
    "\n",
    "    def find_cycle(ancestor, k):\n",
    "        return (\n",
    "            ancestor is not None\n",
    "            and k > 0\n",
    "            and (ancestor.state == node.state or find_cycle(ancestor.parent, k - 1))\n",
    "        )\n",
    "\n",
    "    return find_cycle(node.parent, k)\n",
    "\n",
    "\n",
    "def iterative_deepening_search(problem):\n",
    "    \"Do depth-limited search with increasing depth limits.\"\n",
    "    for limit in range(1, sys.maxsize):\n",
    "        result = depth_limited_search(problem, limit)\n",
    "        if result != cutoff:\n",
    "            return result\n",
    "\n",
    "\n",
    "def depth_limited_search(problem, limit=10):\n",
    "    \"Search deepest nodes in the search tree first.\"\n",
    "    frontier = LIFOQueue([Node(problem.initial)])\n",
    "    result = failure\n",
    "    while frontier:\n",
    "        node = frontier.pop()\n",
    "        if problem.is_goal(node.state):\n",
    "            return node\n",
    "        elif len(node) >= limit:\n",
    "            result = cutoff\n",
    "        elif not is_cycle(node):\n",
    "            for child in expand(problem, node):\n",
    "                frontier.append(child)\n",
    "    return result"
   ]
  },
  {
   "cell_type": "markdown",
   "metadata": {},
   "source": [
    "## Generate report"
   ]
  },
  {
   "cell_type": "code",
   "execution_count": 4,
   "metadata": {},
   "outputs": [],
   "source": [
    "class CountCalls:\n",
    "    \"\"\"Delegate all attribute gets to the object, and count them in ._counts\"\"\"\n",
    "    def __init__(self, obj):\n",
    "        self._object = obj\n",
    "        self._counts = Counter()\n",
    "        \n",
    "    def __getattr__(self, attr):\n",
    "        \"Delegate to the original object, after incrementing a counter.\"\n",
    "        self._counts[attr] += 1\n",
    "        return getattr(self._object, attr)\n",
    "\n",
    "        \n",
    "def report(searchers, problems, verbose=True):\n",
    "    \"\"\"Show summary statistics for each searcher (and on each problem unless verbose is false).\"\"\"\n",
    "    for searcher in searchers:\n",
    "        print(searcher.__name__ + ':')\n",
    "        total_counts = Counter()\n",
    "        for p in problems:\n",
    "            prob   = CountCalls(p)\n",
    "            soln   = searcher(prob)\n",
    "            counts = prob._counts; \n",
    "            counts.update(actions=len(soln), cost=soln.path_cost)\n",
    "            total_counts += counts\n",
    "            if verbose: report_counts(counts, str(p)[:40])\n",
    "        report_counts(total_counts, 'TOTAL\\n')\n",
    "        \n",
    "def report_counts(counts, name):\n",
    "    \"\"\"Print one line of the counts report.\"\"\"\n",
    "    print('{:9,d} nodes |{:9,d} goal |{:5.0f} cost |{:8,d} actions | {}'.format(\n",
    "          counts['result'], counts['is_goal'], counts['cost'], counts['actions'], name))"
   ]
  },
  {
   "cell_type": "markdown",
   "metadata": {},
   "source": [
    "# Problems"
   ]
  },
  {
   "cell_type": "markdown",
   "metadata": {},
   "source": [
    "## Missionaries and cannibals"
   ]
  },
  {
   "cell_type": "markdown",
   "metadata": {},
   "source": [
    "Tres misioneros y tres canibales se encuentran a un lado de un rio, junto con un bote que soporta una o dos\n",
    "personas.\n",
    "Encuentre una forma de llevar a los seis al otro lado del rio de manera que el numero de misioneros en cualquier\n",
    "orilla del rio nunca sea menor que el numero de canibales con que se encuentren."
   ]
  },
  {
   "cell_type": "code",
   "execution_count": 5,
   "metadata": {},
   "outputs": [],
   "source": [
    "class Boat(Problem):\n",
    "    \"\"\"A problem to find a best way of move people in `Boat`.\n",
    "    Create a problem with Boat( (# missionaries, # cannibals) )\n",
    "    \"\"\"\n",
    "\n",
    "    def __init__(self, initial):\n",
    "        self.__dict__.update(initial=(initial, (0, 0)), goal=((0, 0), initial))\n",
    "\n",
    "    def actions(self, state):\n",
    "        (M, C), (M1, C1) = state\n",
    "\n",
    "        if M == 3 and C == 3:\n",
    "            return [(0, 1), (0, 2), (1, 1)]\n",
    "        elif M == 2 and C == 2:\n",
    "            return [(2, 0), (1, 1)]\n",
    "        elif M == 0 and C == 2:\n",
    "            return [(0, 1), (0, 2)]\n",
    "        elif M == 0 and C == 1:\n",
    "            return [(0, 1)]\n",
    "        elif M == 1 and C == 1:\n",
    "            return [(1, 0), (1, 1)]\n",
    "        elif M == 0 and C == 0:\n",
    "            return []\n",
    "        elif M == 3 and C == 1:\n",
    "            return [(2, 0)]\n",
    "        elif M == 3 and C == 2:\n",
    "            return [(1, 0), (0, 1)]\n",
    "        elif M == 3 and C == 1:\n",
    "            return [(2, 0)]\n",
    "        else:\n",
    "            print(\"Invalid state\")\n",
    "            return []\n",
    "\n",
    "    def h(self, node):\n",
    "        (M, C), _ = node.state\n",
    "        return C\n",
    "\n",
    "    def action_cost(self, s, a, s1):\n",
    "        return 1\n",
    "\n",
    "    def result(self, state, action):\n",
    "        \"\"\"The result of moving people in the boat.\"\"\"\n",
    "        (M, C), (M1, C1) = state\n",
    "\n",
    "        return ((M - action[0], C - action[1]), (M1 + action[0], C1 + action[1]))"
   ]
  },
  {
   "cell_type": "markdown",
   "metadata": {},
   "source": [
    "#### Test"
   ]
  },
  {
   "cell_type": "code",
   "execution_count": 6,
   "metadata": {},
   "outputs": [],
   "source": [
    "# state = ((2, 2), (1, 1))  # [(2,0), (1,1)]\n",
    "# state = ((3, 3), (0, 0))  # [(0,1), (0,2), (1,1)]\n",
    "# state = ((0, 2), (3, 1))  # [(0,1), (0,2)]\n",
    "# state = ((0, 1), (3, 2))  # [(0, 1)]\n",
    "# state = ((1, 1), (2, 2))  # [(1, 0), (1, 1)]\n",
    "# state = ((0, 0), (3, 3))  # []\n",
    "# state = ((3, 1), (0, 2))  # [(2, 0)]\n",
    "# state = ((3, 2), (0, 1))  # [(1,0),(0, 1)]\n",
    "# state = ((3, 1), (0, 2))  # [(2,0)]\n",
    "\n",
    "# print(p1.result(state, p1.actions(state)[0]))"
   ]
  },
  {
   "cell_type": "markdown",
   "metadata": {},
   "source": [
    "### Run"
   ]
  },
  {
   "cell_type": "code",
   "execution_count": 7,
   "metadata": {},
   "outputs": [],
   "source": [
    "p1 = Boat((3, 3))"
   ]
  },
  {
   "cell_type": "code",
   "execution_count": 8,
   "metadata": {},
   "outputs": [
    {
     "name": "stdout",
     "output_type": "stream",
     "text": [
      "astar_search:\n",
      "       10 nodes |        6 goal |    3 cost |       8 actions | Boat(((3, 3), (0, 0)), ((0, 0), (3, 3)))\n",
      "       10 nodes |        6 goal |    3 cost |       8 actions | TOTAL\n",
      "\n",
      "greedy_bfs:\n",
      "        6 nodes |        4 goal |    3 cost |       6 actions | Boat(((3, 3), (0, 0)), ((0, 0), (3, 3)))\n",
      "        6 nodes |        4 goal |    3 cost |       6 actions | TOTAL\n",
      "\n",
      "uniform_cost_search:\n",
      "       13 nodes |        8 goal |    3 cost |      10 actions | Boat(((3, 3), (0, 0)), ((0, 0), (3, 3)))\n",
      "       13 nodes |        8 goal |    3 cost |      10 actions | TOTAL\n",
      "\n",
      "breadth_first_bfs:\n",
      "       13 nodes |        8 goal |    3 cost |      10 actions | Boat(((3, 3), (0, 0)), ((0, 0), (3, 3)))\n",
      "       13 nodes |        8 goal |    3 cost |      10 actions | TOTAL\n",
      "\n",
      "depth_first_bfs:\n",
      "        9 nodes |        6 goal |    3 cost |       8 actions | Boat(((3, 3), (0, 0)), ((0, 0), (3, 3)))\n",
      "        9 nodes |        6 goal |    3 cost |       8 actions | TOTAL\n",
      "\n",
      "iterative_deepening_search:\n",
      "       18 nodes |       17 goal |    3 cost |      11 actions | Boat(((3, 3), (0, 0)), ((0, 0), (3, 3)))\n",
      "       18 nodes |       17 goal |    3 cost |      11 actions | TOTAL\n",
      "\n"
     ]
    }
   ],
   "source": [
    "report([astar_search, greedy_bfs, uniform_cost_search, breadth_first_bfs, depth_first_bfs, iterative_deepening_search], [p1])"
   ]
  },
  {
   "cell_type": "code",
   "execution_count": 11,
   "metadata": {},
   "outputs": [
    {
     "name": "stdout",
     "output_type": "stream",
     "text": [
      "[((3, 3), (0, 0)), ((3, 1), (0, 2)), ((1, 1), (2, 2)), ((0, 0), (3, 3))]\n",
      "[((3, 3), (0, 0)), ((3, 1), (0, 2)), ((1, 1), (2, 2)), ((0, 0), (3, 3))]\n",
      "[((3, 3), (0, 0)), ((3, 1), (0, 2)), ((1, 1), (2, 2)), ((0, 0), (3, 3))]\n",
      "[((3, 3), (0, 0)), ((3, 1), (0, 2)), ((1, 1), (2, 2)), ((0, 0), (3, 3))]\n",
      "[((3, 3), (0, 0)), ((3, 1), (0, 2)), ((1, 1), (2, 2)), ((0, 0), (3, 3))]\n",
      "[((3, 3), (0, 0)), ((2, 2), (1, 1)), ((1, 1), (2, 2)), ((0, 0), (3, 3))]\n"
     ]
    }
   ],
   "source": [
    "print(path_states(astar_search(p1)))\n",
    "print(path_states(greedy_bfs(p1)))\n",
    "print(path_states(uniform_cost_search(p1)))\n",
    "print(path_states(breadth_first_bfs(p1)))\n",
    "print(path_states(depth_first_bfs(p1)))\n",
    "print(path_states(iterative_deepening_search(p1)))"
   ]
  },
  {
   "cell_type": "code",
   "execution_count": 12,
   "metadata": {},
   "outputs": [
    {
     "name": "stdout",
     "output_type": "stream",
     "text": [
      "[(0, 2), (2, 0), (1, 1)]\n",
      "[(0, 2), (2, 0), (1, 1)]\n",
      "[(0, 2), (2, 0), (1, 1)]\n",
      "[(0, 2), (2, 0), (1, 1)]\n",
      "[(0, 2), (2, 0), (1, 1)]\n",
      "[(1, 1), (1, 1), (1, 1)]\n"
     ]
    }
   ],
   "source": [
    "print(path_actions(greedy_bfs(p1)))\n",
    "print(path_actions(astar_search(p1)))\n",
    "print(path_actions(uniform_cost_search(p1)))\n",
    "print(path_actions(breadth_first_bfs(p1)))\n",
    "print(path_actions(depth_first_bfs(p1)))\n",
    "print(path_actions(iterative_deepening_search(p1)))"
   ]
  }
 ],
 "metadata": {
  "kernelspec": {
   "display_name": "env",
   "language": "python",
   "name": "python3"
  },
  "language_info": {
   "codemirror_mode": {
    "name": "ipython",
    "version": 3
   },
   "file_extension": ".py",
   "mimetype": "text/x-python",
   "name": "python",
   "nbconvert_exporter": "python",
   "pygments_lexer": "ipython3",
   "version": "3.8.7"
  }
 },
 "nbformat": 4,
 "nbformat_minor": 2
}

{
 "cells": [
  {
   "cell_type": "markdown",
   "metadata": {},
   "source": [
    "### Base code"
   ]
  },
  {
   "cell_type": "code",
   "execution_count": 1,
   "metadata": {},
   "outputs": [],
   "source": [
    "%matplotlib inline\n",
    "import matplotlib.pyplot as plt\n",
    "import random\n",
    "import heapq\n",
    "import math\n",
    "import sys\n",
    "from collections import defaultdict, deque, Counter\n",
    "from itertools import combinations\n",
    "\n",
    "\n",
    "class Problem(object):\n",
    "    \"\"\"The abstract class for a formal problem. A new domain subclasses this,\n",
    "    overriding `actions` and `results`, and perhaps other methods.\n",
    "    The default heuristic is 0 and the default action cost is 1 for all states.\n",
    "    When yiou create an instance of a subclass, specify `initial`, and `goal` states \n",
    "    (or give an `is_goal` method) and perhaps other keyword args for the subclass.\"\"\"\n",
    "\n",
    "    def __init__(self, initial=None, goal=None, **kwds): \n",
    "        self.__dict__.update(initial=initial, goal=goal, **kwds) \n",
    "        \n",
    "    def actions(self, state):        raise NotImplementedError\n",
    "    def result(self, state, action): raise NotImplementedError\n",
    "    def is_goal(self, state):        return state == self.goal\n",
    "    def action_cost(self, s, a, s1): return 1\n",
    "    def h(self, node):               return 0\n",
    "    \n",
    "    def __str__(self):\n",
    "        return '{}({!r}, {!r})'.format(\n",
    "            type(self).__name__, self.initial, self.goal)\n",
    "    \n",
    "\n",
    "class Node:\n",
    "    \"A Node in a search tree.\"\n",
    "    def __init__(self, state, parent=None, action=None, path_cost=0):\n",
    "        self.__dict__.update(state=state, parent=parent, action=action, path_cost=path_cost)\n",
    "\n",
    "    def __repr__(self): return '<{}>'.format(self.state)\n",
    "    def __len__(self): return 0 if self.parent is None else (1 + len(self.parent))\n",
    "    def __lt__(self, other): return self.path_cost < other.path_cost\n",
    "    \n",
    "    \n",
    "failure = Node('failure', path_cost=math.inf) # Indicates an algorithm couldn't find a solution.\n",
    "cutoff  = Node('cutoff',  path_cost=math.inf) # Indicates iterative deepening search was cut off.\n",
    "    \n",
    "    \n",
    "def expand(problem, node):\n",
    "    \"Expand a node, generating the children nodes.\"\n",
    "    s = node.state\n",
    "\n",
    "    for action in problem.actions(s):\n",
    "        s1 = problem.result(s, action)\n",
    "        cost = node.path_cost + problem.action_cost(s, action, s1)\n",
    "        yield Node(s1, node, action, cost)\n",
    "        \n",
    "\n",
    "def path_actions(node):\n",
    "    \"The sequence of actions to get to this node.\"\n",
    "    if node.parent is None:\n",
    "        return []  \n",
    "    return path_actions(node.parent) + [node.action]\n",
    "\n",
    "\n",
    "def path_states(node):\n",
    "    \"The sequence of states to get to this node.\"\n",
    "    if node in (cutoff, failure, None): \n",
    "        return []\n",
    "    return path_states(node.parent) + [node.state]"
   ]
  },
  {
   "cell_type": "markdown",
   "metadata": {},
   "source": [
    "### Problem Code"
   ]
  },
  {
   "cell_type": "code",
   "execution_count": 39,
   "metadata": {},
   "outputs": [],
   "source": [
    "class Problem_Puzzle(Problem):\n",
    "    def __init__(self, initial):\n",
    "        self.__dict__.update(initial=initial, goal=((1, 2, 3), (4, 5, 6), (7, 8, 9)))\n",
    "\n",
    "    def actions(self, state):\n",
    "        return [\n",
    "            \"fila 0 derecha\",\n",
    "            \"fila 0 izquierda\",\n",
    "            \"fila 1 derecha\",\n",
    "            \"fila 1 izquierda\",\n",
    "            \"fila 2 derecha\",\n",
    "            \"fila 2 izquierda\",\n",
    "            \"columna 0 abajo\",\n",
    "            \"columna 0 arriba\",\n",
    "            \"columna 1 abajo\",\n",
    "            \"columna 1 arriba\",\n",
    "            \"columna 2 abajo\",\n",
    "            \"columna 2 arriba\",\n",
    "        ]\n",
    "\n",
    "    def result(self, state, action):\n",
    "        real_state = [list(sub_tupla) for sub_tupla in state]\n",
    "\n",
    "        newState = [row[:] for row in real_state]\n",
    "\n",
    "        if \"derecha\" in action:\n",
    "            fila = int(action.split(\" \")[1])\n",
    "            newState[fila] = [newState[fila][-1]] + newState[fila][:-1]\n",
    "        elif \"izquierda\" in action:\n",
    "            fila = int(action.split(\" \")[1])\n",
    "            newState[fila] = newState[fila][1:] + [newState[fila][0]]\n",
    "        elif \"abajo\" in action:\n",
    "            columna = int(action.split(\" \")[1])\n",
    "            temp = newState[2][columna]\n",
    "            newState[2][columna] = newState[1][columna]\n",
    "            newState[1][columna] = newState[0][columna]\n",
    "            newState[0][columna] = temp\n",
    "        elif \"arriba\" in action:\n",
    "            columna = int(action.split(\" \")[1])\n",
    "            newState[0][columna], newState[1][columna], newState[2][columna] = (\n",
    "                newState[1][columna],\n",
    "                newState[2][columna],\n",
    "                newState[0][columna],\n",
    "            )\n",
    "\n",
    "        tupla = tuple(tuple(sub_lista) for sub_lista in newState)\n",
    "        return tupla\n",
    "\n",
    "    def h(self, node):\n",
    "        state = node.state\n",
    "        goal = self.goal\n",
    "        m_distance = 0\n",
    "        disorder = 0\n",
    "        for i in range(3):\n",
    "            for j in range(3):\n",
    "                goal_position = [\n",
    "                    (index_i, index_j)\n",
    "                    for index_i, row in enumerate(goal)\n",
    "                    for index_j, element in enumerate(row)\n",
    "                    if element == state[i][j]\n",
    "                ]\n",
    "                m_distance += abs(i - goal_position[0][0]) + abs(\n",
    "                    j - goal_position[0][1]\n",
    "                )\n",
    "\n",
    "                disorder += sum(\n",
    "                    1 for k in range(i * 3 + j, 9) if state[k // 3][k % 3] > state[i][j]\n",
    "                )\n",
    "        return m_distance + disorder\n",
    "\n"
   ]
  },
  {
   "cell_type": "code",
   "execution_count": 40,
   "metadata": {},
   "outputs": [],
   "source": [
    "p1 = Problem_Puzzle(((3, 1, 8), (4, 6, 5), (7, 9, 2)))\n",
    "p2 = Problem_Puzzle(((9, 8, 7), (6, 5, 4), (3, 2, 1)))\n",
    "p3 = Problem_Puzzle(((8, 1, 9), (5, 2, 3), (4, 6, 7)))\n"
   ]
  },
  {
   "cell_type": "markdown",
   "metadata": {},
   "source": [
    "### Queues"
   ]
  },
  {
   "cell_type": "code",
   "execution_count": 4,
   "metadata": {},
   "outputs": [],
   "source": [
    "FIFOQueue = deque\n",
    "\n",
    "LIFOQueue = list\n",
    "\n",
    "class PriorityQueue:\n",
    "    \"\"\"A queue in which the item with minimum f(item) is always popped first.\"\"\"\n",
    "\n",
    "    def __init__(self, items=(), key=lambda x: x): \n",
    "        self.key = key\n",
    "        self.items = [] # a heap of (score, item) pairs\n",
    "        for item in items:\n",
    "            self.add(item)\n",
    "         \n",
    "    def add(self, item):\n",
    "        \"\"\"Add item to the queuez.\"\"\"\n",
    "        pair = (self.key(item), item)\n",
    "        heapq.heappush(self.items, pair)\n",
    "\n",
    "    def pop(self):\n",
    "        \"\"\"Pop and return the item with min f(item) value.\"\"\"\n",
    "        return heapq.heappop(self.items)[1]\n",
    "    \n",
    "    def top(self): return self.items[0][1]\n",
    "\n",
    "    def __len__(self): return len(self.items)"
   ]
  },
  {
   "cell_type": "markdown",
   "metadata": {},
   "source": [
    "### Search Algorithms"
   ]
  },
  {
   "cell_type": "code",
   "execution_count": 42,
   "metadata": {},
   "outputs": [],
   "source": [
    "def best_first_search(problem, f):\n",
    "    \"Search nodes with minimum f(node) value first.\"\n",
    "    node = Node(problem.initial)\n",
    "    frontier = PriorityQueue([node], key=f)\n",
    "    reached = {problem.initial: node}\n",
    "    while frontier:\n",
    "        node = frontier.pop()\n",
    "        if problem.is_goal(node.state):\n",
    "            return node\n",
    "        for child in expand(problem, node):\n",
    "            s = child.state\n",
    "            if s not in reached or child.path_cost < reached[s].path_cost:\n",
    "                reached[s] = child\n",
    "                frontier.add(child)\n",
    "    return failure\n",
    "\n",
    "\n",
    "def best_first_tree_search(problem, f):\n",
    "    \"A version of best_first_search without the `reached` table.\"\n",
    "    frontier = PriorityQueue([Node(problem.initial)], key=f)\n",
    "    while frontier:\n",
    "        node = frontier.pop()\n",
    "        if problem.is_goal(node.state):\n",
    "            return node\n",
    "        for child in expand(problem, node):\n",
    "            if not is_cycle(child):\n",
    "                frontier.add(child)\n",
    "    return failure\n",
    "\n",
    "\n",
    "def g(n): return n.path_cost\n",
    "\n",
    "\n",
    "def astar_search(problem, h=None):\n",
    "    \"\"\"Search nodes with minimum f(n) = g(n) + h(n).\"\"\"\n",
    "    h = h or problem.h\n",
    "    return best_first_search(problem, f=lambda n: g(n) + h(n))\n",
    "\n",
    "\n",
    "def astar_tree_search(problem, h=None):\n",
    "    \"\"\"Search nodes with minimum f(n) = g(n) + h(n), with no `reached` table.\"\"\"\n",
    "    h = h or problem.h\n",
    "    return best_first_tree_search(problem, f=lambda n: g(n) + h(n))\n",
    "\n",
    "\n",
    "def weighted_astar_search(problem, h=None, weight=1.4):\n",
    "    \"\"\"Search nodes with minimum f(n) = g(n) + weight * h(n).\"\"\"\n",
    "    h = h or problem.h\n",
    "    return best_first_search(problem, f=lambda n: g(n) + weight * h(n))\n",
    "\n",
    "        \n",
    "def greedy_bfs(problem, h=None):\n",
    "    \"\"\"Search nodes with minimum h(n).\"\"\"\n",
    "    h = h or problem.h\n",
    "    return best_first_search(problem, f=h)\n",
    "\n",
    "\n",
    "def uniform_cost_search(problem):\n",
    "    \"Search nodes with minimum path cost first.\"\n",
    "    return best_first_search(problem, f=g)\n",
    "\n",
    "\n",
    "def breadth_first_bfs(problem):\n",
    "    \"Search shallowest nodes in the search tree first; using best-first.\"\n",
    "    return best_first_search(problem, f=len)\n",
    "\n",
    "\n",
    "def depth_first_bfs(problem):\n",
    "    \"Search deepest nodes in the search tree first; using best-first.\"\n",
    "    return best_first_search(problem, f=lambda n: -len(n))\n",
    "\n",
    "\n",
    "def is_cycle(node, k=30):\n",
    "    \"Does this node form a cycle of length k or less?\"\n",
    "    def find_cycle(ancestor, k):\n",
    "        return (ancestor is not None and k > 0 and\n",
    "                (ancestor.state == node.state or find_cycle(ancestor.parent, k - 1)))\n",
    "    return find_cycle(node.parent, k)\n",
    "\n",
    "def iterative_deepening_search(problem):\n",
    "    \"Do depth-limited search with increasing depth limits.\"\n",
    "    for limit in range(1, sys.maxsize):\n",
    "        result = depth_limited_search(problem, limit)\n",
    "        if result != cutoff:\n",
    "            return result\n",
    "\n",
    "def depth_limited_search(problem, limit=10):\n",
    "    \"Search deepest nodes in the search tree first.\"\n",
    "    frontier = LIFOQueue([Node(problem.initial)])\n",
    "    result = failure\n",
    "    while frontier:\n",
    "        node = frontier.pop()\n",
    "        if problem.is_goal(node.state):\n",
    "            return node\n",
    "        elif len(node) >= limit:\n",
    "            result = cutoff\n",
    "        elif not is_cycle(node):\n",
    "            for child in expand(problem, node):\n",
    "                frontier.append(child)\n",
    "    return result\n",
    "\n",
    "\n",
    "\n"
   ]
  },
  {
   "cell_type": "markdown",
   "metadata": {},
   "source": [
    "### Report"
   ]
  },
  {
   "cell_type": "markdown",
   "metadata": {},
   "source": [
    "#### Report code"
   ]
  },
  {
   "cell_type": "code",
   "execution_count": 6,
   "metadata": {},
   "outputs": [],
   "source": [
    "class CountCalls:\n",
    "    \"\"\"Delegate all attribute gets to the object, and count them in ._counts\"\"\"\n",
    "    def __init__(self, obj):\n",
    "        self._object = obj\n",
    "        self._counts = Counter()\n",
    "        \n",
    "    def __getattr__(self, attr):\n",
    "        \"Delegate to the original object, after incrementing a counter.\"\n",
    "        self._counts[attr] += 1\n",
    "        return getattr(self._object, attr)\n",
    "\n",
    "        \n",
    "def report(searchers, problems, verbose=True):\n",
    "    \"\"\"Show summary statistics for each searcher (and on each problem unless verbose is false).\"\"\"\n",
    "    for searcher in searchers:\n",
    "        print(searcher.__name__ + ':')\n",
    "        total_counts = Counter()\n",
    "        for p in problems:\n",
    "            prob   = CountCalls(p)\n",
    "            soln   = searcher(prob)\n",
    "            counts = prob._counts; \n",
    "            counts.update(actions=len(soln), cost=soln.path_cost)\n",
    "            total_counts += counts\n",
    "            if verbose: report_counts(counts, str(p)[:40])\n",
    "        report_counts(total_counts, 'TOTAL\\n')\n",
    "        \n",
    "def report_counts(counts, name):\n",
    "    \"\"\"Print one line of the counts report.\"\"\"\n",
    "    print('{:9,d} nodes |{:9,d} goal |{:5.0f} cost |{:8,d} actions | {}'.format(\n",
    "          counts['result'], counts['is_goal'], counts['cost'], counts['actions'], name))"
   ]
  },
  {
   "cell_type": "markdown",
   "metadata": {},
   "source": [
    "#### Run report"
   ]
  },
  {
   "cell_type": "code",
   "execution_count": 7,
   "metadata": {},
   "outputs": [
    {
     "name": "stdout",
     "output_type": "stream",
     "text": [
      "((3, 1, 8), (4, 6, 5), (7, 9, 2))\n"
     ]
    }
   ],
   "source": [
    "print(p1.initial)"
   ]
  },
  {
   "cell_type": "code",
   "execution_count": 44,
   "metadata": {},
   "outputs": [
    {
     "name": "stdout",
     "output_type": "stream",
     "text": [
      "uniform_cost_search:\n",
      "2,177,280 nodes |  181,440 goal |  inf cost | 181,440 actions | Problem_Puzzle(((3, 1, 8), (4, 6, 5), (7\n",
      "2,173,632 nodes |  181,137 goal |    8 cost | 181,144 actions | Problem_Puzzle(((9, 8, 7), (6, 5, 4), (3\n",
      "  239,460 nodes |   19,956 goal |    5 cost |  19,960 actions | Problem_Puzzle(((8, 1, 9), (5, 2, 3), (4\n",
      "4,590,372 nodes |  382,533 goal |  inf cost | 382,544 actions | TOTAL\n",
      "\n",
      "breadth_first_bfs:\n",
      "2,177,280 nodes |  181,440 goal |  inf cost | 181,440 actions | Problem_Puzzle(((3, 1, 8), (4, 6, 5), (7\n",
      "2,173,632 nodes |  181,137 goal |    8 cost | 181,144 actions | Problem_Puzzle(((9, 8, 7), (6, 5, 4), (3\n",
      "  239,460 nodes |   19,956 goal |    5 cost |  19,960 actions | Problem_Puzzle(((8, 1, 9), (5, 2, 3), (4\n",
      "4,590,372 nodes |  382,533 goal |  inf cost | 382,544 actions | TOTAL\n",
      "\n"
     ]
    }
   ],
   "source": [
    "report([uniform_cost_search, breadth_first_bfs], [p1, p2, p3])"
   ]
  },
  {
   "cell_type": "code",
   "execution_count": 33,
   "metadata": {},
   "outputs": [
    {
     "name": "stdout",
     "output_type": "stream",
     "text": [
      "greedy_bfs:\n",
      "7,064,160 nodes |  588,680 goal |  inf cost | 588,680 actions | Problem_Puzzle(((3, 1, 8), (4, 6, 5), (7\n",
      "4,593,084 nodes |  382,758 goal |    8 cost | 382,765 actions | Problem_Puzzle(((9, 8, 7), (6, 5, 4), (3\n",
      "4,599,528 nodes |  383,295 goal |    6 cost | 383,300 actions | Problem_Puzzle(((8, 1, 9), (5, 2, 3), (4\n",
      "16,256,772 nodes |1,354,733 goal |  inf cost |1,354,745 actions | TOTAL\n",
      "\n",
      "astar_search:\n",
      "4,091,808 nodes |  340,984 goal |  inf cost | 340,984 actions | Problem_Puzzle(((3, 1, 8), (4, 6, 5), (7\n",
      "3,196,092 nodes |  266,342 goal |    8 cost | 266,349 actions | Problem_Puzzle(((9, 8, 7), (6, 5, 4), (3\n",
      "2,406,264 nodes |  200,523 goal |    5 cost | 200,527 actions | Problem_Puzzle(((8, 1, 9), (5, 2, 3), (4\n",
      "9,694,164 nodes |  807,849 goal |  inf cost | 807,860 actions | TOTAL\n",
      "\n"
     ]
    }
   ],
   "source": [
    "report([greedy_bfs, astar_search], [p1, p2, p3])"
   ]
  },
  {
   "cell_type": "code",
   "execution_count": 45,
   "metadata": {},
   "outputs": [
    {
     "data": {
      "text/plain": [
       "['fila 0 derecha',\n",
       " 'fila 1 izquierda',\n",
       " 'columna 0 arriba',\n",
       " 'columna 2 abajo',\n",
       " 'fila 1 izquierda',\n",
       " 'fila 0 derecha',\n",
       " 'columna 1 abajo',\n",
       " 'columna 2 arriba']"
      ]
     },
     "execution_count": 45,
     "metadata": {},
     "output_type": "execute_result"
    }
   ],
   "source": [
    "path_actions(astar_search(p2))"
   ]
  },
  {
   "cell_type": "code",
   "execution_count": 46,
   "metadata": {},
   "outputs": [
    {
     "name": "stdout",
     "output_type": "stream",
     "text": [
      "35\n"
     ]
    }
   ],
   "source": [
    "print(p1.h(Node(p1.initial)))"
   ]
  }
 ],
 "metadata": {
  "kernelspec": {
   "display_name": "env",
   "language": "python",
   "name": "python3"
  },
  "language_info": {
   "codemirror_mode": {
    "name": "ipython",
    "version": 3
   },
   "file_extension": ".py",
   "mimetype": "text/x-python",
   "name": "python",
   "nbconvert_exporter": "python",
   "pygments_lexer": "ipython3",
   "version": "3.8.7"
  }
 },
 "nbformat": 4,
 "nbformat_minor": 2
}

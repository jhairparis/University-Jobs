{
 "cells": [
  {
   "cell_type": "code",
   "execution_count": 9,
   "metadata": {},
   "outputs": [],
   "source": [
    "from ortools.linear_solver import pywraplp"
   ]
  },
  {
   "cell_type": "code",
   "execution_count": 10,
   "metadata": {},
   "outputs": [],
   "source": [
    "solver = pywraplp.Solver.CreateSolver(\"GLOP\")\n",
    "infinity = solver.infinity()"
   ]
  },
  {
   "cell_type": "code",
   "execution_count": 11,
   "metadata": {},
   "outputs": [
    {
     "name": "stdout",
     "output_type": "stream",
     "text": [
      "Numero de variables = 44\n"
     ]
    }
   ],
   "source": [
    "x11 = solver.Var(0, infinity, integer = False, name = \"Planta1-almacen1\") \n",
    "x12 = solver.Var(0, infinity, integer = False, name = \"Planta1-almacen2\") \n",
    "x13 = solver.Var(0, infinity, integer = False, name = \"Planta1-almacen3\") \n",
    "x14 = solver.Var(0, infinity, integer = False, name = \"Planta1-almacen4\") \n",
    "\n",
    "x21 = solver.Var(0, infinity, integer = False, name = \"Planta2-almacen1\") \n",
    "x22 = solver.Var(0, infinity, integer = False, name = \"Planta2-almacen2\") \n",
    "x23 = solver.Var(0, infinity, integer = False, name = \"Planta2-almacen3\") \n",
    "x24 = solver.Var(0, infinity, integer = False, name = \"Planta2-almacen4\") \n",
    "\n",
    "y11 = solver.Var(0, infinity, integer = False, name = \"almacen1-distri1\") \n",
    "y12 = solver.Var(0, infinity, integer = False, name = \"almacen1-distri2\") \n",
    "y13 = solver.Var(0, infinity, integer = False, name = \"almacen1-distri3\") \n",
    "y14 = solver.Var(0, infinity, integer = False, name = \"almacen1-distri4\") \n",
    "\n",
    "y21 = solver.Var(0, infinity, integer = False, name = \"almacen2-distri1\") \n",
    "y22 = solver.Var(0, infinity, integer = False, name = \"almacen2-distri2\") \n",
    "y23 = solver.Var(0, infinity, integer = False, name = \"almacen2-distri3\") \n",
    "y24 = solver.Var(0, infinity, integer = False, name = \"almacen2-distri4\") \n",
    "\n",
    "y31 = solver.Var(0, infinity, integer = False, name = \"almacen3-distri1\") \n",
    "y32 = solver.Var(0, infinity, integer = False, name = \"almacen3-distri2\") \n",
    "y33 = solver.Var(0, infinity, integer = False, name = \"almacen3-distri3\") \n",
    "y34 = solver.Var(0, infinity, integer = False, name = \"almacen3-distri4\") \n",
    "\n",
    "y41 = solver.Var(0, infinity, integer = False, name = \"almacen4-distri1\") \n",
    "y42 = solver.Var(0, infinity, integer = False, name = \"almacen4-distri2\") \n",
    "y43 = solver.Var(0, infinity, integer = False, name = \"almacen4-distri3\") \n",
    "y44 = solver.Var(0, infinity, integer = False, name = \"almacen4-distri4\") \n",
    "\n",
    "z11 = solver.Var(0, infinity, integer = False, name = \"distri1-cliente1\") \n",
    "z12 = solver.Var(0, infinity, integer = False, name = \"distri1-cliente2\") \n",
    "z13 = solver.Var(0, infinity, integer = False, name = \"distri1-cliente3\") \n",
    "z14 = solver.Var(0, infinity, integer = False, name = \"distri1-cliente4\") \n",
    "z15 = solver.Var(0, infinity, integer = False, name = \"distri1-cliente5\") \n",
    "\n",
    "z21 = solver.Var(0, infinity, integer = False, name = \"distri2-cliente1\") \n",
    "z22 = solver.Var(0, infinity, integer = False, name = \"distri2-cliente2\") \n",
    "z23 = solver.Var(0, infinity, integer = False, name = \"distri2-cliente3\") \n",
    "z24 = solver.Var(0, infinity, integer = False, name = \"distri2-cliente4\") \n",
    "z25 = solver.Var(0, infinity, integer = False, name = \"distri2-cliente5\") \n",
    "\n",
    "z31 = solver.Var(0, infinity, integer = False, name = \"distri3-cliente1\") \n",
    "z32 = solver.Var(0, infinity, integer = False, name = \"distri3-cliente2\") \n",
    "z33 = solver.Var(0, infinity, integer = False, name = \"distri3-cliente3\") \n",
    "z34 = solver.Var(0, infinity, integer = False, name = \"distri3-cliente4\") \n",
    "z35 = solver.Var(0, infinity, integer = False, name = \"distri3-cliente5\") \n",
    "\n",
    "z41 = solver.Var(0, infinity, integer = False, name = \"distri4-cliente1\") \n",
    "z42 = solver.Var(0, infinity, integer = False, name = \"distri4-cliente2\") \n",
    "z43 = solver.Var(0, infinity, integer = False, name = \"distri4-cliente3\") \n",
    "z44 = solver.Var(0, infinity, integer = False, name = \"distri4-cliente4\")\n",
    "z45 = solver.Var(0, infinity, integer = False, name = \"distri4-cliente5\") \n",
    "\n",
    "print(\"Numero de variables =\", solver.NumVariables())"
   ]
  },
  {
   "cell_type": "markdown",
   "metadata": {},
   "source": [
    "### Oferta"
   ]
  },
  {
   "cell_type": "code",
   "execution_count": 12,
   "metadata": {},
   "outputs": [
    {
     "data": {
      "text/plain": [
       "<ortools.linear_solver.pywraplp.Constraint; proxy of <Swig Object of type 'operations_research::MPConstraint *' at 0x000001872A0B6CF0> >"
      ]
     },
     "execution_count": 12,
     "metadata": {},
     "output_type": "execute_result"
    }
   ],
   "source": [
    "solver.Add(x11 + x12 + x13 + x14 <= 3500)\n",
    "solver.Add(x21 + x22 + x23 + x24 <= 3500)"
   ]
  },
  {
   "cell_type": "markdown",
   "metadata": {},
   "source": [
    "### Demanda"
   ]
  },
  {
   "cell_type": "code",
   "execution_count": 13,
   "metadata": {},
   "outputs": [
    {
     "data": {
      "text/plain": [
       "<ortools.linear_solver.pywraplp.Constraint; proxy of <Swig Object of type 'operations_research::MPConstraint *' at 0x000001872A02ED80> >"
      ]
     },
     "execution_count": 13,
     "metadata": {},
     "output_type": "execute_result"
    }
   ],
   "source": [
    "# cliente1\n",
    "solver.Add(z11 + z21 + z31 + z41 >= 1600)\n",
    "# cliente2\n",
    "solver.Add(z12 + z22 + z32 + z42 >= 1000)\n",
    "# cliente3\n",
    "solver.Add(z13 + z23 + z33 + z43 >= 800)\n",
    "# cliente4\n",
    "solver.Add(z14 + z24 + z34 + z44 >= 1100)\n",
    "# cliente5\n",
    "solver.Add(z15 + z25 + z35 + z45 >= 1300)"
   ]
  },
  {
   "cell_type": "markdown",
   "metadata": {},
   "source": [
    "### Entrada=Salida"
   ]
  },
  {
   "cell_type": "code",
   "execution_count": 14,
   "metadata": {},
   "outputs": [
    {
     "name": "stdout",
     "output_type": "stream",
     "text": [
      "Numero de restricciones 13\n"
     ]
    }
   ],
   "source": [
    "# i-j\n",
    "solver.Add(x11 + x12 + x13 + x14 - y11 - y12 - y13 - y14 == 0)\n",
    "solver.Add(x21 + x22 + x23 + x24 - y11 - y12 - y13 - y14 == 0)\n",
    "\n",
    "# j-k\n",
    "solver.Add(y11 + y21 + y31 + y41 - z11 - z12 - z13 - z14 - z15 == 0)\n",
    "\n",
    "solver.Add(y12 + y22 + y32 + y42 - z21 - z22 - z23 - z24 - z25 == 0)\n",
    "\n",
    "solver.Add(y13 + y23 + y33 + y43 - z31 - z32 - z33 - z34 - z35 == 0)\n",
    "\n",
    "solver.Add(y14 + y24 + y34 + y44 - z41 - z42 - z43 - z44 - z45 == 0)\n",
    "\n",
    "\n",
    "print(\"Numero de restricciones\", solver.NumConstraints())"
   ]
  },
  {
   "cell_type": "markdown",
   "metadata": {},
   "source": [
    "## Funcion Objetivo"
   ]
  },
  {
   "cell_type": "code",
   "execution_count": 15,
   "metadata": {},
   "outputs": [],
   "source": [
    "solver.Minimize(\n",
    "    16 * x11\n",
    "    + 11 * x12\n",
    "    + 17 * x13\n",
    "    + 18 * x14\n",
    "    + 15 * x21\n",
    "    + 12 * x22\n",
    "    + 19 * x23\n",
    "    + 7 * x24\n",
    "    + 18 * y11\n",
    "    + 20 * y12\n",
    "    + 25 * y13\n",
    "    + 19 * y14\n",
    "    + 21 * y21\n",
    "    + 16 * y22\n",
    "    + 23 * y23\n",
    "    + 29 * y24\n",
    "    + 28 * y31\n",
    "    + 23 * y32\n",
    "    + 19 * y33\n",
    "    + 26 * y34\n",
    "    + 18 * y41\n",
    "    + 15 * y42\n",
    "    + 17 * y43\n",
    "    + 20 * y44\n",
    "    + 16 * z11\n",
    "    + 18 * z12\n",
    "    + 5 * z13\n",
    "    + 19 * z14\n",
    "    + 13 * z15\n",
    "    + 18 * z21\n",
    "    + 19 * z22\n",
    "    + 7 * z23\n",
    "    + 10 * z24\n",
    "    + 5 * z25\n",
    "    + 17 * z31\n",
    "    + 20 * z32\n",
    "    + 20 * z33\n",
    "    + 6 * z34\n",
    "    + 13 * z35\n",
    "    + 14 * z41\n",
    "    + 7 * z42\n",
    "    + 8 * z43\n",
    "    + 8 * z44\n",
    "    + 17 * z45\n",
    ")"
   ]
  },
  {
   "cell_type": "code",
   "execution_count": 16,
   "metadata": {},
   "outputs": [
    {
     "name": "stdout",
     "output_type": "stream",
     "text": [
      "Solución\n",
      "Valor de la Función Objetivo a Maximizar es:  148700.0\n",
      "Can  Planta1-almacen1 :  0.0\n",
      "Can  Planta1-almacen2 :  0.0\n",
      "Can  Planta1-almacen3 :  0.0\n",
      "Can  Planta1-almacen4 :  0.0\n",
      "Can  Planta2-almacen1 :  0.0\n",
      "Can  Planta2-almacen2 :  0.0\n",
      "Can  Planta2-almacen3 :  0.0\n",
      "Can  Planta2-almacen4 :  0.0\n",
      "Can  almacen1-distri1 :  0.0\n",
      "Can  almacen1-distri2 :  0.0\n",
      "Can  almacen1-distri3 :  0.0\n",
      "Can  almacen1-distri4 :  0.0\n",
      "Can  almacen2-distri1 :  0.0\n",
      "Can  almacen2-distri2 :  0.0\n",
      "Can  almacen2-distri3 :  0.0\n",
      "Can  almacen2-distri4 :  0.0\n",
      "Can  almacen3-distri1 :  0.0\n",
      "Can  almacen3-distri2 :  0.0\n",
      "Can  almacen3-distri3 :  0.0\n",
      "Can  almacen3-distri4 :  0.0\n",
      "Can  almacen4-distri1 :  0.0\n",
      "Can  almacen4-distri2 :  3700.0\n",
      "Can  almacen4-distri3 :  1100.0\n",
      "Can  almacen4-distri4 :  1000.0\n",
      "Can  distri1-cliente1 :  0.0\n",
      "Can  distri1-cliente2 :  0.0\n",
      "Can  distri1-cliente3 :  0.0\n",
      "Can  distri1-cliente4 :  0.0\n",
      "Can  distri1-cliente5 :  0.0\n",
      "Can  distri2-cliente1 :  1600.0\n",
      "Can  distri2-cliente2 :  0.0\n",
      "Can  distri2-cliente3 :  800.0\n",
      "Can  distri2-cliente4 :  0.0\n",
      "Can  distri2-cliente5 :  1300.0\n",
      "Can  distri3-cliente1 :  0.0\n",
      "Can  distri3-cliente2 :  0.0\n",
      "Can  distri3-cliente3 :  0.0\n",
      "Can  distri3-cliente4 :  1100.0\n",
      "Can  distri3-cliente5 :  0.0\n",
      "Can  distri4-cliente1 :  0.0\n",
      "Can  distri4-cliente2 :  1000.0\n",
      "Can  distri4-cliente3 :  0.0\n",
      "Can  distri4-cliente4 :  0.0\n",
      "Can  distri4-cliente5 :  0.0\n"
     ]
    }
   ],
   "source": [
    "status = solver.Solve()\n",
    "results={}\n",
    "if status == pywraplp.Solver.OPTIMAL:\n",
    "    print(\"Solución\")\n",
    "    print(\"Valor de la Función Objetivo a Minimizar es: \", solver.Objective().Value())\n",
    "\n",
    "    print(\"Can \", x11, \": \", x11.solution_value())\n",
    "    print(\"Can \", x12, \": \", x12.solution_value())\n",
    "    print(\"Can \", x13, \": \", x13.solution_value())\n",
    "    print(\"Can \", x14, \": \", x14.solution_value())\n",
    "    print(\"Can \", x21, \": \", x21.solution_value())\n",
    "    print(\"Can \", x22, \": \", x22.solution_value())\n",
    "    print(\"Can \", x23, \": \", x23.solution_value())\n",
    "    print(\"Can \", x24, \": \", x24.solution_value())\n",
    "    print(\"Can \", y11, \": \", y11.solution_value())\n",
    "    print(\"Can \", y12, \": \", y12.solution_value())\n",
    "    print(\"Can \", y13, \": \", y13.solution_value())\n",
    "    print(\"Can \", y14, \": \", y14.solution_value())\n",
    "    print(\"Can \", y21, \": \", y21.solution_value())\n",
    "    print(\"Can \", y22, \": \", y22.solution_value())\n",
    "    print(\"Can \", y23, \": \", y23.solution_value())\n",
    "    print(\"Can \", y24, \": \", y24.solution_value())\n",
    "    print(\"Can \", y31, \": \", y31.solution_value())\n",
    "    print(\"Can \", y32, \": \", y32.solution_value())\n",
    "    print(\"Can \", y33, \": \", y33.solution_value())\n",
    "    print(\"Can \", y34, \": \", y34.solution_value())\n",
    "    print(\"Can \", y41, \": \", y41.solution_value())\n",
    "    print(\"Can \", y42, \": \", y42.solution_value())\n",
    "    print(\"Can \", y43, \": \", y43.solution_value())\n",
    "    print(\"Can \", y44, \": \", y44.solution_value())\n",
    "    print(\"Can \", z11, \": \", z11.solution_value())\n",
    "    print(\"Can \", z12, \": \", z12.solution_value())\n",
    "    print(\"Can \", z13, \": \", z13.solution_value())\n",
    "    print(\"Can \", z14, \": \", z14.solution_value())\n",
    "    print(\"Can \", z15, \": \", z15.solution_value())\n",
    "    print(\"Can \", z21, \": \", z21.solution_value())\n",
    "    print(\"Can \", z22, \": \", z22.solution_value())\n",
    "    print(\"Can \", z23, \": \", z23.solution_value())\n",
    "    print(\"Can \", z24, \": \", z24.solution_value())\n",
    "    print(\"Can \", z25, \": \", z25.solution_value())\n",
    "    print(\"Can \", z31, \": \", z31.solution_value())\n",
    "    print(\"Can \", z32, \": \", z32.solution_value())\n",
    "    print(\"Can \", z33, \": \", z33.solution_value())\n",
    "    print(\"Can \", z34, \": \", z34.solution_value())\n",
    "    print(\"Can \", z35, \": \", z35.solution_value())\n",
    "    print(\"Can \", z41, \": \", z41.solution_value())\n",
    "    print(\"Can \", z42, \": \", z42.solution_value())\n",
    "    print(\"Can \", z43, \": \", z43.solution_value())\n",
    "    print(\"Can \", z44, \": \", z44.solution_value())\n",
    "    print(\"Can \", z45, \": \", z45.solution_value())\n",
    "\n",
    "\n",
    "else:\n",
    "    print(\"El modelo no tiene una solución optima\")"
   ]
  }
 ],
 "metadata": {
  "kernelspec": {
   "display_name": "env",
   "language": "python",
   "name": "python3"
  },
  "language_info": {
   "codemirror_mode": {
    "name": "ipython",
    "version": 3
   },
   "file_extension": ".py",
   "mimetype": "text/x-python",
   "name": "python",
   "nbconvert_exporter": "python",
   "pygments_lexer": "ipython3",
   "version": "3.8.7"
  }
 },
 "nbformat": 4,
 "nbformat_minor": 2
}

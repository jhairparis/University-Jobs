{
 "cells": [
  {
   "cell_type": "code",
   "execution_count": 5,
   "metadata": {},
   "outputs": [],
   "source": [
    "from ortools.linear_solver import pywraplp"
   ]
  },
  {
   "cell_type": "markdown",
   "metadata": {},
   "source": [
    "## Índices\n",
    "\n",
    "Fabricas {Envigado, Palmira, Ibagué} $\\rightarrow i$\n",
    "\n",
    "Almacén de Emsamble {Pereira, Armenia} $\\rightarrow j$  \n",
    "\n",
    "Almacén de Terminado {Pereira, Armenia} $\\rightarrow k$  \n",
    "\n",
    "Clientes {Duitama, Cartago} $\\rightarrow m$"
   ]
  },
  {
   "cell_type": "markdown",
   "metadata": {},
   "source": [
    "## Variables de Desición\n",
    "\n",
    "$x_{ij} \\rightarrow$ de la fabrica $i$ al Almacén de emsamble $j$ $\\forall{ij}$\n",
    "\n",
    "$y_{jk}\\rightarrow $ del Almacén de Ensamble $j$ al Almacén de Terminado $k$ $\\forall{jk}$  \n",
    "\n",
    "$P_{km}\\rightarrow $ del Almacén de Terminado $k$ al Destino $m$ $\\forall{km}$"
   ]
  },
  {
   "cell_type": "code",
   "execution_count": 6,
   "metadata": {},
   "outputs": [
    {
     "name": "stdout",
     "output_type": "stream",
     "text": [
      "Numero de variables = 6\n"
     ]
    }
   ],
   "source": [
    "solver = pywraplp.Solver(\"simple_mip_program\", pywraplp.Solver.CBC_MIXED_INTEGER_PROGRAMMING)\n",
    "# solver = pywraplp.Solver.CreateSolver(\"GLOP\")\n",
    "infinity = solver.infinity()\n",
    "\n",
    "x1 = solver.IntVar (0, 1,  name = \"iPad\") # 500\n",
    "x2 = solver.IntVar(0, 1,  name = \"Bono\") # 1200\n",
    "x3= solver.IntVar(0, 1,  name = \"Anillo\") # 2000\n",
    "x4 = solver.IntVar(0, 1,  name = \"Dataserver\") # 1300\n",
    "x5 = solver.IntVar(0, 1,  name = \"Tutorira en IO\") # 2100\n",
    "x6 = solver.IntVar(0, 1,  name = \"Cena con el director\") # 1900\n",
    "\n",
    "print(\"Numero de variables =\", solver.NumVariables())"
   ]
  },
  {
   "cell_type": "markdown",
   "metadata": {},
   "source": [
    "## Restriciones"
   ]
  },
  {
   "cell_type": "code",
   "execution_count": 7,
   "metadata": {},
   "outputs": [
    {
     "data": {
      "text/plain": [
       "<ortools.linear_solver.pywraplp.Constraint; proxy of <Swig Object of type 'operations_research::MPConstraint *' at 0x000001BB49644FC0> >"
      ]
     },
     "execution_count": 7,
     "metadata": {},
     "output_type": "execute_result"
    }
   ],
   "source": [
    "solver.Add((5*x1) + (3*x2) + (4*x3) + (7*x4)+ (4*x5) + (6*x6) <= 14)"
   ]
  },
  {
   "cell_type": "markdown",
   "metadata": {},
   "source": [
    "## Funcion Objetivo"
   ]
  },
  {
   "cell_type": "code",
   "execution_count": 8,
   "metadata": {},
   "outputs": [],
   "source": [
    "solver.Maximize(16*x1 + 8*x2 + 12*x3 + 22*x4 + 11*x5 + 19*x6)"
   ]
  },
  {
   "cell_type": "markdown",
   "metadata": {},
   "source": [
    "## Solucion"
   ]
  },
  {
   "cell_type": "code",
   "execution_count": 9,
   "metadata": {},
   "outputs": [
    {
     "name": "stdout",
     "output_type": "stream",
     "text": [
      "Solución\n",
      "Valor de la Función Objetivo a Maximizar es:  43.0\n",
      "Cnt  iPad :  1.0\n",
      "Cnt  Bono :  1.0\n",
      "Cnt  Anillo :  0.0\n",
      "Cnt  Dataserver :  0.0\n",
      "Cnt  Tutorira en IO :  0.0\n",
      "Cnt  Cena con el director :  1.0\n"
     ]
    }
   ],
   "source": [
    "status = solver.Solve()\n",
    "\n",
    "if status == pywraplp.Solver.OPTIMAL:\n",
    "    print(\"Solución\")\n",
    "    print(\"Valor de la Función Objetivo a Maximizar es: \", solver.Objective().Value())\n",
    "\n",
    "    print(\"Cnt \", x1, \": \", x1.solution_value())\n",
    "    print(\"Cnt \", x2, \": \", x2.solution_value())\n",
    "    print(\"Cnt \", x3, \": \", x3.solution_value())\n",
    "    print(\"Cnt \", x4, \": \", x4.solution_value())\n",
    "    print(\"Cnt \", x5, \": \", x5.solution_value())\n",
    "    print(\"Cnt \", x6, \": \", x6.solution_value())\n",
    "\n",
    "else:\n",
    "    print(\"El modelo no tiene una solución optima\")"
   ]
  }
 ],
 "metadata": {
  "kernelspec": {
   "display_name": "Python 3",
   "language": "python",
   "name": "python3"
  },
  "language_info": {
   "codemirror_mode": {
    "name": "ipython",
    "version": 3
   },
   "file_extension": ".py",
   "mimetype": "text/x-python",
   "name": "python",
   "nbconvert_exporter": "python",
   "pygments_lexer": "ipython3",
   "version": "3.8.7"
  }
 },
 "nbformat": 4,
 "nbformat_minor": 2
}

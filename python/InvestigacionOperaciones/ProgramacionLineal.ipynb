{
 "cells": [
  {
   "cell_type": "markdown",
   "metadata": {},
   "source": [
    "# Programación Lineal\n",
    "\n",
    "[![Open In Colab](https://colab.research.google.com/assets/colab-badge.svg)](https://colab.research.google.com/github/jhairparis/University-Jobs/blob/master/python/InvestigacionOperaciones/ProgramacionLineal.ipynb)\n",
    "\n",
    "Formule los problemas de programación lineal para cada uno de los ejercicios propuestos, solucione usando ORtools en Python y describa su respectiva solución, si existe."
   ]
  },
  {
   "cell_type": "markdown",
   "metadata": {},
   "source": [
    "## Librerias Necesarias"
   ]
  },
  {
   "cell_type": "code",
   "execution_count": 1,
   "metadata": {},
   "outputs": [],
   "source": [
    "from ortools.linear_solver import pywraplp"
   ]
  },
  {
   "cell_type": "markdown",
   "metadata": {},
   "source": [
    "### Install\n"
   ]
  },
  {
   "cell_type": "code",
   "execution_count": null,
   "metadata": {},
   "outputs": [],
   "source": [
    "%pip install ortools"
   ]
  },
  {
   "cell_type": "markdown",
   "metadata": {},
   "source": [
    "## Primer Punto"
   ]
  },
  {
   "cell_type": "markdown",
   "metadata": {},
   "source": [
    "### Proposición"
   ]
  },
  {
   "cell_type": "markdown",
   "metadata": {},
   "source": [
    "Envigado, Palmira, Ibagué, las cuales pueden producir respectivamente 180, 110 y 230 carrocerías cada  una, para el año 2025 los sistemas masivos de transporte están solicitando están carrocerías de buses  BRT así: Bogotá 210, Cali 75, Bucaramanga 65 y Medellín 90, las carrocerías producidas en Envigado e  Ibagué pueden ser enviados a los almacenes de ensamble primario ubicados en Pereira y Armenia, pero  Palmira solo envía al almacén de ensamble primario ubicado en Armenia, estos almacenes de ensamble  primario, envían a su vez a cualquiera de los almacenes de terminado ubicados en Duitama y Cartago,  Ninguno de los almacenes ni de ensamble o terminado almacena carrocerías en inventario, por  consiguiente deben enviar todas las carrocerías que reciben.\n",
    "\n",
    "Los clientes de Cali y Bucaramanga pueden recibir las carrocerías de cualquiera de los almacenes de terminado, sin embargo, por un tema de contratación los clientes de Bogotá deben obtener las carrocerías exclusivamente de Duitama y los de Medellín solo de Cartago, los costos de envío de las carrocerías a los almacenes de ensamble y de estos a los almacenes de terminado y de estos últimos a  los clientes se dan a continuación:\n",
    "\n",
    "#### COSTOS DE ALMACENES DE ENSAMBLE TRANSPORTE\n",
    "\n",
    "| FABRICAS | PEREIRA | ARMENIA |\n",
    "| -------- | ------- | ------- |\n",
    "| ENVIGADO | 500     | 1200    |\n",
    "| PALMIRA  | -       | 2000    |\n",
    "| IBAGUE   | 1300    | 2100    |\n",
    "\n",
    "#### COSTOS DE TRANSPORTE ALMACENES DE TERMINADO\n",
    "\n",
    "\n",
    "| ALM. ENSAMBLE | DUITAMA | CARTAGO |\n",
    "| ------------- | ------- | ------- |\n",
    "| PEREIRA       | 1900    | 1300    |\n",
    "| ARMENIA       | 1450    | 1370    |\n",
    "\n",
    "#### COSTOS DE TRANSPORTE CLIENTES FINALES\n",
    "\n",
    "| ALM.TERMINADO | BOGOTA | CALI | B/MGA | MEDELLIN |\n",
    "| ------------- | ------ | ---- | ----- | -------- |\n",
    "| DUITAMA       | 2300   | 2100 | 1700  | -        |\n",
    "| CARTAGO       | -      | 1400 | 2300  | 1800     |\n",
    "\n",
    "![image.png](./images/Grafico%20punto%201.png)"
   ]
  },
  {
   "cell_type": "markdown",
   "metadata": {},
   "source": [
    "\n",
    "### Model "
   ]
  },
  {
   "cell_type": "code",
   "execution_count": 2,
   "metadata": {},
   "outputs": [],
   "source": [
    "solver = pywraplp.Solver.CreateSolver(\"GLOP\")\n",
    "infinity = solver.infinity()"
   ]
  },
  {
   "cell_type": "markdown",
   "metadata": {},
   "source": [
    "#### Conjuntos:\n",
    "\n",
    "- **Fábricas:** $\\rightarrow i$ = {Envigado, Palmira, Ibagué}\n",
    "- **Almacenes de Ensamble Primario:** $\\rightarrow j$ = {Pereira, Armenia}\n",
    "- **Almacenes de Terminado:** $\\rightarrow k$ = {Duitama, Cartago}\n",
    "- **Clientes:** $\\rightarrow m$ = {Bogotá, Cali, Bucaramanga, Medellín}"
   ]
  },
  {
   "cell_type": "markdown",
   "metadata": {},
   "source": [
    "#### Variables de Desición\n",
    "\n",
    "- $x_{ij} \\rightarrow$ de la fabrica $i$ al Almacén de emsamble $j$ $\\forall{ij}$\n",
    "\n",
    "- $y_{jk} \\rightarrow$ del Almacén de Ensamble $j$ al Almacén de Terminado $k$ $\\forall{jk}$  \n",
    "\n",
    "- $P_{km} \\rightarrow$ del Almacén de Terminado $k$ al Destino $m$ $\\forall{km}$"
   ]
  },
  {
   "cell_type": "code",
   "execution_count": 3,
   "metadata": {},
   "outputs": [
    {
     "name": "stdout",
     "output_type": "stream",
     "text": [
      "Numero de variables = 15\n"
     ]
    }
   ],
   "source": [
    "xEP = solver.Var(0, infinity, integer = False, name = \"Envigado - Pereira\") # 500\n",
    "xEA = solver.Var(0, infinity, integer = False, name = \"Envigado - Armenia\") # 1200\n",
    "xPA = solver.Var(0, infinity, integer = False, name = \"Palmira - Armenia\") # 2000\n",
    "xIP = solver.Var(0, infinity, integer = False, name = \"Ibague - Pereira\") # 1300\n",
    "xIA = solver.Var(0, infinity, integer = False, name = \"Ibague - Armenia\") # 2100\n",
    "\n",
    "yPD = solver.Var(0, infinity, integer = False, name = \"Pereira - Duitama\") # 1900\n",
    "yPC = solver.Var(0, infinity, integer = False, name = \"Pereira - Cartago\") # 1300\n",
    "yAD = solver.Var(0, infinity, integer = False, name = \"Armenia - Duitama\") # 1450\n",
    "yAC = solver.Var(0, infinity, integer = False, name = \"Armenia - Cartago\") # 1370\n",
    "\n",
    "pDBo = solver.Var(0, infinity, integer = False, name = \"Duitama - Bogotá\") # 2300\n",
    "pDC = solver.Var(0, infinity, integer = False, name = \"Duitama - Cali\") # 2100\n",
    "pDBu = solver.Var(0, infinity, integer = False, name = \"Duitama - Bucaramanga\") # 1700\n",
    "pCC = solver.Var(0, infinity, integer = False, name = \"Cartago - Cali\") # 1400\n",
    "pCBu = solver.Var(0, infinity, integer = False, name = \"Cartago - Bucaramanga\") # 2300\n",
    "pCM = solver.Var(0, infinity, integer = False, name = \"Cartago - Medallin\") # 1800\n",
    "\n",
    "\n",
    "print(\"Numero de variables =\", solver.NumVariables())"
   ]
  },
  {
   "cell_type": "markdown",
   "metadata": {},
   "source": [
    "#### Restriciones"
   ]
  },
  {
   "cell_type": "markdown",
   "metadata": {},
   "source": [
    "##### Oferta"
   ]
  },
  {
   "cell_type": "code",
   "execution_count": 4,
   "metadata": {},
   "outputs": [
    {
     "data": {
      "text/plain": [
       "<ortools.linear_solver.pywraplp.Constraint; proxy of <Swig Object of type 'operations_research::MPConstraint *' at 0x0000024B18C9EED0> >"
      ]
     },
     "execution_count": 4,
     "metadata": {},
     "output_type": "execute_result"
    }
   ],
   "source": [
    "solver.Add(xEP + xEA <= 180)\n",
    "solver.Add(xPA <= 110)\n",
    "solver.Add(xIP + xIA <= 230)"
   ]
  },
  {
   "cell_type": "markdown",
   "metadata": {},
   "source": [
    "##### Demanda"
   ]
  },
  {
   "cell_type": "code",
   "execution_count": 5,
   "metadata": {},
   "outputs": [
    {
     "data": {
      "text/plain": [
       "<ortools.linear_solver.pywraplp.Constraint; proxy of <Swig Object of type 'operations_research::MPConstraint *' at 0x0000024B18C54DB0> >"
      ]
     },
     "execution_count": 5,
     "metadata": {},
     "output_type": "execute_result"
    }
   ],
   "source": [
    "solver.Add(pDBo >= 210)\n",
    "solver.Add(pCM <= 90)\n",
    "solver.Add(pDC + pCC <= 75)\n",
    "solver.Add(pDBu + pCBu <= 65)"
   ]
  },
  {
   "cell_type": "markdown",
   "metadata": {},
   "source": [
    "##### Entrada == Salida"
   ]
  },
  {
   "cell_type": "code",
   "execution_count": 7,
   "metadata": {},
   "outputs": [
    {
     "name": "stdout",
     "output_type": "stream",
     "text": [
      "Numero de restricciones 15\n"
     ]
    }
   ],
   "source": [
    "solver.Add(xEP + xIP - yPD - yPC == 0)\n",
    "solver.Add(xEA + xPA + xIA - yAD - yAC == 0)\n",
    "\n",
    "solver.Add(yPD + yAD - pDBo - pDC - pDBu == 0)\n",
    "solver.Add(yPC + yAC - pCC - pCBu - pCM == 0)\n",
    "\n",
    "print(\"Numero de restricciones\", solver.NumConstraints())"
   ]
  },
  {
   "cell_type": "markdown",
   "metadata": {},
   "source": [
    "#### Funcion Objetivo"
   ]
  },
  {
   "cell_type": "markdown",
   "metadata": {},
   "source": [
    "$Min\\;z = \\sum_{ij}X_{ij}*C_{ij}+\\sum_{jk}Y_{jk}*C_{jk}+\\sum_{km}P_{km}*C_{km}$"
   ]
  },
  {
   "cell_type": "code",
   "execution_count": 8,
   "metadata": {},
   "outputs": [],
   "source": [
    "\n",
    "solver.Minimize(500*xEP + 1200*xEA + 2000*xPA \n",
    "\t\t\t\t+ 1300*xIP + 2100*xIA \n",
    "\t\t\t\t+ 1900*yPD + 1300*yPC + 1450*yAD + 1370*yAC \n",
    "\t\t\t\t+ 2300*pDBo + 2100*pDC + 1700*pDBu + 1400*pCC + 2300*pCBu + 1800*pCM)"
   ]
  },
  {
   "cell_type": "markdown",
   "metadata": {},
   "source": [
    "### Solucion"
   ]
  },
  {
   "cell_type": "code",
   "execution_count": 9,
   "metadata": {},
   "outputs": [
    {
     "name": "stdout",
     "output_type": "stream",
     "text": [
      "Solución\n",
      "Valor de la Función Objetivo a Maximizar es:  1011000.0\n",
      "Cnt  Envigado - Pereira :  180.0\n",
      "Cnt  Envigado - Armenia :  0.0\n",
      "Cnt  Palmira - Armenia :  0.0\n",
      "Cnt  Ibague - Pereira :  30.000000000000007\n",
      "Cnt  Ibague - Armenia :  0.0\n",
      "Cnt  Pereira - Duitama :  210.0\n",
      "Cnt  Pereira - Cartago :  0.0\n",
      "Cnt  Armenia - Duitama :  0.0\n",
      "Cnt  Armenia - Cartago :  0.0\n",
      "Cnt Duitama - Bogotá :  210.0\n",
      "Cnt  Duitama - Cali :  0.0\n",
      "Cnt Duitama - Bucaramanga :  0.0\n",
      "Cnt  Cartago - Cali :  -0.0\n",
      "Cnt Cartago - Bucaramanga :  0.0\n",
      "Cnt  Cartago - Medallin :  0.0\n"
     ]
    }
   ],
   "source": [
    "status = solver.Solve()\n",
    "\n",
    "if status == pywraplp.Solver.OPTIMAL:\n",
    "    print(\"Solución\")\n",
    "    print(\"Valor de la Función Objetivo a Maximizar es: \", solver.Objective().Value())\n",
    "\n",
    "    print(\"Cnt \", xEP, \": \", xEP.solution_value())\n",
    "    print(\"Cnt \", xEA, \": \", xEA.solution_value())\n",
    "    print(\"Cnt \", xPA, \": \", xPA.solution_value())\n",
    "    print(\"Cnt \", xIP, \": \", xIP.solution_value())\n",
    "    print(\"Cnt \", xIA, \": \", xIA.solution_value())\n",
    "    print(\"Cnt \", yPD, \": \", yPD.solution_value())\n",
    "    print(\"Cnt \", yPC, \": \", yPC.solution_value())\n",
    "    print(\"Cnt \", yAD, \": \", yAD.solution_value())\n",
    "    print(\"Cnt \", yAC, \": \", yAC.solution_value())\n",
    "    print(\"Cnt\", pDBo, \": \", pDBo.solution_value())\n",
    "    print(\"Cnt \", pDC, \": \", pDC.solution_value())\n",
    "    print(\"Cnt\", pDBu, \": \", pDBu.solution_value())\n",
    "    print(\"Cnt \", pCC, \": \", pCC.solution_value())\n",
    "    print(\"Cnt\", pCBu, \": \", pCBu.solution_value())\n",
    "    print(\"Cnt \", pCM, \": \", pCM.solution_value())\n",
    "\n",
    "else:\n",
    "    print(\"El modelo no tiene una solución optima\")"
   ]
  },
  {
   "cell_type": "markdown",
   "metadata": {},
   "source": [
    "## Segundo Punto"
   ]
  },
  {
   "cell_type": "markdown",
   "metadata": {},
   "source": [
    "### Proposición"
   ]
  },
  {
   "cell_type": "markdown",
   "metadata": {},
   "source": [
    "### Model "
   ]
  },
  {
   "cell_type": "markdown",
   "metadata": {},
   "source": [
    "### Solucion"
   ]
  },
  {
   "cell_type": "markdown",
   "metadata": {},
   "source": [
    "## Tercer Punto"
   ]
  },
  {
   "cell_type": "markdown",
   "metadata": {},
   "source": [
    "### Proposición"
   ]
  },
  {
   "cell_type": "markdown",
   "metadata": {},
   "source": [
    "La empresa francesa de trenes SNCF en su modelo de negocio para el transporte de pasajeros, considera en el trayecto París – Lyon las siguientes políticas para la venta de sus asientos, para no entrar en perdidas los asientos se deben vender como mínimo a 50 euros los de clase normal, y 75 euros los de clase Premium. Los pasajeros que compren los tiquetes con un tiempo mayor a 6 meses de anticipación pagaran el precio base más un 20% de incremento, los tiquetes con un tiempo mayor a 3 meses de anticipación pagaran el precio base más un 45% de incremento, el resto de los tiquetes vendidos se cobran teniendo en cuenta el precio base más un 80% de incremento. Los estudiantes obtienen un descuento de 10 euros en sus asientos clase normal sin importar la fecha de compra, y 8 para la clase premium solo si son comprados con un tiempo de anticipación mayor a 3 meses.\n",
    "\n",
    "Los poseedores de la tarjeta joven, con menos de 26 años tienen un descuento de 8 euros en sus asientos clase normal sin importar la fecha de compra, y 4 para la clase premium solo si son comprados con un tiempo de anticipación mayor a 3 meses. Los adultos mayores cuentan con las mismas condiciones de los menores 26 años, solo que para ellos el descuento corresponde a la mitad del de los estudiantes.\n",
    "El tren cuenta con 640 plazas disponibles, de las cuales el 35% son de clase Premium. La empresa estima que los estudiantes ocupan como mínimo la una cuarta parte del tren, las plazas Premium se venden al menos en un 40%, de estas los estudiantes adquieren como mínimo un 80% antes de 3 meses. Los adultos mayores ocupan como mínimo el 60% de la clase normal, al menos la mitad de estas son adquiridas antes del último mes"
   ]
  },
  {
   "cell_type": "markdown",
   "metadata": {},
   "source": [
    "### Model "
   ]
  },
  {
   "cell_type": "code",
   "execution_count": 2,
   "metadata": {},
   "outputs": [],
   "source": [
    "solver = pywraplp.Solver.CreateSolver(\"GLOP\")\n",
    "infinity = solver.infinity()\n",
    "\n",
    "model_data = {}"
   ]
  },
  {
   "cell_type": "markdown",
   "metadata": {},
   "source": [
    "#### Conjunto(s)\n",
    "\n",
    "- $i$ = {Normal, Premium}\n",
    "- $j$ = {6MesesAntes, 3MesesAntes , normal}\n",
    "- $k$ = {personas, personasViejietas, estudiantes, jovenes}"
   ]
  },
  {
   "cell_type": "markdown",
   "metadata": {},
   "source": [
    "#### Variables de Desición\n",
    "\n",
    "- $x_{ijk} \\rightarrow$ Cantidad de asientos de $C_i$ comprados en el $tiempo_j$ siendo $persona_k$"
   ]
  },
  {
   "cell_type": "code",
   "execution_count": 3,
   "metadata": {},
   "outputs": [],
   "source": [
    "model_data[\"num_variables\"] = 24\n",
    "model_data[\"Nombres variables\"] = [\n",
    "    \"Normal-6antes-persona\",\n",
    "    \"Normal-6antes-personaVieja\",\n",
    "    \"Normal-6antes-estudiante\",\n",
    "    \"Normal-6antes-joven\",\n",
    "    \"Premium-6antes-persona\",\n",
    "    \"Premium-6antes-personaVieja\",\n",
    "    \"Premium-6antes-estudiante\",\n",
    "    \"Premium-6antes-joven\",\n",
    "    # -\n",
    "    \"Normal-3antes-persona\",\n",
    "    \"Normal-3antes-personaVieja\",\n",
    "    \"Normal-3antes-estudiante\",\n",
    "    \"Normal-3antes-joven\",\n",
    "    \"Premium-3antes-persona\",\n",
    "    \"Premium-3antes-personaVieja\",\n",
    "    \"Premium-3antes-estudiante\",\n",
    "    \"Premium-3antes-joven\",\n",
    "    # -\n",
    "    \"Normal-normal-persona\",\n",
    "    \"Normal-normal-personaVieja\",\n",
    "    \"Normal-normal-estudiante\",\n",
    "    \"Normal-normal-joven\",\n",
    "    \"Premium-normal-persona\",\n",
    "    \"Premium-normal-personaVieja\",\n",
    "    \"Premium-normal-estudiante\",\n",
    "    \"Premium-normal-joven\",\n",
    "]"
   ]
  },
  {
   "cell_type": "code",
   "execution_count": 4,
   "metadata": {},
   "outputs": [
    {
     "name": "stdout",
     "output_type": "stream",
     "text": [
      "numero de variables = 24\n"
     ]
    }
   ],
   "source": [
    "infinito = solver.infinity()\n",
    "x = {}\n",
    "\n",
    "for j in range(model_data[\"num_variables\"]):\n",
    "    x[j] = solver.Var(\n",
    "        0, infinito, integer=False, name=model_data[\"Nombres variables\"][j]\n",
    "    )\n",
    "\n",
    "print(\"numero de variables =\", solver.NumVariables())"
   ]
  },
  {
   "cell_type": "markdown",
   "metadata": {},
   "source": [
    "#### Restriciones"
   ]
  },
  {
   "cell_type": "markdown",
   "metadata": {},
   "source": [
    "**Numero de plazas disponibles**\n",
    "$\\sum_{i} \\sum_{j} \\sum_{k} X_{ijk} \\leq 640$\n",
    "\n",
    "**35% son premium**\n",
    "$\\sum_{j} \\sum_{k} X_{2,j,k} \\leq 640*0.35=224$\n",
    "\n",
    "**Ocupacion 1/4 de estudiantes**\n",
    "$\\sum_{i} \\sum_{j} X_{i,j,3} \\leq \\frac{1}{4}640=160$\n",
    "\n",
    "**se venden un 40%  de premium**\n",
    "$\\sum_{j} \\sum_{k} X_{2,j,k} \\geq 224*40\\%=112$\n",
    "\n",
    "**Estudiantes adquieren 80% antes  de los 3 meses de los premium**\n",
    "$\\sum_{j} X_{2,j,3} \\geq 112*80\\% =89.6$\n",
    "\n",
    "**Los adultos mayores ocupan como mínimo el 60% de la clase normal**\n",
    "$\\sum_{k} X_{1,k,2} \\geq ((640*65\\%)*60\\%)=249.6$\n",
    "\n",
    "**al menos la mitad de estas son adquiridas antes del último mes**\n",
    "$X_{1,3,2} \\geq 249.6*50\\%=124.8$\n"
   ]
  },
  {
   "cell_type": "code",
   "execution_count": 5,
   "metadata": {},
   "outputs": [],
   "source": [
    "model_data[\"num_restricciones\"] = 7\n",
    "model_data[\"Nombres restricciones\"] = [\n",
    "    \"Numero de plazas disponibles\",\n",
    "    \"0.35 son premium\",\n",
    "    \"Ocupacion 1/4 de estudiantes\",\n",
    "    \"Se venden un 0.4 de premium\",\n",
    "    \"Estudiantes adquieren 0.8 antes  de los 3 meses de los premium\",\n",
    "    \"Los adultos mayores ocupan como mínimo el 0.6 de la clase normal\",\n",
    "    \"Al menos la mitad de estas son adquiridas antes del último mes\",\n",
    "]\n",
    "\n",
    "model_data[\"coeficientes_restricciones\"] = [\n",
    "    [1, 1, 1, 1, 1, 1, 1, 1, 1, 1, 1, 1, 1, 1, 1, 1, 1, 1, 1, 1, 1, 1, 1, 1],\n",
    "    [0, 0, 0, 0, 1, 1, 1, 1, 0, 0, 0, 0, 1, 1, 1, 1, 0, 0, 0, 0, 1, 1, 1, 1],\n",
    "    [0, 0, 1, 0, 0, 0, 1, 0, 0, 0, 1, 0, 0, 0, 1, 0, 0, 0, 1, 0, 0, 0, 1, 0],\n",
    "    [0, 0, 0, 0, 1, 1, 1, 1, 0, 0, 0, 0, 1, 1, 1, 1, 0, 0, 0, 0, 1, 1, 1, 1],\n",
    "    [0, 0, 0, 0, 0, 0, 1, 0, 0, 0, 0, 0, 0, 0, 1, 0, 0, 0, 0, 0, 0, 0, 1, 0],\n",
    "    [0, 1, 0, 0, 0, 0, 0, 0, 0, 1, 0, 0, 0, 0, 0, 0, 0, 1, 0, 0, 0, 0, 0, 0],\n",
    "    [0, 0, 0, 0, 0, 0, 0, 0, 0, 0, 0, 0, 0, 0, 0, 0, 0, 1, 0, 0, 0, 0, 0, 0],\n",
    "]\n",
    "\n",
    "model_data[\"valores_lado_derecho\"] = [640, 224, 160, 112, 89.6, 249.6, 124.8]"
   ]
  },
  {
   "cell_type": "code",
   "execution_count": 6,
   "metadata": {},
   "outputs": [
    {
     "name": "stdout",
     "output_type": "stream",
     "text": [
      "Numero de restricciones = 7\n"
     ]
    }
   ],
   "source": [
    "for i in range(model_data[\"num_restricciones\"]):\n",
    "    restricciones = solver.RowConstraint(0, model_data[\"valores_lado_derecho\"][i], model_data[\"Nombres restricciones\"][i])\n",
    "\n",
    "    for j in range(model_data[\"num_variables\"]):\n",
    "        restricciones.SetCoefficient(x[j],model_data[\"coeficientes_restricciones\"][i][j])\n",
    "\n",
    "print(\"Numero de restricciones =\", solver.NumConstraints())"
   ]
  },
  {
   "cell_type": "markdown",
   "metadata": {},
   "source": [
    "#### Funcion Objetivo"
   ]
  },
  {
   "cell_type": "code",
   "execution_count": 7,
   "metadata": {},
   "outputs": [],
   "source": [
    "model_data[\"coeficientes_funcionOb\"] = [\n",
    "    60,\n",
    "    56,\n",
    "    50,\n",
    "    52,\n",
    "    90,\n",
    "    88,\n",
    "    82,\n",
    "    86,\n",
    "    # -\n",
    "    72.5,\n",
    "    68.5,\n",
    "    62.5,\n",
    "    64.5,\n",
    "    108.75,\n",
    "    106.75,\n",
    "    100.75,\n",
    "    104.75,\n",
    "    # -\n",
    "    90,\n",
    "    86,\n",
    "    80,\n",
    "    82,\n",
    "    135,\n",
    "    135,\n",
    "    135,\n",
    "    135,\n",
    "]"
   ]
  },
  {
   "cell_type": "code",
   "execution_count": 8,
   "metadata": {},
   "outputs": [],
   "source": [
    "funcion_Objetivo = solver.Objective()\n",
    "\n",
    "for j in range(model_data[\"num_variables\"]):\n",
    "    funcion_Objetivo.SetCoefficient(x[j], model_data[\"coeficientes_funcionOb\"][j])"
   ]
  },
  {
   "cell_type": "markdown",
   "metadata": {},
   "source": [
    "<h3 style=\"color:red\">Verficar Max/Min</h3>"
   ]
  },
  {
   "cell_type": "code",
   "execution_count": 9,
   "metadata": {},
   "outputs": [],
   "source": [
    "funcion_Objetivo.SetMaximization()"
   ]
  },
  {
   "cell_type": "markdown",
   "metadata": {},
   "source": [
    "### Solucion"
   ]
  },
  {
   "cell_type": "code",
   "execution_count": 10,
   "metadata": {},
   "outputs": [
    {
     "name": "stdout",
     "output_type": "stream",
     "text": [
      "Solución\n",
      "Valor de la Función Objetivo a Maximizar:  62640.0\n",
      "Normal-6antes-persona  =  0.0\n",
      "Normal-6antes-personaVieja  =  0.0\n",
      "Normal-6antes-estudiante  =  0.0\n",
      "Normal-6antes-joven  =  0.0\n",
      "Premium-6antes-persona  =  0.0\n",
      "Premium-6antes-personaVieja  =  0.0\n",
      "Premium-6antes-estudiante  =  0.0\n",
      "Premium-6antes-joven  =  0.0\n",
      "Normal-3antes-persona  =  0.0\n",
      "Normal-3antes-personaVieja  =  0.0\n",
      "Normal-3antes-estudiante  =  0.0\n",
      "Normal-3antes-joven  =  0.0\n",
      "Premium-3antes-persona  =  0.0\n",
      "Premium-3antes-personaVieja  =  0.0\n",
      "Premium-3antes-estudiante  =  0.0\n",
      "Premium-3antes-joven  =  0.0\n",
      "Normal-normal-persona  =  528.0\n",
      "Normal-normal-personaVieja  =  0.0\n",
      "Normal-normal-estudiante  =  0.0\n",
      "Normal-normal-joven  =  0.0\n",
      "Premium-normal-persona  =  112.0\n",
      "Premium-normal-personaVieja  =  0.0\n",
      "Premium-normal-estudiante  =  0.0\n",
      "Premium-normal-joven  =  0.0\n"
     ]
    }
   ],
   "source": [
    "modelo=solver.Solve()\n",
    "\n",
    "if modelo == pywraplp.Solver.OPTIMAL:\n",
    "    print(\"Solución\")\n",
    "    print(\"Valor de la Función Objetivo a Maximizar: \", solver.Objective().Value())\n",
    "\n",
    "    for j in range(model_data[\"num_variables\"]):\n",
    "        print(x[j].name(), \" = \",x[j].solution_value())\n",
    "else:\n",
    "    print(\"El modelo no tiene una solución optima\")"
   ]
  },
  {
   "cell_type": "markdown",
   "metadata": {},
   "source": [
    "## Cuarto Punto"
   ]
  },
  {
   "cell_type": "markdown",
   "metadata": {},
   "source": [
    "### Proposición"
   ]
  },
  {
   "cell_type": "markdown",
   "metadata": {},
   "source": [
    "La empresa Bavaria plantea su plan de producción para el año 2023, el cual le permita satisfacer la demanda de consumidores durante todo el año. La producción de cada litro de cerveza tiene un costo de 2 USD, este costo se mantiene durante el primer trimestre del año. Posterior a ello el costo incrementa a 3 USD durante el siguiente trimestre, y después de ello incrementa en un 75% para los meses siguientes. La empresa maneja unas demandas promedio de 120 mil, 120 mil, 140 mil litros de cerveza mensuales durante el primer trimestre, pero posterior a ello se incrementa la demanda 15 mil litros en relación con el mes que corresponde al trimestre anterior. En el último trimestre la demanda se duplica en relación con respecto al primer trimestre. La planta trabaja durante dos turnos al día, en el primer turno se operan 5 tanques de producción y en la tarde 4, cada tanque cuenta con capacidad de producción de 30 mil litros semanales de cerveza. El gerente indica que la operación durante el turno de la tarde incurre en costos adicionales de 25% por litro producido. En una situación de desabastecimiento la puede almacenar hasta 200 mil litros con un costo de 1,5 por litro almacenado. Definir el plan de producción que garantice satisfacer la demanda"
   ]
  },
  {
   "cell_type": "markdown",
   "metadata": {},
   "source": [
    "### Modelo"
   ]
  },
  {
   "cell_type": "code",
   "execution_count": 2,
   "metadata": {},
   "outputs": [],
   "source": [
    "solver = pywraplp.Solver.CreateSolver(\"GLOP\")\n",
    "infinity = solver.infinity()\n",
    "\n",
    "model_data = {}"
   ]
  },
  {
   "cell_type": "markdown",
   "metadata": {},
   "source": [
    "#### Conjuntos\n",
    "\n",
    "- $i$ = {Mes1, Mes2, Mes3, Mes4, Mes5, Mes6, Mes7, Mes8, Mes9, Mes10, Mes11, Mes12}\n",
    "- $j$ = {Manana, Tarde}\n",
    "- $k$ = {Mes1, Mes2, Mes3, Mes4, Mes5, Mes6, Mes7, Mes8, Mes9, Mes10, Mes11}\n"
   ]
  },
  {
   "cell_type": "markdown",
   "metadata": {},
   "source": [
    "#### Variables\n",
    "\n",
    "- $X_{ij} \\rightarrow$ Cantidad de litros de Cerveza en el $M_i$ en $J_j$\n",
    "- $Y_{ij} \\rightarrow$ Cantidad de litros de Cerveza en el $M_k$ en $J_j$ vendidos en $V_{k+1}$ "
   ]
  },
  {
   "cell_type": "code",
   "execution_count": 4,
   "metadata": {},
   "outputs": [],
   "source": [
    "model_data[\"num_variables\"] = 46\n",
    "model_data[\"Nombres variables\"] = [\n",
    "    \"xMes1-Manana\",\n",
    "    \"xMes2-Manana\",\n",
    "    \"xMes3-Manana\",\n",
    "    \"xMes4-Manana\",\n",
    "    \"xMes5-Manana\",\n",
    "    \"xMes6-Manana\",\n",
    "    \"xMes7-Manana\",\n",
    "    \"xMes8-Manana\",\n",
    "    \"xMes9-Manana\",\n",
    "    \"xMes10-Manana\",\n",
    "    \"xMes11-Manana\",\n",
    "    \"xMes12-Manana\",\n",
    "    \"xMes1-Tarde\",\n",
    "    \"xMes2-Tarde\",\n",
    "    \"xMes3-Tarde\",\n",
    "    \"xMes4-Tarde\",\n",
    "    \"xMes5-Tarde\",\n",
    "    \"xMes6-Tarde\",\n",
    "    \"xMes7-Tarde\",\n",
    "    \"xMes8-Tarde\",\n",
    "    \"xMes9-Tarde\",\n",
    "    \"xMes10-Tarde\",\n",
    "    \"xMes11-Tarde\",\n",
    "    \"xMes12-Tarde\",\n",
    "    # -\n",
    "    \"yMes1-Manana\",\n",
    "    \"yMes2-Manana\",\n",
    "    \"yMes3-Manana\",\n",
    "    \"yMes4-Manana\",\n",
    "    \"yMes5-Manana\",\n",
    "    \"yMes6-Manana\",\n",
    "    \"yMes7-Manana\",\n",
    "    \"yMes8-Manana\",\n",
    "    \"yMes9-Manana\",\n",
    "    \"yMes10-Manana\",\n",
    "    \"yMes11-Manana\",\n",
    "    \"yMes1-Tarde\",\n",
    "    \"yMes2-Tarde\",\n",
    "    \"yMes3-Tarde\",\n",
    "    \"yMes4-Tarde\",\n",
    "    \"yMes5-Tarde\",\n",
    "    \"yMes6-Tarde\",\n",
    "    \"yMes7-Tarde\",\n",
    "    \"yMes8-Tarde\",\n",
    "    \"yMes9-Tarde\",\n",
    "    \"yMes10-Tarde\",\n",
    "    \"yMes11-Tarde\",\n",
    "]"
   ]
  },
  {
   "cell_type": "code",
   "execution_count": 5,
   "metadata": {},
   "outputs": [
    {
     "name": "stdout",
     "output_type": "stream",
     "text": [
      "numero de variables = 46\n"
     ]
    }
   ],
   "source": [
    "infinito = solver.infinity()\n",
    "x = {}\n",
    "\n",
    "for j in range(model_data[\"num_variables\"]):\n",
    "    x[j] = solver.Var(\n",
    "        0, infinito, integer=False, name=model_data[\"Nombres variables\"][j]\n",
    "    )\n",
    "\n",
    "print(\"numero de variables =\", solver.NumVariables())"
   ]
  },
  {
   "cell_type": "markdown",
   "metadata": {},
   "source": [
    "#### Restriciones"
   ]
  },
  {
   "cell_type": "code",
   "execution_count": 6,
   "metadata": {},
   "outputs": [],
   "source": [
    "model_data[\"num_restricciones\"] = 15\n",
    "model_data[\"Nombres restricciones\"] = [\n",
    "\t\"Capacidad tanque manana\",\n",
    "\t\"Capacidad tanque tarde\",\n",
    "    \"Mes1\",\n",
    "    \"Mes2\",\n",
    "    \"Mes3\",\n",
    "    \"Mes4\",\n",
    "    \"Mes5\",\n",
    "    \"Mes6\",\n",
    "    \"Mes7\",\n",
    "    \"Mes8\",\n",
    "    \"Mes9\",\n",
    "    \"Mes10\",\n",
    "    \"Mes11\",\n",
    "    \"Mes12\",\n",
    "    \"Desbastecimiento\",\n",
    "\t]\n",
    "\n",
    "model_data[\"coeficientes_restricciones\"] = [\n",
    " [1,1,1,1,1,1,1,1,1,1,1,1,0,0,0,0,0,0,0,0,0,0,0,0,1,1,1,1,1,1,1,1,1,1,1,0,0,0,0,0,0,0,0,0,0,0],\n",
    " [0,0,0,0,0,0,0,0,0,0,0,0,1,1,1,1,1,1,1,1,1,1,1,1,0,0,0,0,0,0,0,0,0,0,0,1,1,1,1,1,1,1,1,1,1,1],\n",
    " [1,0,0,0,0,0,0,0,0,0,0,0,1,0,0,0,0,0,0,0,0,0,0,0,0,0,0,0,0,0,0,0,0,0,0,0,0,0,0,0,0,0,0,0,0,0],\n",
    " [0,1,0,0,0,0,0,0,0,0,0,0,0,1,0,0,0,0,0,0,0,0,0,0,1,0,0,0,0,0,0,0,0,0,0,1,0,0,0,0,0,0,0,0,0,0],\n",
    " [0,0,1,0,0,0,0,0,0,0,0,0,0,0,1,0,0,0,0,0,0,0,0,0,0,1,0,0,0,0,0,0,0,0,0,0,1,0,0,0,0,0,0,0,0,0],\n",
    " [0,0,0,1,0,0,0,0,0,0,0,0,0,0,0,1,0,0,0,0,0,0,0,0,0,0,1,0,0,0,0,0,0,0,0,0,0,1,0,0,0,0,0,0,0,0],\n",
    " [0,0,0,0,1,0,0,0,0,0,0,0,0,0,0,0,1,0,0,0,0,0,0,0,0,0,0,1,0,0,0,0,0,0,0,0,0,0,1,0,0,0,0,0,0,0],\n",
    " [0,0,0,0,0,1,0,0,0,0,0,0,0,0,0,0,0,1,0,0,0,0,0,0,0,0,0,0,1,0,0,0,0,0,0,0,0,0,0,1,0,0,0,0,0,0],\n",
    " [0,0,0,0,0,0,1,0,0,0,0,0,0,0,0,0,0,0,1,0,0,0,0,0,0,0,0,0,0,1,0,0,0,0,0,0,0,0,0,0,1,0,0,0,0,0],\n",
    " [0,0,0,0,0,0,0,1,0,0,0,0,0,0,0,0,0,0,0,1,0,0,0,0,0,0,0,0,0,0,1,0,0,0,0,0,0,0,0,0,0,1,0,0,0,0],\n",
    " [0,0,0,0,0,0,0,0,1,0,0,0,0,0,0,0,0,0,0,0,1,0,0,0,0,0,0,0,0,0,0,1,0,0,0,0,0,0,0,0,0,0,1,0,0,0],\n",
    " [0,0,0,0,0,0,0,0,0,1,0,0,0,0,0,0,0,0,0,0,0,1,0,0,0,0,0,0,0,0,0,0,1,0,0,0,0,0,0,0,0,0,0,1,0,0],\n",
    " [0,0,0,0,0,0,0,0,0,0,1,0,0,0,0,0,0,0,0,0,0,0,1,0,0,0,0,0,0,0,0,0,0,1,0,0,0,0,0,0,0,0,0,0,1,0],\n",
    " [0,0,0,0,0,0,0,0,0,0,0,1,0,0,0,0,0,0,0,0,0,0,0,1,0,0,0,0,0,0,0,0,0,0,1,0,0,0,0,0,0,0,0,0,0,1],\n",
    " [0,0,0,0,0,0,0,0,0,0,0,0,0,0,0,0,0,0,0,0,0,0,0,0,1,1,1,1,1,1,1,1,1,1,1,1,1,1,1,1,1,1,1,1,1,1],\n",
    "]\n",
    "\n",
    "model_data[\"valores_lado_derecho\"] = [\n",
    "\t600000,\n",
    "    480000,\n",
    "    120000,\n",
    "    120000,\n",
    "\t140000,\n",
    "\t135000,\n",
    "\t135000,\n",
    "\t155000,\n",
    "    150000,\n",
    "\t150000,\n",
    "\t170000,\n",
    "\t270000,\n",
    "\t270000,\n",
    "\t280000,\n",
    "\t200000,\n",
    "]"
   ]
  },
  {
   "cell_type": "code",
   "execution_count": 7,
   "metadata": {},
   "outputs": [
    {
     "name": "stdout",
     "output_type": "stream",
     "text": [
      "Numero de restricciones = 15\n"
     ]
    }
   ],
   "source": [
    "for i in range(model_data[\"num_restricciones\"]):\n",
    "    restricciones = solver.RowConstraint(0, model_data[\"valores_lado_derecho\"][i], model_data[\"Nombres restricciones\"][i])\n",
    "\n",
    "    for j in range(model_data[\"num_variables\"]):\n",
    "        restricciones.SetCoefficient(x[j],model_data[\"coeficientes_restricciones\"][i][j])\n",
    "\n",
    "print(\"Numero de restricciones =\", solver.NumConstraints())"
   ]
  },
  {
   "cell_type": "markdown",
   "metadata": {},
   "source": [
    "#### Funcion Objetivo"
   ]
  },
  {
   "cell_type": "code",
   "execution_count": 9,
   "metadata": {},
   "outputs": [],
   "source": [
    "model_data[\"coeficientes_funcionOb\"] = [\n",
    "    2,\n",
    "    2,\n",
    "    2,\n",
    "    3,\n",
    "    3,\n",
    "    3,\n",
    "    5.25,\n",
    "    5.25,\n",
    "    5.25,\n",
    "    5.25,\n",
    "    5.25,\n",
    "    5.25,\n",
    "    2.5,\n",
    "    2.5,\n",
    "    2.5,\n",
    "    3.75,\n",
    "    3.75,\n",
    "    3.57,\n",
    "    6.56,\n",
    "    6.56,\n",
    "    6.56,\n",
    "    6.56,\n",
    "    6.56,\n",
    "    6.56,\n",
    "    # -\n",
    "    3.5,\n",
    "    3.5,\n",
    "    3.5,\n",
    "    4.5,\n",
    "    4.5,\n",
    "    4.5,\n",
    "    6.75,\n",
    "    6.75,\n",
    "    6.75,\n",
    "    6.75,\n",
    "    6.75,\n",
    "    4,\n",
    "    4,\n",
    "    4,\n",
    "    5.25,\n",
    "    5.25,\n",
    "    5.25,\n",
    "    8.06,\n",
    "    8.06,\n",
    "    8.06,\n",
    "    8.06,\n",
    "    8.06,\n",
    "]"
   ]
  },
  {
   "cell_type": "code",
   "execution_count": 10,
   "metadata": {},
   "outputs": [],
   "source": [
    "funcion_Objetivo = solver.Objective()\n",
    "\n",
    "for j in range(model_data[\"num_variables\"]):\n",
    "    funcion_Objetivo.SetCoefficient(x[j], model_data[\"coeficientes_funcionOb\"][j])"
   ]
  },
  {
   "cell_type": "markdown",
   "metadata": {},
   "source": [
    "<h3 style=\"color:red\">Verficar Max/Min</h3>"
   ]
  },
  {
   "cell_type": "code",
   "execution_count": 10,
   "metadata": {},
   "outputs": [],
   "source": [
    "# funcion_Objetivo.SetMaximization()\n",
    "funcion_Objetivo.SetMinimization()"
   ]
  },
  {
   "cell_type": "markdown",
   "metadata": {},
   "source": [
    "### Solucion"
   ]
  },
  {
   "cell_type": "code",
   "execution_count": 11,
   "metadata": {},
   "outputs": [
    {
     "name": "stdout",
     "output_type": "stream",
     "text": [
      "Solución\n",
      "Valor de la Función Objetivo a Maximizar:  0.0\n",
      "True\n",
      "xMes1-Manana  =  0.0\n",
      "xMes2-Manana  =  0.0\n",
      "xMes3-Manana  =  0.0\n",
      "xMes4-Manana  =  0.0\n",
      "xMes5-Manana  =  0.0\n",
      "xMes6-Manana  =  0.0\n",
      "xMes7-Manana  =  0.0\n",
      "xMes8-Manana  =  0.0\n",
      "xMes9-Manana  =  0.0\n",
      "xMes10-Manana  =  0.0\n",
      "xMes11-Manana  =  0.0\n",
      "xMes12-Manana  =  0.0\n",
      "xMes1-Tarde  =  0.0\n",
      "xMes2-Tarde  =  0.0\n",
      "xMes3-Tarde  =  0.0\n",
      "xMes4-Tarde  =  0.0\n",
      "xMes5-Tarde  =  0.0\n",
      "xMes6-Tarde  =  0.0\n",
      "xMes7-Tarde  =  0.0\n",
      "xMes8-Tarde  =  0.0\n",
      "xMes9-Tarde  =  0.0\n",
      "xMes10-Tarde  =  0.0\n",
      "xMes11-Tarde  =  0.0\n",
      "xMes12-Tarde  =  0.0\n",
      "yMes1-Manana  =  0.0\n",
      "yMes2-Manana  =  0.0\n",
      "yMes3-Manana  =  0.0\n",
      "yMes4-Manana  =  0.0\n",
      "yMes5-Manana  =  0.0\n",
      "yMes6-Manana  =  0.0\n",
      "yMes7-Manana  =  0.0\n",
      "yMes8-Manana  =  0.0\n",
      "yMes9-Manana  =  0.0\n",
      "yMes10-Manana  =  0.0\n",
      "yMes11-Manana  =  0.0\n",
      "yMes1-Tarde  =  0.0\n",
      "yMes2-Tarde  =  0.0\n",
      "yMes3-Tarde  =  0.0\n",
      "yMes4-Tarde  =  0.0\n",
      "yMes5-Tarde  =  0.0\n",
      "yMes6-Tarde  =  0.0\n",
      "yMes7-Tarde  =  0.0\n",
      "yMes8-Tarde  =  0.0\n",
      "yMes9-Tarde  =  0.0\n",
      "yMes10-Tarde  =  0.0\n",
      "yMes11-Tarde  =  0.0\n"
     ]
    }
   ],
   "source": [
    "modelo=solver.Solve()\n",
    "\n",
    "if modelo == pywraplp.Solver.OPTIMAL:\n",
    "    print(\"Solución\")\n",
    "    print(\"Valor de la Función Objetivo a Maximizar: \", solver.Objective().Value())\n",
    "    print(solver.Objective().Value() == 0.0)\n",
    "\n",
    "    for j in range(model_data[\"num_variables\"]):\n",
    "        print(x[j].name(), \" = \",x[j].solution_value())\n",
    "else:\n",
    "    print(\"El modelo no tiene una solución optima\")"
   ]
  }
 ],
 "metadata": {
  "kernelspec": {
   "display_name": "Python 3",
   "language": "python",
   "name": "python3"
  },
  "language_info": {
   "codemirror_mode": {
    "name": "ipython",
    "version": 3
   },
   "file_extension": ".py",
   "mimetype": "text/x-python",
   "name": "python",
   "nbconvert_exporter": "python",
   "pygments_lexer": "ipython3",
   "version": "3.8.7"
  }
 },
 "nbformat": 4,
 "nbformat_minor": 2
}

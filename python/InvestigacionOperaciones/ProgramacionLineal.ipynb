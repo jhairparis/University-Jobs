{
 "cells": [
  {
   "cell_type": "markdown",
   "metadata": {},
   "source": [
    "# Programación Lineal\n",
    "\n",
    "[![Open In Colab](https://colab.research.google.com/assets/colab-badge.svg)](https://colab.research.google.com/github/jhairparis/University-Jobs/blob/master/python/InvestigacionOperaciones/ProgramacionLineal.ipynb)\n",
    "\n",
    "Formule los problemas de programación lineal para cada uno de los ejercicios propuestos, solucione usando ORtools en Python y describa su respectiva solución, si existe."
   ]
  },
  {
   "cell_type": "markdown",
   "metadata": {},
   "source": [
    "## Integrantes\n",
    "- **Jhair Esteban Paris Garcia**\n",
    "- **Juan David Godoy Valencia**\n",
    "- **Johan Santiago Ramos Duarte**"
   ]
  },
  {
   "cell_type": "markdown",
   "metadata": {},
   "source": [
    "## Librerias Necesarias"
   ]
  },
  {
   "cell_type": "code",
   "execution_count": 1,
   "metadata": {},
   "outputs": [],
   "source": [
    "from ortools.linear_solver import pywraplp"
   ]
  },
  {
   "cell_type": "markdown",
   "metadata": {},
   "source": [
    "### Install\n"
   ]
  },
  {
   "cell_type": "code",
   "execution_count": null,
   "metadata": {},
   "outputs": [],
   "source": [
    "%pip install ortools"
   ]
  },
  {
   "cell_type": "markdown",
   "metadata": {},
   "source": [
    "## Primer Punto"
   ]
  },
  {
   "cell_type": "markdown",
   "metadata": {},
   "source": [
    "### Proposición"
   ]
  },
  {
   "cell_type": "markdown",
   "metadata": {},
   "source": [
    "Envigado, Palmira, Ibagué, las cuales pueden producir respectivamente 180, 110 y 230 carrocerías cada  una, para el año 2025 los sistemas masivos de transporte están solicitando están carrocerías de buses  BRT así: Bogotá 210, Cali 75, Bucaramanga 65 y Medellín 90, las carrocerías producidas en Envigado e  Ibagué pueden ser enviados a los almacenes de ensamble primario ubicados en Pereira y Armenia, pero  Palmira solo envía al almacén de ensamble primario ubicado en Armenia, estos almacenes de ensamble  primario, envían a su vez a cualquiera de los almacenes de terminado ubicados en Duitama y Cartago,  Ninguno de los almacenes ni de ensamble o terminado almacena carrocerías en inventario, por  consiguiente deben enviar todas las carrocerías que reciben.\n",
    "\n",
    "Los clientes de Cali y Bucaramanga pueden recibir las carrocerías de cualquiera de los almacenes de terminado, sin embargo, por un tema de contratación los clientes de Bogotá deben obtener las carrocerías exclusivamente de Duitama y los de Medellín solo de Cartago, los costos de envío de las carrocerías a los almacenes de ensamble y de estos a los almacenes de terminado y de estos últimos a  los clientes se dan a continuación:\n",
    "\n",
    "#### COSTOS DE ALMACENES DE ENSAMBLE TRANSPORTE\n",
    "\n",
    "| FABRICAS | PEREIRA | ARMENIA |\n",
    "| -------- | ------- | ------- |\n",
    "| ENVIGADO | 500     | 1200    |\n",
    "| PALMIRA  | -       | 2000    |\n",
    "| IBAGUE   | 1300    | 2100    |\n",
    "\n",
    "#### COSTOS DE TRANSPORTE ALMACENES DE TERMINADO\n",
    "\n",
    "\n",
    "| ALM. ENSAMBLE | DUITAMA | CARTAGO |\n",
    "| ------------- | ------- | ------- |\n",
    "| PEREIRA       | 1900    | 1300    |\n",
    "| ARMENIA       | 1450    | 1370    |\n",
    "\n",
    "#### COSTOS DE TRANSPORTE CLIENTES FINALES\n",
    "\n",
    "| ALM.TERMINADO | BOGOTA | CALI | B/MGA | MEDELLIN |\n",
    "| ------------- | ------ | ---- | ----- | -------- |\n",
    "| DUITAMA       | 2300   | 2100 | 1700  | -        |\n",
    "| CARTAGO       | -      | 1400 | 2300  | 1800     |\n",
    "\n",
    "![image.png](./images/Grafico%20punto%201.png)"
   ]
  },
  {
   "cell_type": "markdown",
   "metadata": {},
   "source": [
    "\n",
    "### Model "
   ]
  },
  {
   "cell_type": "code",
   "execution_count": 24,
   "metadata": {},
   "outputs": [],
   "source": [
    "solver = pywraplp.Solver.CreateSolver(\"GLOP\")\n",
    "infinity = solver.infinity()"
   ]
  },
  {
   "cell_type": "markdown",
   "metadata": {},
   "source": [
    "#### Conjuntos:\n",
    "\n",
    "- **Fábricas:** $\\rightarrow i$ = {Envigado, Palmira, Ibagué}\n",
    "- **Almacenes de Ensamble Primario:** $\\rightarrow j$ = {Pereira, Armenia}\n",
    "- **Almacenes de Terminado:** $\\rightarrow k$ = {Duitama, Cartago}\n",
    "- **Clientes:** $\\rightarrow m$ = {Bogotá, Cali, Bucaramanga, Medellín}"
   ]
  },
  {
   "cell_type": "markdown",
   "metadata": {},
   "source": [
    "#### Variables de Desición\n",
    "\n",
    "- $x_{ij} \\rightarrow$ de la fabrica $i$ al Almacén de emsamble $j$ $\\forall{ij}$\n",
    "\n",
    "- $y_{jk} \\rightarrow$ del Almacén de Ensamble $j$ al Almacén de Terminado $k$ $\\forall{jk}$  \n",
    "\n",
    "- $P_{km} \\rightarrow$ del Almacén de Terminado $k$ al Destino $m$ $\\forall{km}$"
   ]
  },
  {
   "cell_type": "code",
   "execution_count": 25,
   "metadata": {},
   "outputs": [
    {
     "name": "stdout",
     "output_type": "stream",
     "text": [
      "Numero de variables = 15\n"
     ]
    }
   ],
   "source": [
    "xEP = solver.Var(0, infinity, integer = False, name = \"Envigado - Pereira\") # 500\n",
    "xEA = solver.Var(0, infinity, integer = False, name = \"Envigado - Armenia\") # 1200\n",
    "xPA = solver.Var(0, infinity, integer = False, name = \"Palmira - Armenia\") # 2000\n",
    "xIP = solver.Var(0, infinity, integer = False, name = \"Ibague - Pereira\") # 1300\n",
    "xIA = solver.Var(0, infinity, integer = False, name = \"Ibague - Armenia\") # 2100\n",
    "\n",
    "yPD = solver.Var(0, infinity, integer = False, name = \"Pereira - Duitama\") # 1900\n",
    "yPC = solver.Var(0, infinity, integer = False, name = \"Pereira - Cartago\") # 1300\n",
    "yAD = solver.Var(0, infinity, integer = False, name = \"Armenia - Duitama\") # 1450\n",
    "yAC = solver.Var(0, infinity, integer = False, name = \"Armenia - Cartago\") # 1370\n",
    "\n",
    "pDBo = solver.Var(0, infinity, integer = False, name = \"Duitama - Bogotá\") # 2300\n",
    "pDC = solver.Var(0, infinity, integer = False, name = \"Duitama - Cali\") # 2100\n",
    "pDBu = solver.Var(0, infinity, integer = False, name = \"Duitama - Bucaramanga\") # 1700\n",
    "pCC = solver.Var(0, infinity, integer = False, name = \"Cartago - Cali\") # 1400\n",
    "pCBu = solver.Var(0, infinity, integer = False, name = \"Cartago - Bucaramanga\") # 2300\n",
    "pCM = solver.Var(0, infinity, integer = False, name = \"Cartago - Medallin\") # 1800\n",
    "\n",
    "\n",
    "print(\"Numero de variables =\", solver.NumVariables())"
   ]
  },
  {
   "cell_type": "markdown",
   "metadata": {},
   "source": [
    "#### Restriciones"
   ]
  },
  {
   "cell_type": "markdown",
   "metadata": {},
   "source": [
    "##### Oferta"
   ]
  },
  {
   "cell_type": "code",
   "execution_count": 26,
   "metadata": {},
   "outputs": [
    {
     "data": {
      "text/plain": [
       "<ortools.linear_solver.pywraplp.Constraint; proxy of <Swig Object of type 'operations_research::MPConstraint *' at 0x000002BC173FAF00> >"
      ]
     },
     "execution_count": 26,
     "metadata": {},
     "output_type": "execute_result"
    }
   ],
   "source": [
    "solver.Add(xEP + xEA <= 180)\n",
    "solver.Add(xPA <= 110)\n",
    "solver.Add(xIP + xIA <= 230)"
   ]
  },
  {
   "cell_type": "markdown",
   "metadata": {},
   "source": [
    "##### Demanda"
   ]
  },
  {
   "cell_type": "code",
   "execution_count": 27,
   "metadata": {},
   "outputs": [
    {
     "data": {
      "text/plain": [
       "<ortools.linear_solver.pywraplp.Constraint; proxy of <Swig Object of type 'operations_research::MPConstraint *' at 0x000002BC1740EE70> >"
      ]
     },
     "execution_count": 27,
     "metadata": {},
     "output_type": "execute_result"
    }
   ],
   "source": [
    "solver.Add(pDBo >= 210)\n",
    "solver.Add(pCM <= 90)\n",
    "solver.Add(pDC + pCC <= 75)\n",
    "solver.Add(pDBu + pCBu <= 65)"
   ]
  },
  {
   "cell_type": "markdown",
   "metadata": {},
   "source": [
    "##### Entrada == Salida"
   ]
  },
  {
   "cell_type": "code",
   "execution_count": 28,
   "metadata": {},
   "outputs": [
    {
     "name": "stdout",
     "output_type": "stream",
     "text": [
      "Numero de restricciones 11\n"
     ]
    }
   ],
   "source": [
    "solver.Add(xEP + xIP - yPD - yPC == 0)\n",
    "solver.Add(xEA + xPA + xIA - yAD - yAC == 0)\n",
    "\n",
    "solver.Add(yPD + yAD - pDBo - pDC - pDBu == 0)\n",
    "solver.Add(yPC + yAC - pCC - pCBu - pCM == 0)\n",
    "\n",
    "print(\"Numero de restricciones\", solver.NumConstraints())"
   ]
  },
  {
   "cell_type": "markdown",
   "metadata": {},
   "source": [
    "#### Funcion Objetivo"
   ]
  },
  {
   "cell_type": "markdown",
   "metadata": {},
   "source": [
    "$Min\\;z = \\sum_{ij}X_{ij}*C_{ij}+\\sum_{jk}Y_{jk}*C_{jk}+\\sum_{km}P_{km}*C_{km}$"
   ]
  },
  {
   "cell_type": "code",
   "execution_count": 29,
   "metadata": {},
   "outputs": [],
   "source": [
    "\n",
    "solver.Minimize(500*xEP + 1200*xEA + 2000*xPA \n",
    "\t\t\t\t+ 1300*xIP + 2100*xIA \n",
    "\t\t\t\t+ 1900*yPD + 1300*yPC + 1450*yAD + 1370*yAC \n",
    "\t\t\t\t+ 2300*pDBo + 2100*pDC + 1700*pDBu + 1400*pCC + 2300*pCBu + 1800*pCM)"
   ]
  },
  {
   "cell_type": "markdown",
   "metadata": {},
   "source": [
    "### Solucion"
   ]
  },
  {
   "cell_type": "code",
   "execution_count": 30,
   "metadata": {},
   "outputs": [
    {
     "name": "stdout",
     "output_type": "stream",
     "text": [
      "Solución\n",
      "Valor de la Función Objetivo a Maximizar es:  1011000.0\n",
      "Cnt  Envigado - Pereira :  180.0\n",
      "Cnt  Envigado - Armenia :  0.0\n",
      "Cnt  Palmira - Armenia :  0.0\n",
      "Cnt  Ibague - Pereira :  30.000000000000007\n",
      "Cnt  Ibague - Armenia :  0.0\n",
      "Cnt  Pereira - Duitama :  210.0\n",
      "Cnt  Pereira - Cartago :  0.0\n",
      "Cnt  Armenia - Duitama :  0.0\n",
      "Cnt  Armenia - Cartago :  0.0\n",
      "Cnt Duitama - Bogotá :  210.0\n",
      "Cnt  Duitama - Cali :  0.0\n",
      "Cnt Duitama - Bucaramanga :  0.0\n",
      "Cnt  Cartago - Cali :  -0.0\n",
      "Cnt Cartago - Bucaramanga :  0.0\n",
      "Cnt  Cartago - Medallin :  0.0\n"
     ]
    }
   ],
   "source": [
    "status = solver.Solve()\n",
    "\n",
    "if status == pywraplp.Solver.OPTIMAL:\n",
    "    print(\"Solución\")\n",
    "    print(\"Valor de la Función Objetivo a Maximizar es: \", solver.Objective().Value())\n",
    "\n",
    "    print(\"Cnt \", xEP, \": \", xEP.solution_value())\n",
    "    print(\"Cnt \", xEA, \": \", xEA.solution_value())\n",
    "    print(\"Cnt \", xPA, \": \", xPA.solution_value())\n",
    "    print(\"Cnt \", xIP, \": \", xIP.solution_value())\n",
    "    print(\"Cnt \", xIA, \": \", xIA.solution_value())\n",
    "    print(\"Cnt \", yPD, \": \", yPD.solution_value())\n",
    "    print(\"Cnt \", yPC, \": \", yPC.solution_value())\n",
    "    print(\"Cnt \", yAD, \": \", yAD.solution_value())\n",
    "    print(\"Cnt \", yAC, \": \", yAC.solution_value())\n",
    "    print(\"Cnt\", pDBo, \": \", pDBo.solution_value())\n",
    "    print(\"Cnt \", pDC, \": \", pDC.solution_value())\n",
    "    print(\"Cnt\", pDBu, \": \", pDBu.solution_value())\n",
    "    print(\"Cnt \", pCC, \": \", pCC.solution_value())\n",
    "    print(\"Cnt\", pCBu, \": \", pCBu.solution_value())\n",
    "    print(\"Cnt \", pCM, \": \", pCM.solution_value())\n",
    "\n",
    "else:\n",
    "    print(\"El modelo no tiene una solución optima\")"
   ]
  },
  {
   "cell_type": "markdown",
   "metadata": {},
   "source": [
    "## Segundo Punto"
   ]
  },
  {
   "cell_type": "markdown",
   "metadata": {},
   "source": [
    "### Proposición"
   ]
  },
  {
   "cell_type": "markdown",
   "metadata": {},
   "source": [
    "### Model "
   ]
  },
  {
   "cell_type": "markdown",
   "metadata": {},
   "source": [
    "### Solucion"
   ]
  },
  {
   "cell_type": "markdown",
   "metadata": {},
   "source": [
    "## Tercer Punto"
   ]
  },
  {
   "cell_type": "markdown",
   "metadata": {},
   "source": [
    "### Proposición"
   ]
  },
  {
   "cell_type": "markdown",
   "metadata": {},
   "source": [
    "La empresa francesa de trenes SNCF en su modelo de negocio para el transporte de pasajeros, considera en el trayecto París – Lyon las siguientes políticas para la venta de sus asientos, para no entrar en perdidas los asientos se deben vender como mínimo a 50 euros los de clase normal, y 75 euros los de clase Premium. Los pasajeros que compren los tiquetes con un tiempo mayor a 6 meses de anticipación pagaran el precio base más un 20% de incremento, los tiquetes con un tiempo mayor a 3 meses de anticipación pagaran el precio base más un 45% de incremento, el resto de los tiquetes vendidos se cobran teniendo en cuenta el precio base más un 80% de incremento. Los estudiantes obtienen un descuento de 10 euros en sus asientos clase normal sin importar la fecha de compra, y 8 para la clase premium solo si son comprados con un tiempo de anticipación mayor a 3 meses.\n",
    "\n",
    "Los poseedores de la tarjeta joven, con menos de 26 años tienen un descuento de 8 euros en sus asientos clase normal sin importar la fecha de compra, y 4 para la clase premium solo si son comprados con un tiempo de anticipación mayor a 3 meses. Los adultos mayores cuentan con las mismas condiciones de los menores 26 años, solo que para ellos el descuento corresponde a la mitad del de los estudiantes.\n",
    "El tren cuenta con 640 plazas disponibles, de las cuales el 35% son de clase Premium. La empresa estima que los estudiantes ocupan como mínimo la una cuarta parte del tren, las plazas Premium se venden al menos en un 40%, de estas los estudiantes adquieren como mínimo un 80% antes de 3 meses. Los adultos mayores ocupan como mínimo el 60% de la clase normal, al menos la mitad de estas son adquiridas antes del último mes"
   ]
  },
  {
   "cell_type": "markdown",
   "metadata": {},
   "source": [
    "### Model "
   ]
  },
  {
   "cell_type": "code",
   "execution_count": 2,
   "metadata": {},
   "outputs": [],
   "source": [
    "solver = pywraplp.Solver.CreateSolver(\"GLOP\")\n",
    "infinity = solver.infinity()\n",
    "\n",
    "model_data = {}"
   ]
  },
  {
   "cell_type": "markdown",
   "metadata": {},
   "source": [
    "#### Conjunto(s)\n",
    "\n",
    "- $i$ = {Normal, Premium}\n",
    "- $j$ = {6MesesAntes, 3MesesAntes , normal}\n",
    "- $k$ = {personas, personasViejietas, estudiantes, jovenes}"
   ]
  },
  {
   "cell_type": "markdown",
   "metadata": {},
   "source": [
    "#### Variables de Desición\n",
    "\n",
    "- $x_{ijk} \\rightarrow$ Cantidad de asientos de $C_i$ comprados en el $tiempo_j$ siendo $persona_k$"
   ]
  },
  {
   "cell_type": "code",
   "execution_count": 4,
   "metadata": {},
   "outputs": [],
   "source": [
    "model_data[\"num_variables\"] = 24\n",
    "model_data[\"Nombres variables\"] = [\n",
    "    \"Normal-6antes-persona\",\n",
    "    \"Normal-6antes-personaVieja\",\n",
    "    \"Normal-6antes-estudiante\",\n",
    "    \"Normal-6antes-joven\",\n",
    "    \"Premium-6antes-persona\",\n",
    "    \"Premium-6antes-personaVieja\",\n",
    "    \"Premium-6antes-estudiante\",\n",
    "    \"Premium-6antes-joven\",\n",
    "    # -\n",
    "    \"Normal-3antes-persona\",\n",
    "    \"Normal-3antes-personaVieja\",\n",
    "    \"Normal-3antes-estudiante\",\n",
    "    \"Normal-3antes-joven\",\n",
    "    \"Premium-3antes-persona\",\n",
    "    \"Premium-3antes-personaVieja\",\n",
    "    \"Premium-3antes-estudiante\",\n",
    "    \"Premium-3antes-joven\",\n",
    "    # -\n",
    "    \"Normal-normal-persona\",\n",
    "    \"Normal-normal-personaVieja\",\n",
    "    \"Normal-normal-estudiante\",\n",
    "    \"Normal-normal-joven\",\n",
    "    \"Premium-normal-persona\",\n",
    "    \"Premium-normal-personaVieja\",\n",
    "    \"Premium-normal-estudiante\",\n",
    "    \"Premium-normal-joven\",\n",
    "]"
   ]
  },
  {
   "cell_type": "code",
   "execution_count": 5,
   "metadata": {},
   "outputs": [
    {
     "name": "stdout",
     "output_type": "stream",
     "text": [
      "numero de variables = 24\n"
     ]
    }
   ],
   "source": [
    "infinito = solver.infinity()\n",
    "x = {}\n",
    "\n",
    "for j in range(model_data[\"num_variables\"]):\n",
    "    x[j] = solver.Var(\n",
    "        0, infinito, integer=False, name=model_data[\"Nombres variables\"][j]\n",
    "    )\n",
    "\n",
    "print(\"numero de variables =\", solver.NumVariables())"
   ]
  },
  {
   "cell_type": "markdown",
   "metadata": {},
   "source": [
    "#### Restriciones"
   ]
  },
  {
   "cell_type": "markdown",
   "metadata": {},
   "source": [
    "**Numero de plazas disponibles**\n",
    "$\\sum_{i} \\sum_{j} \\sum_{k} X_{ijk} \\leq 640$\n",
    "\n",
    "**35% son premium**\n",
    "$\\sum_{j} \\sum_{k} X_{2,j,k} \\leq 640*0.35=224$\n",
    "\n",
    "**Ocupacion 1/4 de estudiantes**\n",
    "$\\sum_{i} \\sum_{j} X_{i,j,3} \\leq \\frac{1}{4}640=160$\n",
    "\n",
    "**se venden un 40%  de premium**\n",
    "$\\sum_{j} \\sum_{k} X_{2,j,k} \\geq 224*40\\%=112$\n",
    "\n",
    "**Estudiantes adquieren 80% antes  de los 3 meses de los premium**\n",
    "$\\sum_{j} X_{2,j,3} \\geq 112*80\\% =89.6$\n",
    "\n",
    "**Los adultos mayores ocupan como mínimo el 60% de la clase normal**\n",
    "$\\sum_{k} X_{1,k,2} \\geq ((640*65\\%)*60\\%)=249.6$\n",
    "\n",
    "**al menos la mitad de estas son adquiridas antes del último mes**\n",
    "$X_{1,3,2} \\geq 249.6*50\\%=124.8$\n"
   ]
  },
  {
   "cell_type": "code",
   "execution_count": 6,
   "metadata": {},
   "outputs": [],
   "source": [
    "model_data[\"num_restricciones\"] = 7\n",
    "model_data[\"Nombres restricciones\"] = [\n",
    "    \"Numero de plazas disponibles\",\n",
    "    \"0.35 son premium\",\n",
    "    \"Ocupacion 1/4 de estudiantes\",\n",
    "    \"Se venden un 0.4 de premium\",\n",
    "    \"Estudiantes adquieren 0.8 antes  de los 3 meses de los premium\",\n",
    "    \"Los adultos mayores ocupan como mínimo el 0.6 de la clase normal\",\n",
    "    \"Al menos la mitad de estas son adquiridas antes del último mes\",\n",
    "]\n",
    "\n",
    "model_data[\"coeficientes_restricciones\"] = [\n",
    "    [1, 1, 1, 1, 1, 1, 1, 1, 1, 1, 1, 1, 1, 1, 1, 1, 1, 1, 1, 1, 1, 1, 1, 1],\n",
    "    [0, 0, 0, 0, 1, 1, 1, 1, 0, 0, 0, 0, 1, 1, 1, 1, 0, 0, 0, 0, 1, 1, 1, 1],\n",
    "    [0, 0, 1, 0, 0, 0, 1, 0, 0, 0, 1, 0, 0, 0, 1, 0, 0, 0, 1, 0, 0, 0, 1, 0],\n",
    "    [0, 0, 0, 0, 1, 1, 1, 1, 0, 0, 0, 0, 1, 1, 1, 1, 0, 0, 0, 0, 1, 1, 1, 1],\n",
    "    [0, 0, 0, 0, 0, 0, 1, 0, 0, 0, 0, 0, 0, 0, 1, 0, 0, 0, 0, 0, 0, 0, 1, 0],\n",
    "    [0, 1, 0, 0, 0, 0, 0, 0, 0, 1, 0, 0, 0, 0, 0, 0, 0, 1, 0, 0, 0, 0, 0, 0],\n",
    "    [0, 0, 0, 0, 0, 0, 0, 0, 0, 0, 0, 0, 0, 0, 0, 0, 0, 1, 0, 0, 0, 0, 0, 0],\n",
    "]\n",
    "\n",
    "model_data[\"valores_lado_derecho\"] = [640, 224, 160, 112, 89.6, 249.6, 124.8]"
   ]
  },
  {
   "cell_type": "code",
   "execution_count": 7,
   "metadata": {},
   "outputs": [
    {
     "name": "stdout",
     "output_type": "stream",
     "text": [
      "Numero de restricciones = 7\n"
     ]
    }
   ],
   "source": [
    "for i in range(model_data[\"num_restricciones\"]):\n",
    "    restricciones = solver.RowConstraint(0, model_data[\"valores_lado_derecho\"][i], model_data[\"Nombres restricciones\"][i])\n",
    "\n",
    "    for j in range(model_data[\"num_variables\"]):\n",
    "        restricciones.SetCoefficient(x[j],model_data[\"coeficientes_restricciones\"][i][j])\n",
    "\n",
    "print(\"Numero de restricciones =\", solver.NumConstraints())"
   ]
  },
  {
   "cell_type": "markdown",
   "metadata": {},
   "source": [
    "#### Funcion Objetivo"
   ]
  },
  {
   "cell_type": "code",
   "execution_count": 8,
   "metadata": {},
   "outputs": [],
   "source": [
    "model_data[\"coeficientes_funcionOb\"] = [\n",
    "    60,\n",
    "    56,\n",
    "    50,\n",
    "    52,\n",
    "    90,\n",
    "    88,\n",
    "    82,\n",
    "    86,\n",
    "    # -\n",
    "    72.5,\n",
    "    68.5,\n",
    "    62.5,\n",
    "    64.5,\n",
    "    108.75,\n",
    "    106.75,\n",
    "    100.75,\n",
    "    104.75,\n",
    "    # -\n",
    "    90,\n",
    "    86,\n",
    "    80,\n",
    "    82,\n",
    "    135,\n",
    "    135,\n",
    "    135,\n",
    "    135,\n",
    "]"
   ]
  },
  {
   "cell_type": "code",
   "execution_count": 9,
   "metadata": {},
   "outputs": [],
   "source": [
    "funcion_Objetivo = solver.Objective()\n",
    "\n",
    "for j in range(model_data[\"num_variables\"]):\n",
    "    funcion_Objetivo.SetCoefficient(x[j], model_data[\"coeficientes_funcionOb\"][j])"
   ]
  },
  {
   "cell_type": "markdown",
   "metadata": {},
   "source": [
    "<h3 style=\"color:red\">Verficar Max/Min</h3>"
   ]
  },
  {
   "cell_type": "code",
   "execution_count": 10,
   "metadata": {},
   "outputs": [],
   "source": [
    "funcion_Objetivo.SetMaximization()"
   ]
  },
  {
   "cell_type": "markdown",
   "metadata": {},
   "source": [
    "### Solucion"
   ]
  },
  {
   "cell_type": "code",
   "execution_count": 11,
   "metadata": {},
   "outputs": [
    {
     "name": "stdout",
     "output_type": "stream",
     "text": [
      "Solución\n",
      "Valor de la Función Objetivo a Maximizar:  62640.0\n",
      "Normal-6antes-persona  =  0.0\n",
      "Normal-6antes-personaVieja  =  0.0\n",
      "Normal-6antes-estudiante  =  0.0\n",
      "Normal-6antes-joven  =  0.0\n",
      "Premium-6antes-persona  =  0.0\n",
      "Premium-6antes-personaVieja  =  0.0\n",
      "Premium-6antes-estudiante  =  0.0\n",
      "Premium-6antes-joven  =  0.0\n",
      "Normal-3antes-persona  =  0.0\n",
      "Normal-3antes-personaVieja  =  0.0\n",
      "Normal-3antes-estudiante  =  0.0\n",
      "Normal-3antes-joven  =  0.0\n",
      "Premium-3antes-persona  =  0.0\n",
      "Premium-3antes-personaVieja  =  0.0\n",
      "Premium-3antes-estudiante  =  0.0\n",
      "Premium-3antes-joven  =  0.0\n",
      "Normal-normal-persona  =  528.0\n",
      "Normal-normal-personaVieja  =  0.0\n",
      "Normal-normal-estudiante  =  0.0\n",
      "Normal-normal-joven  =  0.0\n",
      "Premium-normal-persona  =  112.0\n",
      "Premium-normal-personaVieja  =  0.0\n",
      "Premium-normal-estudiante  =  0.0\n",
      "Premium-normal-joven  =  0.0\n"
     ]
    }
   ],
   "source": [
    "modelo=solver.Solve()\n",
    "\n",
    "if modelo == pywraplp.Solver.OPTIMAL:\n",
    "    print(\"Solución\")\n",
    "    print(\"Valor de la Función Objetivo a Maximizar: \", solver.Objective().Value())\n",
    "\n",
    "    for j in range(model_data[\"num_variables\"]):\n",
    "        print(x[j].name(), \" = \",x[j].solution_value())\n",
    "else:\n",
    "    print(\"El modelo no tiene una solución optima\")"
   ]
  },
  {
   "cell_type": "markdown",
   "metadata": {},
   "source": [
    "## Cuarto Punto"
   ]
  },
  {
   "cell_type": "markdown",
   "metadata": {},
   "source": [
    "### Proposición"
   ]
  },
  {
   "cell_type": "markdown",
   "metadata": {},
   "source": [
    "La empresa Bavaria plantea su plan de producción para el año 2023, el cual le permita satisfacer la demanda de consumidores durante todo el año. La producción de cada litro de cerveza tiene un costo de 2 USD, este costo se mantiene durante el primer trimestre del año. Posterior a ello el costo incrementa a 3 USD durante el siguiente trimestre, y después de ello incrementa en un 75% para los meses siguientes. La empresa maneja unas demandas promedio de 120 mil, 120 mil, 140 mil litros de cerveza mensuales durante el primer trimestre, pero posterior a ello se incrementa la demanda 15 mil litros en relación con el mes que corresponde al trimestre anterior. En el último trimestre la demanda se duplica en relación con respecto al primer trimestre. La planta trabaja durante dos turnos al día, en el primer turno se operan 5 tanques de producción y en la tarde 4, cada tanque cuenta con capacidad de producción de 30 mil litros semanales de cerveza. El gerente indica que la operación durante el turno de la tarde incurre en costos adicionales de 25% por litro producido. En una situación de desabastecimiento la puede almacenar hasta 200 mil litros con un costo de 1,5 por litro almacenado. Definir el plan de producción que garantice satisfacer la demanda"
   ]
  },
  {
   "cell_type": "markdown",
   "metadata": {},
   "source": [
    "### Modelo"
   ]
  },
  {
   "cell_type": "code",
   "execution_count": 2,
   "metadata": {},
   "outputs": [],
   "source": [
    "solver = pywraplp.Solver.CreateSolver(\"GLOP\")\n",
    "infinity = solver.infinity()\n",
    "\n",
    "model_data = {}"
   ]
  },
  {
   "cell_type": "markdown",
   "metadata": {},
   "source": [
    "#### Conjuntos\n",
    "\n",
    "- $i$ = {Mes1, Mes2, Mes3, Mes4, Mes5, Mes6, Mes7, Mes8, Mes9, Mes10, Mes11, Mes12}\n",
    "- $j$ = {Manana, Tarde}\n",
    "- $k$ = {Mes1, Mes2, Mes3, Mes4, Mes5, Mes6, Mes7, Mes8, Mes9, Mes10, Mes11}\n"
   ]
  },
  {
   "cell_type": "markdown",
   "metadata": {},
   "source": [
    "#### Variables\n",
    "\n",
    "- $X_{ij} \\rightarrow$ Cantidad de litros de Cerveza en el $M_i$ en $J_j$\n",
    "- $Y_{ij} \\rightarrow$ Cantidad de litros de Cerveza en el $M_k$ en $J_j$ vendidos en $V_{k+1}$ "
   ]
  },
  {
   "cell_type": "code",
   "execution_count": 3,
   "metadata": {},
   "outputs": [],
   "source": [
    "model_data[\"num_variables\"] = 46\n",
    "model_data[\"Nombres variables\"] = [\n",
    "    \"xMes1-Manana\",\n",
    "    \"xMes2-Manana\",\n",
    "    \"xMes3-Manana\",\n",
    "    \"xMes4-Manana\",\n",
    "    \"xMes5-Manana\",\n",
    "    \"xMes6-Manana\",\n",
    "    \"xMes7-Manana\",\n",
    "    \"xMes8-Manana\",\n",
    "    \"xMes9-Manana\",\n",
    "    \"xMes10-Manana\",\n",
    "    \"xMes11-Manana\",\n",
    "    \"xMes12-Manana\",\n",
    "    \"xMes1-Tarde\",\n",
    "    \"xMes2-Tarde\",\n",
    "    \"xMes3-Tarde\",\n",
    "    \"xMes4-Tarde\",\n",
    "    \"xMes5-Tarde\",\n",
    "    \"xMes6-Tarde\",\n",
    "    \"xMes7-Tarde\",\n",
    "    \"xMes8-Tarde\",\n",
    "    \"xMes9-Tarde\",\n",
    "    \"xMes10-Tarde\",\n",
    "    \"xMes11-Tarde\",\n",
    "    \"xMes12-Tarde\",\n",
    "    # -\n",
    "    \"yMes1-Manana\",\n",
    "    \"yMes2-Manana\",\n",
    "    \"yMes3-Manana\",\n",
    "    \"yMes4-Manana\",\n",
    "    \"yMes5-Manana\",\n",
    "    \"yMes6-Manana\",\n",
    "    \"yMes7-Manana\",\n",
    "    \"yMes8-Manana\",\n",
    "    \"yMes9-Manana\",\n",
    "    \"yMes10-Manana\",\n",
    "    \"yMes11-Manana\",\n",
    "    \"yMes1-Tarde\",\n",
    "    \"yMes2-Tarde\",\n",
    "    \"yMes3-Tarde\",\n",
    "    \"yMes4-Tarde\",\n",
    "    \"yMes5-Tarde\",\n",
    "    \"yMes6-Tarde\",\n",
    "    \"yMes7-Tarde\",\n",
    "    \"yMes8-Tarde\",\n",
    "    \"yMes9-Tarde\",\n",
    "    \"yMes10-Tarde\",\n",
    "    \"yMes11-Tarde\",\n",
    "]"
   ]
  },
  {
   "cell_type": "code",
   "execution_count": 4,
   "metadata": {},
   "outputs": [
    {
     "name": "stdout",
     "output_type": "stream",
     "text": [
      "numero de variables = 46\n"
     ]
    }
   ],
   "source": [
    "infinito = solver.infinity()\n",
    "x = {}\n",
    "\n",
    "for j in range(model_data[\"num_variables\"]):\n",
    "    x[j] = solver.Var(\n",
    "        0, infinito, integer=False, name=model_data[\"Nombres variables\"][j]\n",
    "    )\n",
    "\n",
    "print(\"numero de variables =\", solver.NumVariables())"
   ]
  },
  {
   "cell_type": "markdown",
   "metadata": {},
   "source": [
    "#### Restriciones"
   ]
  },
  {
   "cell_type": "code",
   "execution_count": 5,
   "metadata": {},
   "outputs": [],
   "source": [
    "model_data[\"num_restricciones\"] = 15\n",
    "model_data[\"Nombres restricciones\"] = [\n",
    "\t\"Capacidad tanque manana\",\n",
    "\t\"Capacidad tanque tarde\",\n",
    "    \"Mes1\",\n",
    "    \"Mes2\",\n",
    "    \"Mes3\",\n",
    "    \"Mes4\",\n",
    "    \"Mes5\",\n",
    "    \"Mes6\",\n",
    "    \"Mes7\",\n",
    "    \"Mes8\",\n",
    "    \"Mes9\",\n",
    "    \"Mes10\",\n",
    "    \"Mes11\",\n",
    "    \"Mes12\",\n",
    "    \"Desbastecimiento\",\n",
    "\t]\n",
    "\n",
    "model_data[\"coeficientes_restricciones\"] = [\n",
    " [1,1,1,1,1,1,1,1,1,1,1,1,0,0,0,0,0,0,0,0,0,0,0,0,1,1,1,1,1,1,1,1,1,1,1,0,0,0,0,0,0,0,0,0,0,0],\n",
    " [0,0,0,0,0,0,0,0,0,0,0,0,1,1,1,1,1,1,1,1,1,1,1,1,0,0,0,0,0,0,0,0,0,0,0,1,1,1,1,1,1,1,1,1,1,1],\n",
    " [1,0,0,0,0,0,0,0,0,0,0,0,1,0,0,0,0,0,0,0,0,0,0,0,0,0,0,0,0,0,0,0,0,0,0,0,0,0,0,0,0,0,0,0,0,0],\n",
    " [0,1,0,0,0,0,0,0,0,0,0,0,0,1,0,0,0,0,0,0,0,0,0,0,1,0,0,0,0,0,0,0,0,0,0,1,0,0,0,0,0,0,0,0,0,0],\n",
    " [0,0,1,0,0,0,0,0,0,0,0,0,0,0,1,0,0,0,0,0,0,0,0,0,0,1,0,0,0,0,0,0,0,0,0,0,1,0,0,0,0,0,0,0,0,0],\n",
    " [0,0,0,1,0,0,0,0,0,0,0,0,0,0,0,1,0,0,0,0,0,0,0,0,0,0,1,0,0,0,0,0,0,0,0,0,0,1,0,0,0,0,0,0,0,0],\n",
    " [0,0,0,0,1,0,0,0,0,0,0,0,0,0,0,0,1,0,0,0,0,0,0,0,0,0,0,1,0,0,0,0,0,0,0,0,0,0,1,0,0,0,0,0,0,0],\n",
    " [0,0,0,0,0,1,0,0,0,0,0,0,0,0,0,0,0,1,0,0,0,0,0,0,0,0,0,0,1,0,0,0,0,0,0,0,0,0,0,1,0,0,0,0,0,0],\n",
    " [0,0,0,0,0,0,1,0,0,0,0,0,0,0,0,0,0,0,1,0,0,0,0,0,0,0,0,0,0,1,0,0,0,0,0,0,0,0,0,0,1,0,0,0,0,0],\n",
    " [0,0,0,0,0,0,0,1,0,0,0,0,0,0,0,0,0,0,0,1,0,0,0,0,0,0,0,0,0,0,1,0,0,0,0,0,0,0,0,0,0,1,0,0,0,0],\n",
    " [0,0,0,0,0,0,0,0,1,0,0,0,0,0,0,0,0,0,0,0,1,0,0,0,0,0,0,0,0,0,0,1,0,0,0,0,0,0,0,0,0,0,1,0,0,0],\n",
    " [0,0,0,0,0,0,0,0,0,1,0,0,0,0,0,0,0,0,0,0,0,1,0,0,0,0,0,0,0,0,0,0,1,0,0,0,0,0,0,0,0,0,0,1,0,0],\n",
    " [0,0,0,0,0,0,0,0,0,0,1,0,0,0,0,0,0,0,0,0,0,0,1,0,0,0,0,0,0,0,0,0,0,1,0,0,0,0,0,0,0,0,0,0,1,0],\n",
    " [0,0,0,0,0,0,0,0,0,0,0,1,0,0,0,0,0,0,0,0,0,0,0,1,0,0,0,0,0,0,0,0,0,0,1,0,0,0,0,0,0,0,0,0,0,1],\n",
    " [0,0,0,0,0,0,0,0,0,0,0,0,0,0,0,0,0,0,0,0,0,0,0,0,1,1,1,1,1,1,1,1,1,1,1,1,1,1,1,1,1,1,1,1,1,1],\n",
    "]\n",
    "\n",
    "model_data[\"valores_lado_derecho\"] = [\n",
    "\t600000,\n",
    "    480000,\n",
    "    120000,\n",
    "    120000,\n",
    "\t140000,\n",
    "\t135000,\n",
    "\t135000,\n",
    "\t155000,\n",
    "    150000,\n",
    "\t150000,\n",
    "\t170000,\n",
    "\t270000,\n",
    "\t270000,\n",
    "\t280000,\n",
    "\t200000,\n",
    "]"
   ]
  },
  {
   "cell_type": "code",
   "execution_count": 6,
   "metadata": {},
   "outputs": [
    {
     "name": "stdout",
     "output_type": "stream",
     "text": [
      "Numero de restricciones = 15\n"
     ]
    }
   ],
   "source": [
    "for i in range(model_data[\"num_restricciones\"]):\n",
    "    restricciones = solver.RowConstraint(0, model_data[\"valores_lado_derecho\"][i], model_data[\"Nombres restricciones\"][i])\n",
    "\n",
    "    for j in range(model_data[\"num_variables\"]):\n",
    "        restricciones.SetCoefficient(x[j],model_data[\"coeficientes_restricciones\"][i][j])\n",
    "\n",
    "print(\"Numero de restricciones =\", solver.NumConstraints())"
   ]
  },
  {
   "cell_type": "markdown",
   "metadata": {},
   "source": [
    "#### Funcion Objetivo"
   ]
  },
  {
   "cell_type": "code",
   "execution_count": 7,
   "metadata": {},
   "outputs": [],
   "source": [
    "model_data[\"coeficientes_funcionOb\"] = [\n",
    "    2,\n",
    "    2,\n",
    "    2,\n",
    "    3,\n",
    "    3,\n",
    "    3,\n",
    "    5.25,\n",
    "    5.25,\n",
    "    5.25,\n",
    "    5.25,\n",
    "    5.25,\n",
    "    5.25,\n",
    "    2.5,\n",
    "    2.5,\n",
    "    2.5,\n",
    "    3.75,\n",
    "    3.75,\n",
    "    3.57,\n",
    "    6.56,\n",
    "    6.56,\n",
    "    6.56,\n",
    "    6.56,\n",
    "    6.56,\n",
    "    6.56,\n",
    "    # -\n",
    "    3.5,\n",
    "    3.5,\n",
    "    3.5,\n",
    "    4.5,\n",
    "    4.5,\n",
    "    4.5,\n",
    "    6.75,\n",
    "    6.75,\n",
    "    6.75,\n",
    "    6.75,\n",
    "    6.75,\n",
    "    4,\n",
    "    4,\n",
    "    4,\n",
    "    5.25,\n",
    "    5.25,\n",
    "    5.25,\n",
    "    8.06,\n",
    "    8.06,\n",
    "    8.06,\n",
    "    8.06,\n",
    "    8.06,\n",
    "]"
   ]
  },
  {
   "cell_type": "code",
   "execution_count": 8,
   "metadata": {},
   "outputs": [],
   "source": [
    "funcion_Objetivo = solver.Objective()\n",
    "\n",
    "for j in range(model_data[\"num_variables\"]):\n",
    "    funcion_Objetivo.SetCoefficient(x[j], model_data[\"coeficientes_funcionOb\"][j])"
   ]
  },
  {
   "cell_type": "markdown",
   "metadata": {},
   "source": [
    "<h3 style=\"color:red\">Verficar Max/Min</h3>"
   ]
  },
  {
   "cell_type": "code",
   "execution_count": 11,
   "metadata": {},
   "outputs": [],
   "source": [
    "funcion_Objetivo.SetMinimization()"
   ]
  },
  {
   "cell_type": "markdown",
   "metadata": {},
   "source": [
    "### Solucion"
   ]
  },
  {
   "cell_type": "code",
   "execution_count": 13,
   "metadata": {},
   "outputs": [
    {
     "name": "stdout",
     "output_type": "stream",
     "text": [
      "Solución\n",
      "Valor de la Función Objetivo a Maximizar:  6598800.0\n",
      "xMes1-Manana  =  0.0\n",
      "xMes2-Manana  =  0.0\n",
      "xMes3-Manana  =  0.0\n",
      "xMes4-Manana  =  0.0\n",
      "xMes5-Manana  =  0.0\n",
      "xMes6-Manana  =  0.0\n",
      "xMes7-Manana  =  0.0\n",
      "xMes8-Manana  =  150000.0\n",
      "xMes9-Manana  =  0.0\n",
      "xMes10-Manana  =  270000.0\n",
      "xMes11-Manana  =  140000.0\n",
      "xMes12-Manana  =  39999.99999999996\n",
      "xMes1-Tarde  =  0.0\n",
      "xMes2-Tarde  =  0.0\n",
      "xMes3-Tarde  =  0.0\n",
      "xMes4-Tarde  =  0.0\n",
      "xMes5-Tarde  =  0.0\n",
      "xMes6-Tarde  =  0.0\n",
      "xMes7-Tarde  =  150000.0\n",
      "xMes8-Tarde  =  0.0\n",
      "xMes9-Tarde  =  0.0\n",
      "xMes10-Tarde  =  0.0\n",
      "xMes11-Tarde  =  129999.99999999999\n",
      "xMes12-Tarde  =  0.0\n",
      "yMes1-Manana  =  0.0\n",
      "yMes2-Manana  =  0.0\n",
      "yMes3-Manana  =  0.0\n",
      "yMes4-Manana  =  0.0\n",
      "yMes5-Manana  =  0.0\n",
      "yMes6-Manana  =  0.0\n",
      "yMes7-Manana  =  0.0\n",
      "yMes8-Manana  =  0.0\n",
      "yMes9-Manana  =  0.0\n",
      "yMes10-Manana  =  0.0\n",
      "yMes11-Manana  =  0.0\n",
      "yMes1-Tarde  =  0.0\n",
      "yMes2-Tarde  =  0.0\n",
      "yMes3-Tarde  =  0.0\n",
      "yMes4-Tarde  =  0.0\n",
      "yMes5-Tarde  =  0.0\n",
      "yMes6-Tarde  =  0.0\n",
      "yMes7-Tarde  =  0.0\n",
      "yMes8-Tarde  =  0.0\n",
      "yMes9-Tarde  =  0.0\n",
      "yMes10-Tarde  =  0.0\n",
      "yMes11-Tarde  =  200000.0\n"
     ]
    }
   ],
   "source": [
    "modelo=solver.Solve()\n",
    "\n",
    "if modelo == pywraplp.Solver.OPTIMAL:\n",
    "    print(\"Solución\")\n",
    "    print(\"Valor de la Función Objetivo a Maximizar: \", solver.Objective().Value())\n",
    "\n",
    "    for j in range(model_data[\"num_variables\"]):\n",
    "        print(x[j].name(), \" = \",x[j].solution_value())\n",
    "else:\n",
    "    print(\"El modelo no tiene una solución optima\")"
   ]
  },
  {
   "cell_type": "markdown",
   "metadata": {},
   "source": [
    "## Quinto punto"
   ]
  },
  {
   "cell_type": "markdown",
   "metadata": {},
   "source": [
    "### Proposición"
   ]
  },
  {
   "cell_type": "markdown",
   "metadata": {},
   "source": [
    "Harinera del valle tiene 5 centros productivos en la región del valle del cauca, el primero ubicado en Palmira produce 150000 bultos de Harina al día, el segundo centro se encuentra en Buga y generan 160000 bultos de Harina diarios, Tuluá produce 180000 bultos de Harina al día, Yumbo 250000 bultos de Harina al día y Cartago produce 180000 bultos de Harina al día. Los centros productivos atienden la demanda de las 6 principales ciudades del país, con demandas mensuales de 5 millones de bultos de harina para Bogotá, 6 millones para Medellín, 5.3 millones para Cali, 3.5 millones para Barranquilla, 4 millones para Cartagena de Indias y Manizales con 3.5 millones. La tabla que relaciona los costos se describe a continuación:"
   ]
  },
  {
   "attachments": {
    "image.png": {
     "image/png": "[encoded data removed]"
    }
   },
   "cell_type": "markdown",
   "metadata": {},
   "source": [
    "![image.png](attachment:image.png)"
   ]
  },
  {
   "cell_type": "markdown",
   "metadata": {},
   "source": [
    "### Model"
   ]
  },
  {
   "cell_type": "code",
   "execution_count": 2,
   "metadata": {},
   "outputs": [],
   "source": [
    "solver = pywraplp.Solver.CreateSolver(\"GLOP\")\n",
    "infinity = solver.infinity()"
   ]
  },
  {
   "cell_type": "markdown",
   "metadata": {},
   "source": [
    "#### Conjuntos:\n",
    "\n",
    "- **Centros de produccion:** $\\rightarrow i$ = {Palmira, Buga, Tuluá, Yumbo, Cartago}\n",
    "- **Ciidades:** $\\rightarrow j$ = {Bogotá, Medellín, Cali, Barranquilla, Cartagena, Manizales}"
   ]
  },
  {
   "cell_type": "markdown",
   "metadata": {},
   "source": [
    "#### Variables de Desición\n",
    "\n",
    "- $x_{ij} \\rightarrow$ cantidad de bultos de harina que se transportan desde el centro de producción $i$ hasta la ciudad $j$ $\\forall{ij}$\n",
    "- $c_{ij} \\rightarrow$ costo de transporte de bulto de harina desde el centro de producción $i$ hasta la ciudad $j$ $\\forall{ij}$"
   ]
  },
  {
   "cell_type": "code",
   "execution_count": 3,
   "metadata": {},
   "outputs": [
    {
     "name": "stdout",
     "output_type": "stream",
     "text": [
      "Numero de variables = 30\n"
     ]
    }
   ],
   "source": [
    "x11 = solver.Var(0,infinity,integer=False,name=\"Palmira-Bogota\")\n",
    "x12 = solver.Var(0,infinity,integer=False,name=\"Palmira-Medellin\")\n",
    "x13 = solver.Var(0,infinity,integer=False,name=\"Palmira-cali\")\n",
    "x14 = solver.Var(0,infinity,integer=False,name=\"Palmira-Barranquilla\")\n",
    "x15 = solver.Var(0,infinity,integer=False,name=\"Palmira-Cartagena\")\n",
    "x16 = solver.Var(0,infinity,integer=False,name=\"Palmira-Manizales\")\n",
    "\n",
    "x21 = solver.Var(0,infinity,integer=False,name=\"Buga-Bogota\")\n",
    "x22 = solver.Var(0,infinity,integer=False,name=\"Buga-Medellin\")\n",
    "x23 = solver.Var(0,infinity,integer=False,name=\"Buga-cali\")\n",
    "x24 = solver.Var(0,infinity,integer=False,name=\"Buga-Barranquilla\")\n",
    "x25 = solver.Var(0,infinity,integer=False,name=\"Buga-Cartagena\")\n",
    "x26 = solver.Var(0,infinity,integer=False,name=\"Buga-Manizales\")\n",
    "\n",
    "x31 = solver.Var(0,infinity,integer=False,name=\"Tuluá-Bogota\")\n",
    "x32 = solver.Var(0,infinity,integer=False,name=\"Tuluá-Medellin\")\n",
    "x33 = solver.Var(0,infinity,integer=False,name=\"Tuluá-cali\")\n",
    "x34 = solver.Var(0,infinity,integer=False,name=\"Tuluá-Barranquilla\")\n",
    "x35 = solver.Var(0,infinity,integer=False,name=\"Tuluá-Cartagena\")\n",
    "x36 = solver.Var(0,infinity,integer=False,name=\"Tuluá-Manizales\")\n",
    "\n",
    "x41 = solver.Var(0,infinity,integer=False,name=\"Yumbo-Bogota\")\n",
    "x42 = solver.Var(0,infinity,integer=False,name=\"Yumbo-Medellin\")\n",
    "x43 = solver.Var(0,infinity,integer=False,name=\"Yumbo-cali\")\n",
    "x44 = solver.Var(0,infinity,integer=False,name=\"Yumbo-Barranquilla\")\n",
    "x45 = solver.Var(0,infinity,integer=False,name=\"Yumbo-Cartagena\")\n",
    "x46 = solver.Var(0,infinity,integer=False,name=\"Yumbo-Manizales\")\n",
    "\n",
    "x51 = solver.Var(0,infinity,integer=False,name=\"Cartago-Bogota\")\n",
    "x52 = solver.Var(0,infinity,integer=False,name=\"Cartago-Medellin\")\n",
    "x53 = solver.Var(0,infinity,integer=False,name=\"Cartago-cali\")\n",
    "x54 = solver.Var(0,infinity,integer=False,name=\"Cartago-Barranquilla\")\n",
    "x55 = solver.Var(0,infinity,integer=False,name=\"Cartago-Cartagena\")\n",
    "x56 = solver.Var(0,infinity,integer=False,name=\"Cartago-Manizales\")\n",
    "\n",
    "\n",
    "\n",
    "print(\"Numero de variables =\", solver.NumVariables())"
   ]
  },
  {
   "cell_type": "markdown",
   "metadata": {},
   "source": [
    "#### Restriciones"
   ]
  },
  {
   "cell_type": "markdown",
   "metadata": {},
   "source": [
    "##### Capacidad de Produccion\n",
    "- **Palmira:** $\\rightarrow $ $x_{11}+x_{12}+x_{13}+x_{14}+x_{15}+x_{16}\\leq 150000 * 30$\n",
    "\n",
    "- **Buga:** $\\rightarrow $ $x_{21}+x_{22}+x_{23}+x_{24}+x_{25}+x_{26}\\leq 160000 * 30$\n",
    "\n",
    "- **Tualuá:** $\\rightarrow $ $ $x_{31}+x_{32}+x_{33}+x_{34}+x_{35}+x_{36}\\leq 180000 * 30$\n",
    "\n",
    "- **Yumbo:** $\\rightarrow $ $x_{41}+x_{42}+x_{43}+x_{44}+x_{45}+x_{46}\\leq 250000 * 30$\n",
    "\n",
    "- **Cartago:** $\\rightarrow $ $x_{51}+x_{52}+x_{53}+x_{54}+x_{55}+x_{56}\\leq 180000 * 30$\n",
    "\n",
    "\n"
   ]
  },
  {
   "cell_type": "code",
   "execution_count": 4,
   "metadata": {},
   "outputs": [
    {
     "data": {
      "text/plain": [
       "<ortools.linear_solver.pywraplp.Constraint; proxy of <Swig Object of type 'operations_research::MPConstraint *' at 0x000002B32461A630> >"
      ]
     },
     "execution_count": 4,
     "metadata": {},
     "output_type": "execute_result"
    }
   ],
   "source": [
    "solver.Add(x11+x12+x13+x14+x15+x16<=150000*30) #Palmira\n",
    "solver.Add(x21+x22+x23+x24+x25+x26<=160000*30) #Buga\n",
    "solver.Add(x31+x32+x33+x34+x35+x36<=180000*30) #Tuluá\n",
    "solver.Add(x41+x42+x43+x44+x45+x46<=250000*30) #Yumbo\n",
    "solver.Add(x51+x52+x53+x54+x55+x56<=180000*30) #Cartago"
   ]
  },
  {
   "cell_type": "markdown",
   "metadata": {},
   "source": [
    "##### Demanda de cuidades\n",
    "\n",
    "- **Bogotá:** $\\rightarrow $ $x_{11}+x_{21}+x_{31}+x_{41}+x_{51}\\geq 5000000$\n",
    "\n",
    "- **Medllín:** $\\rightarrow $ $x_{12}+x_{22}+x_{32}+x_{42}+x_{52}\\geq 6000000$\n",
    "\n",
    "- **Cali:** $\\rightarrow $ $x_{13}+x_{23}+x_{33}+x_{43}+x_{53} \\geq 5300000$\n",
    "\n",
    "- **Barranquilla:** $\\rightarrow $ $x_{14}+x_{24}+x_{34}+x_{44}+x_{54} \\geq 350000$\n",
    "- **Cartagena:** $\\rightarrow $ $x_{15}+x_{25}+x_{35}+x_{45}+x_{55} \\geq 4000000$\n",
    "\n",
    "- **Manizales:** $\\rightarrow $ $x_{16}+x_{26}+x_{36}+x_{46}+x_{56} \\geq 3500000$\n",
    "\n"
   ]
  },
  {
   "cell_type": "code",
   "execution_count": 5,
   "metadata": {},
   "outputs": [
    {
     "name": "stdout",
     "output_type": "stream",
     "text": [
      "Numero de restricciones 11\n"
     ]
    }
   ],
   "source": [
    "solver.Add(x11+x21+x31+x41+x51>=5000000) #Bogota\n",
    "solver.Add(x12+x22+x32+x42+x52>=6000000) #Medellin\n",
    "solver.Add(x13+x23+x33+x43+x53>=5300000) #Cali\n",
    "solver.Add(x14+x24+x34+x44+x54>=3500000) #Barranquilla\n",
    "solver.Add(x15+x25+x35+x45+x55>=4000000) #Cartagena\n",
    "solver.Add(x16+x26+x36+x46+x56>=3500000) #Manizales\n",
    "\n",
    "print(\"Numero de restricciones\", solver.NumConstraints())"
   ]
  },
  {
   "cell_type": "markdown",
   "metadata": {},
   "source": [
    "##### No negatividad\n",
    "$x_{ij} \\geq 0  ∀ i, j$"
   ]
  },
  {
   "cell_type": "markdown",
   "metadata": {},
   "source": [
    "#### Funcion Objetivo"
   ]
  },
  {
   "cell_type": "markdown",
   "metadata": {},
   "source": [
    "$Min\\;z = 27x_{11}+17x_{12}+21x_{13}+24x_{14}+45x_{15}+16x_{16}+32x_{21}+42x_{22}+46x_{23}+16x_{24}+23x_{25}+49x_{26}+26x_{31}+29x_{32}+25x_{33}+30x_{34}+14x_{35}+45x_{36}+34x_{41}+32x_{42}+48x_{43}+29x_{44}+27x_{45}+47x_{46}+20x_{51}+13x_{52}+43x_{53}+49x_{54}+19x_{55}+22x_{56} $"
   ]
  },
  {
   "cell_type": "code",
   "execution_count": 6,
   "metadata": {},
   "outputs": [],
   "source": [
    "solver.Minimize(27*x11+17*x12+21*x13+24*x14+45*x15+16*x16+\n",
    "                32*x21+42*x22+46*x23+16*x24+23*x25+49*x26+\n",
    "                26*x31+29*x32+25*x33+30*x34+14*x35+45*x36+\n",
    "                34*x41+32*x42+48*x43+29*x44+27*x45+47*x46+\n",
    "                20*x51+13*x52+43*x53+49*x54+19*x55+22*x56)\n",
    "\n",
    "status=solver.Solve()"
   ]
  },
  {
   "cell_type": "markdown",
   "metadata": {},
   "source": [
    "#### Solucion"
   ]
  },
  {
   "cell_type": "code",
   "execution_count": 7,
   "metadata": {},
   "outputs": [
    {
     "name": "stdout",
     "output_type": "stream",
     "text": [
      "Solución\n",
      "Valor de la Función Objetivo a Maximizar:  588399999.9999999\n",
      "Palmira-Bogota  0.0\n",
      "Palmira-Medellin  0.0\n",
      "Palmira-cali  1000000.0000000003\n",
      "Palmira-Barranquilla  0.0\n",
      "Palmira-Cartagena 0.0\n",
      "Palmira-Manizales 3500000.0\n",
      "   \n",
      "Buga-Bogota  0.0\n",
      "Buga-Medellin  0.0\n",
      "Buga-cali  0.0\n",
      "Buga-Barranquilla  3500000.0\n",
      "Buga-Cartagena 1300000.0\n",
      "Buga-Manizales 0.0\n",
      "   \n",
      "Tuluá-Bogota  0.0\n",
      "Tuluá-Medellin  0.0\n",
      "Tuluá-cali  4299999.999999999\n",
      "Tuluá-Barranquilla  0.0\n",
      "Tuluá-Cartagena 1100000.0000000007\n",
      "Tuluá-Manizales 0.0\n",
      "   \n",
      "Yumbo-Bogota  5000000.0\n",
      "Yumbo-Medellin  599999.9999999994\n",
      "Yumbo-cali  0.0\n",
      "Yumbo-Barranquilla  0.0\n",
      "Yumbo-Cartagena 1599999.999999999\n",
      "Yumbo-Manizales 0.0\n",
      "   \n",
      "Cartago-Bogota  0.0\n",
      "Cartago-Medellin  5400000.0\n",
      "Cartago-cali  0.0\n",
      "Cartago-Barranquilla  0.0\n",
      "Cartago-Cartagena 0.0\n",
      "Cartago-Manizales 0.0\n"
     ]
    }
   ],
   "source": [
    "if status == pywraplp.Solver.OPTIMAL:\n",
    "    print(\"Solución\")\n",
    "    print(\"Valor de la Función Objetivo a Maximizar: \", solver.Objective().Value())\n",
    "    print(\"Palmira-Bogota \", x11.solution_value())\n",
    "    print(\"Palmira-Medellin \", x12.solution_value())\n",
    "    print(\"Palmira-cali \", x13.solution_value())\n",
    "    print(\"Palmira-Barranquilla \", x14.solution_value())\n",
    "    print(\"Palmira-Cartagena\", x15.solution_value())\n",
    "    print(\"Palmira-Manizales\", x16.solution_value())\n",
    "    print(\"   \")\n",
    "    print(\"Buga-Bogota \", x21.solution_value())\n",
    "    print(\"Buga-Medellin \", x22.solution_value())\n",
    "    print(\"Buga-cali \", x23.solution_value())\n",
    "    print(\"Buga-Barranquilla \", x24.solution_value())\n",
    "    print(\"Buga-Cartagena\", x25.solution_value())\n",
    "    print(\"Buga-Manizales\", x26.solution_value())\n",
    "    print(\"   \")\n",
    "    print(\"Tuluá-Bogota \", x31.solution_value())\n",
    "    print(\"Tuluá-Medellin \", x32.solution_value())\n",
    "    print(\"Tuluá-cali \", x33.solution_value())\n",
    "    print(\"Tuluá-Barranquilla \", x34.solution_value())\n",
    "    print(\"Tuluá-Cartagena\", x35.solution_value())\n",
    "    print(\"Tuluá-Manizales\", x36.solution_value())\n",
    "    print(\"   \")\n",
    "    print(\"Yumbo-Bogota \", x41.solution_value())\n",
    "    print(\"Yumbo-Medellin \", x42.solution_value())\n",
    "    print(\"Yumbo-cali \", x43.solution_value())\n",
    "    print(\"Yumbo-Barranquilla \", x44.solution_value())\n",
    "    print(\"Yumbo-Cartagena\", x45.solution_value())\n",
    "    print(\"Yumbo-Manizales\", x46.solution_value())\n",
    "    print(\"   \")\n",
    "    print(\"Cartago-Bogota \", x51.solution_value())\n",
    "    print(\"Cartago-Medellin \", x52.solution_value())\n",
    "    print(\"Cartago-cali \", x53.solution_value())\n",
    "    print(\"Cartago-Barranquilla \", x54.solution_value())\n",
    "    print(\"Cartago-Cartagena\", x55.solution_value())\n",
    "    print(\"Cartago-Manizales\", x56.solution_value())\n",
    "\n",
    "else:\n",
    "    print(\"El modelo no tiene una solución optima\")"
   ]
  },
  {
   "cell_type": "markdown",
   "metadata": {},
   "source": [
    "- **a**. ¿Cuál es el costo de aprovisionar la ciudad de Bogotá?\n",
    "- **b**. ¿Cuál es el costo de aprovisionar la ciudad de Medellín?\n",
    "- **c**. ¿El ejercicio está balanceado? ¿Cuál es el punto de destino o de origen que se ve afectado en el caso de que el ejercicio este desbalanceado?\n",
    "- **d**. ¿Cuánto invierte en costos de distribución la planta de Tuluá?\n",
    "- **e**. ¿Cuánto invierte en costos de distribución la planta de Yumbo?"
   ]
  },
  {
   "cell_type": "code",
   "execution_count": 8,
   "metadata": {},
   "outputs": [
    {
     "name": "stdout",
     "output_type": "stream",
     "text": [
      "a) El costo de aprovisionar a la cuidad de bogota es:  170000000.0\n",
      "b) El costo de aprovisionar a la cuidad de Medellin es:  89399999.99999999\n",
      "c) El ejercicio esta desbalanceado ya que la Ofertar >= Demanda el punto de origigen que se ve afectado es Yumbo ya que al terminar el mes le sobrarian 300 mil bultos de harina \n",
      "d) La cantidad que invierte la distribuidora de la planta de Tulúa es: 122899999.99999999\n",
      "e) La cantidad que invierte la distribuidora de la planta de Yumbo es: 232399999.99999994\n"
     ]
    }
   ],
   "source": [
    "print(\"a) El costo de aprovisionar a la cuidad de bogota es: \",27*(x11.solution_value())+32*(x21.solution_value())+26*(x31.solution_value())+34*(x41.solution_value())+20*(x51.solution_value()))\n",
    "print(\"b) El costo de aprovisionar a la cuidad de Medellin es: \",17*(x12.solution_value())+42*(x22.solution_value())+29*(x32.solution_value())+32*(x42.solution_value())+13*(x52.solution_value()))\n",
    "print(\"c) El ejercicio esta desbalanceado ya que la Ofertar >= Demanda el punto de origigen que se ve afectado es Yumbo ya que al terminar el mes le sobrarian 300 mil bultos de harina \")\n",
    "print(\"d) La cantidad que invierte la distribuidora de la planta de Tulúa es:\",26*(x31.solution_value())+29*(x32.solution_value())+25*(x33.solution_value())+30*(x34.solution_value())+14*(x35.solution_value())+45*(x36.solution_value()))\n",
    "print(\"e) La cantidad que invierte la distribuidora de la planta de Yumbo es:\",34*(x41.solution_value())+32*(x42.solution_value())+48*(x43.solution_value())+29*(x44.solution_value())+27*(x45.solution_value())+47*(x46.solution_value()))\n"
   ]
  },
  {
   "cell_type": "markdown",
   "metadata": {},
   "source": [
    "## Sexto Punto"
   ]
  },
  {
   "cell_type": "markdown",
   "metadata": {},
   "source": [
    "### Proposición"
   ]
  },
  {
   "cell_type": "markdown",
   "metadata": {},
   "source": [
    "La empresa francesa de trenes SNCF en una de sus unidades de negocio se dedica al transporte de pasajeros, para que cada uno de sus trenes inicie los recorridos se debe tener completa la tripulación del tren con el fin de garantizar la normativa francesa. Para asignar trabajadores al tren la empresa contrata los servicios de 4 empresas, la empresa “los alegres” cuenta con 2500 empleados, la empresa “los estudiosos” cuenta con 1800 empleados, la empresa “los creativos” cuenta con 3500 empleados, y la empresa “trabajo en equipo” cuenta con 1800 empleados. Cada una de las empresas negocia una tarifa particular para cada ciudad de destino desde la cual saldrán los trenes. Los trenes requieren de 50 personas para salir de la estación del tren, y cada ciudad despacha una cantidad diferentes de trenes, París despacha 50 trenes diarios, Lyon 42 trenes diarios, Niza opera con 20 trenes diarios, Lille despacha 25 trenes y Toulouse utiliza 30 trenes. La matriz de costos por empleado se muestra a continuación:"
   ]
  },
  {
   "attachments": {
    "image.png": {
     "image/png": "[encoded data removed]"
    }
   },
   "cell_type": "markdown",
   "metadata": {},
   "source": [
    "![image.png](attachment:image.png)\n"
   ]
  },
  {
   "cell_type": "markdown",
   "metadata": {},
   "source": [
    "### Model"
   ]
  },
  {
   "cell_type": "code",
   "execution_count": 2,
   "metadata": {},
   "outputs": [],
   "source": [
    "solver = pywraplp.Solver.CreateSolver(\"GLOP\")\n",
    "infinity = solver.infinity()"
   ]
  },
  {
   "cell_type": "markdown",
   "metadata": {},
   "source": [
    "#### Conjuntos:\n",
    "- **Empresas:** $\\rightarrow i$ = {Los alegres, Los estudiosos, Los creativos, Trabajo en equipo}\n",
    "- **Empleados:** $\\rightarrow d$ ={2500, 1800, 3500, 1800}\n",
    "- **Cuidades:** $\\rightarrow j$ = {Paris, Lyon, Nize, Lille, Toulouse}\n",
    "- **Trenes:** $\\rightarrow t$ = {50, 42, 20, 25, 30}\n",
    "\n"
   ]
  },
  {
   "cell_type": "markdown",
   "metadata": {},
   "source": [
    "#### Variables de Decisión\n",
    "\n",
    "- $x_{ij} \\rightarrow$ número de trabajadores de la empresa  $i$  asignados a la ciudad  $j$ $\\forall{ij}$\n",
    "- $C_{ij} \\rightarrow$ costo por trabajador de la empresa    $i$  en la ciudad  $j$ $\\forall{ij}$\n",
    "- $d_{i} \\rightarrow$ Cnt de Emp en la empresa    $i$ $\\forall{i}$\n",
    "- $t_{j} \\rightarrow$ Cnt de trenes diarios para la cuidad  $j$   $\\forall{j}$"
   ]
  },
  {
   "cell_type": "code",
   "execution_count": 3,
   "metadata": {},
   "outputs": [
    {
     "name": "stdout",
     "output_type": "stream",
     "text": [
      "Numero de variables = 20\n"
     ]
    }
   ],
   "source": [
    "x11 = solver.Var(0,infinity,integer=False,name=\"Alegres-Paris\")\n",
    "x12 = solver.Var(0,infinity,integer=False,name=\"Alegres-Lyon\")\n",
    "x13 = solver.Var(0,infinity,integer=False,name=\"Alegres-Niza\")\n",
    "x14 = solver.Var(0,infinity,integer=False,name=\"Alegres-Lille\")\n",
    "x15 = solver.Var(0,infinity,integer=False,name=\"Alegres-Toulouse\")\n",
    "\n",
    "\n",
    "x21 = solver.Var(0,infinity,integer=False,name=\"Estudiosos-Paris\")\n",
    "x22 = solver.Var(0,infinity,integer=False,name=\"Estudiosos-Lyon\")\n",
    "x23 = solver.Var(0,infinity,integer=False,name=\"Estudiosos-Niza\")\n",
    "x24 = solver.Var(0,infinity,integer=False,name=\"Estudiosos-Lille\")\n",
    "x25 = solver.Var(0,infinity,integer=False,name=\"Estudiosos-Toulouse\")\n",
    "\n",
    "\n",
    "x31 = solver.Var(0,infinity,integer=False,name=\"Creativos-Paris\")\n",
    "x32 = solver.Var(0,infinity,integer=False,name=\"Creativos-Lyon\")\n",
    "x33 = solver.Var(0,infinity,integer=False,name=\"Creativos-Niza\")\n",
    "x34 = solver.Var(0,infinity,integer=False,name=\"Creativos-Lille\")\n",
    "x35 = solver.Var(0,infinity,integer=False,name=\"Creativos-Toulouse\")\n",
    "\n",
    "\n",
    "x41 = solver.Var(0,infinity,integer=False,name=\"Trabajo en equipo -Paris\")\n",
    "x42 = solver.Var(0,infinity,integer=False,name=\"Trabajo en equipo-Lyon\")\n",
    "x43 = solver.Var(0,infinity,integer=False,name=\"Trabajo en equipo-Niza\")\n",
    "x44 = solver.Var(0,infinity,integer=False,name=\"Trabajo en equipo-Lille\")\n",
    "x45 = solver.Var(0,infinity,integer=False,name=\"Trabajo en equipo-Toulouse\")\n",
    "\n",
    "print(\"Numero de variables =\", solver.NumVariables())"
   ]
  },
  {
   "cell_type": "markdown",
   "metadata": {},
   "source": [
    "#### Restricciones"
   ]
  },
  {
   "cell_type": "markdown",
   "metadata": {},
   "source": [
    "##### Disponibilidad de Empleados:"
   ]
  },
  {
   "cell_type": "markdown",
   "metadata": {},
   "source": [
    "$$\\sum_{j} x_{ij} \\leq d_i \\quad \\forall i$$"
   ]
  },
  {
   "cell_type": "code",
   "execution_count": 4,
   "metadata": {},
   "outputs": [
    {
     "data": {
      "text/plain": [
       "<ortools.linear_solver.pywraplp.Constraint; proxy of <Swig Object of type 'operations_research::MPConstraint *' at 0x000002ADF6A18270> >"
      ]
     },
     "execution_count": 4,
     "metadata": {},
     "output_type": "execute_result"
    }
   ],
   "source": [
    "solver.Add(x11+x12+x13+x14+x15<=2500) #Emp 1\n",
    "solver.Add(x21+x22+x23+x24+x25<=1800) #Emp 2\n",
    "solver.Add(x31+x32+x33+x34+x35<=3500) #Emp 3\n",
    "solver.Add(x41+x42+x43+x44+x45<=1800) #Emp 4"
   ]
  },
  {
   "cell_type": "markdown",
   "metadata": {},
   "source": [
    "##### Demada de trenes:"
   ]
  },
  {
   "cell_type": "markdown",
   "metadata": {},
   "source": [
    "$$\\sum_{i} x_{ij} \\geq t_j * 50\\quad \\forall j$$"
   ]
  },
  {
   "cell_type": "code",
   "execution_count": 5,
   "metadata": {},
   "outputs": [
    {
     "name": "stdout",
     "output_type": "stream",
     "text": [
      "Numero de restricciones 9\n"
     ]
    }
   ],
   "source": [
    "solver.Add(x11+x21+x31+x41>=50*50) #Paris\n",
    "solver.Add(x12+x22+x32+x42>=42*50) #Lyon\n",
    "solver.Add(x13+x23+x33+x43>=20*50) #niza\n",
    "solver.Add(x14+x24+x34+x44>=25*50) #Lille\n",
    "solver.Add(x15+x25+x35+x45>=30*50) #Toulouse\n",
    "\n",
    "print(\"Numero de restricciones\", solver.NumConstraints())"
   ]
  },
  {
   "cell_type": "markdown",
   "metadata": {},
   "source": [
    "##### No negatividad\n",
    "$x_{ij} \\geq 0  ∀ i, j$"
   ]
  },
  {
   "cell_type": "markdown",
   "metadata": {},
   "source": [
    "#### Funcion Objetivo\n",
    "$Minz=\\sum_{i} \\sum_{j} c_{ij} x_{ij}$"
   ]
  },
  {
   "cell_type": "code",
   "execution_count": 6,
   "metadata": {},
   "outputs": [],
   "source": [
    "solver.Minimize(9.5*x11+8*x12+6.7*x13+6.8*x14+9*x15+\n",
    "                3.3*x21+1.8*x22+9.8*x23+2.6*x24+9.7*x25+\n",
    "                1.7*x31+7.7*x32+2.9*x33+6.7*x34+7.8*x35+\n",
    "                7.5*x41+7.7*x42+4.8*x43+3.6*x44+4.6*x45)\n",
    "\n",
    "status=solver.Solve()\n"
   ]
  },
  {
   "cell_type": "markdown",
   "metadata": {},
   "source": [
    "#### Solucion"
   ]
  },
  {
   "cell_type": "code",
   "execution_count": 7,
   "metadata": {},
   "outputs": [
    {
     "name": "stdout",
     "output_type": "stream",
     "text": [
      "Solución\n",
      "Valor de la Función Objetivo a Maximizar:  27230.0\n",
      "Alegres-Paris  0.0\n",
      "Alegres-Lyon  300.00000000000006\n",
      "Alegres-Niza  0.0\n",
      "Alegres-Lille  950.0\n",
      "Alegres-Toulouse 0.0\n",
      "   \n",
      "Estudiosos-Paris  0.0\n",
      "Estudiosos-Lyon  1800.0\n",
      "Estudiosos-Niza  0.0\n",
      "Estudiosos-Lille  0.0\n",
      "Estudiosos-Toulouse 0.0\n",
      "   \n",
      "Creativos-Paris  2500.0\n",
      "Creativos-Lyon  0.0\n",
      "Creativos-Niza  1000.0\n",
      "Creativos-Lille  0.0\n",
      "Creativos-Toulouse 0.0\n",
      "   \n",
      "Trabajo en equipo-Paris  0.0\n",
      "Trabajo en equipo-Lyon  0.0\n",
      "Trabajo en equipo-Niza  0.0\n",
      "Trabajo en equipo-Lille  300.00000000000006\n",
      "Trabajo en equipo-Toulouse 1500.0\n"
     ]
    }
   ],
   "source": [
    "if status == pywraplp.Solver.OPTIMAL:\n",
    "    print(\"Solución\")\n",
    "    print(\"Valor de la Función Objetivo a Maximizar: \", solver.Objective().Value())\n",
    "    print(\"Alegres-Paris \", x11.solution_value())\n",
    "    print(\"Alegres-Lyon \", x12.solution_value())\n",
    "    print(\"Alegres-Niza \", x13.solution_value())\n",
    "    print(\"Alegres-Lille \", x14.solution_value())\n",
    "    print(\"Alegres-Toulouse\", x15.solution_value())\n",
    "    print(\"   \")\n",
    "    print(\"Estudiosos-Paris \", x21.solution_value())\n",
    "    print(\"Estudiosos-Lyon \", x22.solution_value())\n",
    "    print(\"Estudiosos-Niza \", x23.solution_value())\n",
    "    print(\"Estudiosos-Lille \", x24.solution_value())\n",
    "    print(\"Estudiosos-Toulouse\", x25.solution_value())\n",
    "\n",
    "    print(\"   \")\n",
    "    print(\"Creativos-Paris \", x31.solution_value())\n",
    "    print(\"Creativos-Lyon \", x32.solution_value())\n",
    "    print(\"Creativos-Niza \", x33.solution_value())\n",
    "    print(\"Creativos-Lille \", x34.solution_value())\n",
    "    print(\"Creativos-Toulouse\", x35.solution_value())\n",
    "\n",
    "    print(\"   \")\n",
    "    print(\"Trabajo en equipo-Paris \", x41.solution_value())\n",
    "    print(\"Trabajo en equipo-Lyon \", x42.solution_value())\n",
    "    print(\"Trabajo en equipo-Niza \", x43.solution_value())\n",
    "    print(\"Trabajo en equipo-Lille \", x44.solution_value())\n",
    "    print(\"Trabajo en equipo-Toulouse\", x45.solution_value())\n",
    "\n",
    "\n",
    "\n",
    "else:\n",
    "    print(\"El modelo no tiene una solución optima\")"
   ]
  },
  {
   "cell_type": "markdown",
   "metadata": {},
   "source": [
    "- **a**. ¿Cuál es el costo de operar en París?\n",
    "- **b**. ¿Cuál es el costo de operar en Niza?\n",
    "- **c**. ¿Qué ciudad se ve afectada por la falta de trabajadores?\n",
    "- **d**. ¿Cuántos trenes no son posibles de poner en operación? \n",
    "- **e**. ¿Cuánto le adeuda la SNCF a la empresa “los creativos”? \n",
    "- **f**. ¿Cuánto le adeuda la SNCF a la empresa “los alegres”? "
   ]
  },
  {
   "cell_type": "code",
   "execution_count": 8,
   "metadata": {},
   "outputs": [
    {
     "name": "stdout",
     "output_type": "stream",
     "text": [
      "A) El Costo de operar en París es:  4250.0\n",
      "B) El Costo de operar en Niza es:  2900.0\n",
      "C) La cuidad que se ve afectada por la falta de trabajadores es : Ninguna cuidad se ve afectada\n",
      "D) La cantidad de trenes que no se pudo poner en operacion es: \n",
      "se cumplio con la cantidad de trenes dirios para cada cuidad no obstante para la empresa los alegres sobraron 1250 empleados por lo tanto pudo haber enviado 25 trenes mas\n",
      "E) la adeuda para la empresa los Creativos es: 7150.0\n",
      "E) la adeuda para la empresa los Alegres es: 8860.0\n"
     ]
    }
   ],
   "source": [
    "\n",
    "print(\"A) El Costo de operar en París es: \", 9.2*(x11.SolutionValue())+3.3*(x21.solution_value())+1.7*(x31.solution_value())+7.5*(x41.solution_value()))\n",
    "print(\"B) El Costo de operar en Niza es: \", 6.7*(x13.SolutionValue())+9.8*(x23.solution_value())+2.9*(x33.solution_value())+4.8*(x43.solution_value()))\n",
    "print(\"C) La cuidad que se ve afectada por la falta de trabajadores es : Ninguna cuidad se ve afectada\")\n",
    "print(\"D) La cantidad de trenes que no se pudo poner en operacion es: \\nse cumplio con la cantidad de trenes dirios para cada cuidad no obstante para la empresa los alegres sobraron 1250 empleados por lo tanto pudo haber enviado 25 trenes mas\")\n",
    "print(\"E) la adeuda para la empresa los Creativos es:\",1.7*(x31.SolutionValue())+7.7*(x32.solution_value())+2.9*(x33.solution_value())+6.7*(x34.solution_value()+7.8*(x35.solution_value())))\n",
    "print(\"E) la adeuda para la empresa los Alegres es:\",9.2*(x11.SolutionValue())+8*(x12.solution_value())+6.7*(x13.solution_value())+6.8*(x14.solution_value()+9*(x15.solution_value())))\n"
   ]
  }
 ],
 "metadata": {
  "kernelspec": {
   "display_name": "Python 3",
   "language": "python",
   "name": "python3"
  },
  "language_info": {
   "codemirror_mode": {
    "name": "ipython",
    "version": 3
   },
   "file_extension": ".py",
   "mimetype": "text/x-python",
   "name": "python",
   "nbconvert_exporter": "python",
   "pygments_lexer": "ipython3",
   "version": "3.12.2"
  }
 },
 "nbformat": 4,
 "nbformat_minor": 2
}

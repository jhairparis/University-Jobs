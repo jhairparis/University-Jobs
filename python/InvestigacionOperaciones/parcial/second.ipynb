{
 "cells": [
  {
   "cell_type": "markdown",
   "metadata": {},
   "source": [
    "# Solucion Parcial punto 2\n",
    "\n",
    "by Jhair Pairs"
   ]
  },
  {
   "cell_type": "markdown",
   "metadata": {},
   "source": [
    "## Proposición"
   ]
  },
  {
   "cell_type": "markdown",
   "metadata": {},
   "source": [
    "Bom bom Bam S.A. es una empresa dedicada a la producción de dulces que cuenta con una única planta en la ciudad de Palmira. La empresa tiene en su modelo de producción una planeación estimada para 6 meses, es decir 24 semanas y con ello requiere determinar la cantidad de unidades a producir. Los costos de producción, costos de almacenamiento, así como la demanda y el precio por unidad de productos, varían semana a semana de acuerdo con factores externos, pero esta información se presenta a continuación."
   ]
  },
  {
   "cell_type": "markdown",
   "metadata": {},
   "source": [
    "| Semana | Costo de producción (COP/Und) | Costo de almacenamiento (COP/Und) | Demanda (Und) |\n",
    "| ------ | ----------------------------- | --------------------------------- | ------------- |\n",
    "| 1      | 160,5                         | 6,3                               | 95000         |\n",
    "| 2      | 181,1                         | 6,8                               | 92000         |\n",
    "| 3      | 172,6                         | 6                                 | 90500         |\n",
    "| 4      | 171,1                         | 7,4                               | 90500         |\n",
    "| 5      | 182,9                         | 8,2                               | 93500         |\n",
    "| 6      | 177,3                         | 7,9                               | 92000         |\n",
    "| 7      | 169,3                         | 7,9                               | 90500         |\n",
    "| 8      | 150,5                         | 8,5                               | 93500         |\n",
    "| 9      | 152,7                         | 9,2                               | 92000         |\n",
    "| 10     | 183,6                         | 7,5                               | 89000         |\n",
    "| 11     | 152,6                         | 8,5                               | 89000         |\n",
    "| 12     | 181,8                         | 6,3                               | 89000         |\n",
    "| 13     | 161,7                         | 6,3                               | 86000         |\n",
    "| 14     | 180,7                         | 9,6                               | 87500         |\n",
    "| 15     | 152,7                         | 9,8                               | 89000         |\n",
    "| 16     | 169,6                         | 9,3                               | 87500         |\n",
    "| 17     | 170,8                         | 6,5                               | 87500         |\n",
    "| 18     | 171,4                         | 7,7                               | 90500         |\n",
    "| 19     | 174,3                         | 6,6                               | 90500         |\n",
    "| 20     | 175,8                         | 10                                | 89000         |\n",
    "| 21     | 159,8                         | 8,9                               | 89000         |\n",
    "| 22     | 185                           | 6,8                               | 89000         |\n",
    "| 23     | 151,4                         | 9,9                               | 90500         |\n",
    "| 24     | 176,6                         | 9,5                               | 90500         |"
   ]
  },
  {
   "cell_type": "markdown",
   "metadata": {},
   "source": [
    "Considere que la empresa tiene un inventario inicial de 12000 unidades de producto, que quedaron como resultado de la planeación anterior. De igual forma, la máquina productora de dulces genera mínimo cada corrida de producción 80000 unidades a la semana, y un máximo de 120000 unidades. El gerente de la compañía le plantea los siguientes interrogantes frente al plan de producción."
   ]
  },
  {
   "cell_type": "markdown",
   "metadata": {},
   "source": [
    "## Conjuntos\n",
    "\n",
    "$i$: \\{ 1,2,3,4,5,6,7,8,9,10,11,12,13,14,15,16,17,18,19,20,21,22,23,24 \\}\n",
    "\n",
    "## Variables\n",
    "\n",
    "$x_{i}$ : Numero de unidades a producir en la semana $i$\n",
    "\n",
    "$y_{i}$: Numero de unidades almacenadas $i$"
   ]
  },
  {
   "cell_type": "markdown",
   "metadata": {},
   "source": [
    "## Imports"
   ]
  },
  {
   "cell_type": "code",
   "execution_count": 1,
   "metadata": {},
   "outputs": [],
   "source": [
    "from ortools.linear_solver import pywraplp"
   ]
  },
  {
   "cell_type": "markdown",
   "metadata": {},
   "source": [
    "\n",
    "## Solver"
   ]
  },
  {
   "cell_type": "code",
   "execution_count": 2,
   "metadata": {},
   "outputs": [],
   "source": [
    "solver = pywraplp.Solver.CreateSolver(\"GLOP\")\n",
    "infinito = solver.infinity()"
   ]
  },
  {
   "cell_type": "markdown",
   "metadata": {},
   "source": [
    "## Variables"
   ]
  },
  {
   "cell_type": "code",
   "execution_count": 3,
   "metadata": {},
   "outputs": [
    {
     "name": "stdout",
     "output_type": "stream",
     "text": [
      "Numero de variables = 48\n"
     ]
    }
   ],
   "source": [
    "x1 = solver.Var(0, infinito, integer=True, name=\"Produccion semana 1\")\n",
    "x2 = solver.Var(0, infinito, integer=True, name=\"Produccion semana 2\")\n",
    "x3 = solver.Var(0, infinito, integer=True, name=\"Produccion semana 3\")\n",
    "x4 = solver.Var(0, infinito, integer=True, name=\"Produccion semana 4\")\n",
    "x5 = solver.Var(0, infinito, integer=True, name=\"Produccion semana 5\")\n",
    "x6 = solver.Var(0, infinito, integer=True, name=\"Produccion semana 6\")\n",
    "x7 = solver.Var(0, infinito, integer=True, name=\"Produccion semana 7\")\n",
    "x8 = solver.Var(0, infinito, integer=True, name=\"Produccion semana 8\")\n",
    "x9 = solver.Var(0, infinito, integer=True, name=\"Produccion semana 9\")\n",
    "x10 = solver.Var(0, infinito, integer=True, name=\"Produccion semana 10\")\n",
    "x11 = solver.Var(0, infinito, integer=True, name=\"Produccion semana 11\")\n",
    "x12 = solver.Var(0, infinito, integer=True, name=\"Produccion semana 12\")\n",
    "x13 = solver.Var(0, infinito, integer=True, name=\"Produccion semana 13\")\n",
    "x14 = solver.Var(0, infinito, integer=True, name=\"Produccion semana 14\")\n",
    "x15 = solver.Var(0, infinito, integer=True, name=\"Produccion semana 15\")\n",
    "x16 = solver.Var(0, infinito, integer=True, name=\"Produccion semana 16\")\n",
    "x17 = solver.Var(0, infinito, integer=True, name=\"Produccion semana 17\")\n",
    "x18 = solver.Var(0, infinito, integer=True, name=\"Produccion semana 18\")\n",
    "x19 = solver.Var(0, infinito, integer=True, name=\"Produccion semana 19\")\n",
    "x20 = solver.Var(0, infinito, integer=True, name=\"Produccion semana 20\")\n",
    "x21 = solver.Var(0, infinito, integer=True, name=\"Produccion semana 21\")\n",
    "x22 = solver.Var(0, infinito, integer=True, name=\"Produccion semana 22\")\n",
    "x23 = solver.Var(0, infinito, integer=True, name=\"Produccion semana 23\")\n",
    "x24 = solver.Var(0, infinito, integer=True, name=\"Produccion semana 24\")\n",
    "\n",
    "y1 = solver.Var(0, infinito, integer=True, name=\"Almacenamiento semana 1\")\n",
    "y2 = solver.Var(0, infinito, integer=True, name=\"Almacenamiento semana 2\")\n",
    "y3 = solver.Var(0, infinito, integer=True, name=\"Almacenamiento semana 3\")\n",
    "y4 = solver.Var(0, infinito, integer=True, name=\"Almacenamiento semana 4\")\n",
    "y5 = solver.Var(0, infinito, integer=True, name=\"Almacenamiento semana 5\")\n",
    "y6 = solver.Var(0, infinito, integer=True, name=\"Almacenamiento semana 6\")\n",
    "y7 = solver.Var(0, infinito, integer=True, name=\"Almacenamiento semana 7\")\n",
    "y8 = solver.Var(0, infinito, integer=True, name=\"Almacenamiento semana 8\")\n",
    "y9 = solver.Var(0, infinito, integer=True, name=\"Almacenamiento semana 9\")\n",
    "y10 = solver.Var(0, infinito, integer=True, name=\"Almacenamiento semana 10\")\n",
    "y11 = solver.Var(0, infinito, integer=True, name=\"Almacenamiento semana 11\")\n",
    "y12 = solver.Var(0, infinito, integer=True, name=\"Almacenamiento semana 12\")\n",
    "y13 = solver.Var(0, infinito, integer=True, name=\"Almacenamiento semana 13\")\n",
    "y14 = solver.Var(0, infinito, integer=True, name=\"Almacenamiento semana 14\")\n",
    "y15 = solver.Var(0, infinito, integer=True, name=\"Almacenamiento semana 15\")\n",
    "y16 = solver.Var(0, infinito, integer=True, name=\"Almacenamiento semana 16\")\n",
    "y17 = solver.Var(0, infinito, integer=True, name=\"Almacenamiento semana 17\")\n",
    "y18 = solver.Var(0, infinito, integer=True, name=\"Almacenamiento semana 18\")\n",
    "y19 = solver.Var(0, infinito, integer=True, name=\"Almacenamiento semana 19\")\n",
    "y20 = solver.Var(0, infinito, integer=True, name=\"Almacenamiento semana 20\")\n",
    "y21 = solver.Var(0, infinito, integer=True, name=\"Almacenamiento semana 21\")\n",
    "y22 = solver.Var(0, infinito, integer=True, name=\"Almacenamiento semana 22\")\n",
    "y23 = solver.Var(0, infinito, integer=True, name=\"Almacenamiento semana 23\")\n",
    "y24 = solver.Var(0, infinito, integer=True, name=\"Almacenamiento semana 24\")\n",
    "\n",
    "print(\"Numero de variables =\", solver.NumVariables())"
   ]
  },
  {
   "cell_type": "markdown",
   "metadata": {},
   "source": [
    "## Restricciones"
   ]
  },
  {
   "cell_type": "markdown",
   "metadata": {},
   "source": [
    "**No negatividad**\n",
    "\n",
    "$x_{i},y_{i} >= {0} \\forall {i} \\in \\{ 1,2,3,4,5,6,7,8,9,10,11,12,13,14,15,16,17,18,19,20,21,22,23,24 \\}$"
   ]
  },
  {
   "cell_type": "markdown",
   "metadata": {},
   "source": [
    "**Limites**\n",
    "\n",
    "$x_{i} <= 120000$\n",
    "\n",
    "$x_{i} >= 80000$"
   ]
  },
  {
   "cell_type": "code",
   "execution_count": 4,
   "metadata": {},
   "outputs": [
    {
     "name": "stdout",
     "output_type": "stream",
     "text": [
      "Numero de restricciones 72\n"
     ]
    }
   ],
   "source": [
    "solver.Add(12000 + x1 >= 95000 + y1, \"Restriccion1\")\n",
    "solver.Add(y1 + x2 >= 92000 + y2, \"Restriccion2\")\n",
    "solver.Add(y2 + x3 >= 90500 + y3, \"Restriccion3\")\n",
    "solver.Add(y3 + x4 >= 90500 + y4, \"Restriccion4\")\n",
    "solver.Add(y4 + x5 >= 93500 + y5, \"Restriccion5\")\n",
    "solver.Add(y5 + x6 >= 92000 + y6, \"Restriccion6\")\n",
    "solver.Add(y6 + x7 >= 90500 + y7, \"Restriccion7\")\n",
    "solver.Add(y7 + x8 >= 93500 + y8, \"Restriccion8\")\n",
    "solver.Add(y8 + x9 >= 92000 + y9, \"Restriccion9\")\n",
    "solver.Add(y9 + x10 >= 89000 + y10, \"Restriccion10\")\n",
    "solver.Add(y10 + x11 >= 89000 + y11, \"Restriccion11\")\n",
    "solver.Add(y11 + x12 >= 89000 + y12, \"Restriccion12\")\n",
    "solver.Add(y12 + x13 >= 86000 + y13, \"Restriccion13\")\n",
    "solver.Add(y13 + x14 >= 87500 + y14, \"Restriccion14\")\n",
    "solver.Add(y14 + x15 >= 89000 + y15, \"Restriccion15\")\n",
    "solver.Add(y15 + x16 >= 87500 + y16, \"Restriccion16\")\n",
    "solver.Add(y16 + x17 >= 87500 + y17, \"Restriccion17\")\n",
    "solver.Add(y17 + x18 >= 90500 + y18, \"Restriccion18\")\n",
    "solver.Add(y18 + x19 >= 90500 + y19, \"Restriccion19\")\n",
    "solver.Add(y19 + x20 >= 89000 + y20, \"Restriccion20\")\n",
    "solver.Add(y20 + x21 >= 89000 + y21, \"Restriccion21\")\n",
    "solver.Add(y21 + x22 >= 89000 + y22, \"Restriccion22\")\n",
    "solver.Add(y22 + x23 >= 90500 + y23, \"Restriccion23\")\n",
    "solver.Add(y23 + x24 >= 90500 + y24, \"Restriccion24\")\n",
    "\n",
    "\n",
    "solver.Add(x1 >= 80000, \"Minimo\")\n",
    "solver.Add(x2 >= 80000, \"Minimo\")\n",
    "solver.Add(x3 >= 80000, \"Minimo\")\n",
    "solver.Add(x4 >= 80000, \"Minimo\")\n",
    "solver.Add(x5 >= 80000, \"Minimo\")\n",
    "solver.Add(x6 >= 80000, \"Minimo\")\n",
    "solver.Add(x7 >= 80000, \"Minimo\")\n",
    "solver.Add(x8 >= 80000, \"Minimo\")\n",
    "solver.Add(x9 >= 80000, \"Minimo\")\n",
    "solver.Add(x10 >= 80000, \"Minimo\")\n",
    "solver.Add(x11 >= 80000, \"Minimo\")\n",
    "solver.Add(x12 >= 80000, \"Minimo\")\n",
    "solver.Add(x13 >= 80000, \"Minimo\")\n",
    "solver.Add(x14 >= 80000, \"Minimo\")\n",
    "solver.Add(x15 >= 80000, \"Minimo\")\n",
    "solver.Add(x16 >= 80000, \"Minimo\")\n",
    "solver.Add(x17 >= 80000, \"Minimo\")\n",
    "solver.Add(x18 >= 80000, \"Minimo\")\n",
    "solver.Add(x19 >= 80000, \"Minimo\")\n",
    "solver.Add(x20 >= 80000, \"Minimo\")\n",
    "solver.Add(x21 >= 80000, \"Minimo\")\n",
    "solver.Add(x22 >= 80000, \"Minimo\")\n",
    "solver.Add(x23 >= 80000, \"Minimo\")\n",
    "solver.Add(x24 >= 80000, \"Minimo\")\n",
    "\n",
    "\n",
    "solver.Add(x1 <= 120000, \"Maximo\")\n",
    "solver.Add(x2 <= 120000, \"Maximo\")\n",
    "solver.Add(x3 <= 120000, \"Maximo\")\n",
    "solver.Add(x4 <= 120000, \"Maximo\")\n",
    "solver.Add(x5 <= 120000, \"Maximo\")\n",
    "solver.Add(x6 <= 120000, \"Maximo\")\n",
    "solver.Add(x7 <= 120000, \"Maximo\")\n",
    "solver.Add(x8 <= 120000, \"Maximo\")\n",
    "solver.Add(x9 <= 120000, \"Maximo\")\n",
    "solver.Add(x10 <= 120000, \"Maximo\")\n",
    "solver.Add(x11 <= 120000, \"Maximo\")\n",
    "solver.Add(x12 <= 120000, \"Maximo\")\n",
    "solver.Add(x13 <= 120000, \"Maximo\")\n",
    "solver.Add(x14 <= 120000, \"Maximo\")\n",
    "solver.Add(x15 <= 120000, \"Maximo\")\n",
    "solver.Add(x16 <= 120000, \"Maximo\")\n",
    "solver.Add(x17 <= 120000, \"Maximo\")\n",
    "solver.Add(x18 <= 120000, \"Maximo\")\n",
    "solver.Add(x19 <= 120000, \"Maximo\")\n",
    "solver.Add(x20 <= 120000, \"Maximo\")\n",
    "solver.Add(x21 <= 120000, \"Maximo\")\n",
    "solver.Add(x22 <= 120000, \"Maximo\")\n",
    "solver.Add(x23 <= 120000, \"Maximo\")\n",
    "solver.Add(x24 <= 120000, \"Maximo\")\n",
    "\n",
    "\n",
    "\n",
    "print(\"Numero de restricciones\", solver.NumConstraints())"
   ]
  },
  {
   "cell_type": "markdown",
   "metadata": {},
   "source": [
    "## Funcion Objetivo\n",
    "\n",
    "$MinZ = \\sum_{i=1}^{24} p_{i}x_{i} + a_{i}d_{i}$"
   ]
  },
  {
   "cell_type": "code",
   "execution_count": 5,
   "metadata": {},
   "outputs": [],
   "source": [
    "solver.Minimize(\n",
    "    160.5 * x1\n",
    "    + 181.1 * x2\n",
    "    + 172.6 * x3\n",
    "    + 171.1 * x4\n",
    "    + 182.9 * x5\n",
    "    + 177.3 * x6\n",
    "    + 169.3 * x7\n",
    "    + 150.5 * x8\n",
    "    + 152.7 * x9\n",
    "    + 183.6 * x10\n",
    "    + 152.6 * x11\n",
    "    + 181.8 * x12\n",
    "    + 161.7 * x13\n",
    "    + 180.7 * x14\n",
    "    + 152.7 * x15\n",
    "    + 169.6 * x16\n",
    "    + 170.8 * x17\n",
    "    + 171.4 * x18\n",
    "    + 174.3 * x19\n",
    "    + 175.8 * x20\n",
    "    + 159.8 * x21\n",
    "    + 185 * x22\n",
    "    + 151.4 * x23\n",
    "    + 176.6 * x24\n",
    "\n",
    "    + 6.3 * y1\n",
    "    + 6.8 * y2\n",
    "    + 6 * y3\n",
    "    + 7.4 * y4\n",
    "    + 8.2 * y5\n",
    "    + 7.9 * y6\n",
    "    + 7.9 * y7\n",
    "    + 8.5 * y8\n",
    "    + 9.2 * y9\n",
    "    + 7.5 * y10\n",
    "    + 8.5 * y11\n",
    "    + 6.3 * y12\n",
    "    + 6.3 * y13\n",
    "    + 9.6 * y14\n",
    "    + 9.8 * y15\n",
    "    + 9.3 * y16\n",
    "    + 6.5 * y17\n",
    "    + 7.7 * y18\n",
    "    + 6.6 * y19\n",
    "    + 10 * y20\n",
    "    + 8.9 * y21\n",
    "    + 6.8 * y22\n",
    "    + 9.9 * y23\n",
    "    + 9.5 * y24\n",
    ")\n",
    "status = solver.Solve()"
   ]
  },
  {
   "cell_type": "markdown",
   "metadata": {},
   "source": [
    "## Solucion"
   ]
  },
  {
   "cell_type": "code",
   "execution_count": 6,
   "metadata": {},
   "outputs": [
    {
     "name": "stdout",
     "output_type": "stream",
     "text": [
      "Solución\n",
      "Valor de la Función Objetivo a Minimizar es:  363371650.0\n",
      "Produccion semana 1  =  95000.0\n",
      "Produccion semana 2  =  80000.0\n",
      "Produccion semana 3  =  90500.0\n",
      "Produccion semana 4  =  104000.0\n",
      "Produccion semana 5  =  80000.0\n",
      "Produccion semana 6  =  92000.0\n",
      "Produccion semana 7  =  90500.0\n",
      "Produccion semana 8  =  93500.0\n",
      "Produccion semana 9  =  100999.99999999999\n",
      "Produccion semana 10  =  80000.0\n",
      "Produccion semana 11  =  97999.99999999999\n",
      "Produccion semana 12  =  80000.0\n",
      "Produccion semana 13  =  93499.99999999999\n",
      "Produccion semana 14  =  80000.0\n",
      "Produccion semana 15  =  96499.99999999999\n",
      "Produccion semana 16  =  80000.0\n",
      "Produccion semana 17  =  87500.0\n",
      "Produccion semana 18  =  90500.0\n",
      "Produccion semana 19  =  90500.0\n",
      "Produccion semana 20  =  89000.0\n",
      "Produccion semana 21  =  97999.99999999999\n",
      "Produccion semana 22  =  80000.0\n",
      "Produccion semana 23  =  101000.0\n",
      "Produccion semana 24  =  80000.0\n",
      "Almacenamiento semana 1  =  11999.999999999993\n",
      "Almacenamiento semana 4  =  13500.000000000002\n",
      "Almacenamiento semana 9  =  8999.99999999999\n",
      "Almacenamiento semana 11  =  8999.99999999999\n",
      "Almacenamiento semana 13  =  7499.999999999997\n",
      "Almacenamiento semana 15  =  7499.999999999997\n",
      "Almacenamiento semana 21  =  8999.99999999999\n",
      "Almacenamiento semana 23  =  10500.0\n"
     ]
    }
   ],
   "source": [
    "results = {}\n",
    "\n",
    "if status == pywraplp.Solver.OPTIMAL:\n",
    "    print(\"Solución\")\n",
    "    print(\"Valor de la Función Objetivo a Minimizar es: \", solver.Objective().Value())\n",
    "\n",
    "    results[x1]=x1.solution_value()\n",
    "    results[x2]=x2.solution_value()\n",
    "    results[x3]=x3.solution_value()\n",
    "    results[x4]=x4.solution_value()\n",
    "    results[x5]=x5.solution_value()\n",
    "    results[x6]=x6.solution_value()\n",
    "    results[x7]=x7.solution_value()\n",
    "    results[x8]=x8.solution_value()\n",
    "    results[x9]=x9.solution_value()\n",
    "    results[x10]=x10.solution_value()\n",
    "    results[x11]=x11.solution_value()\n",
    "    results[x12]=x12.solution_value()\n",
    "    results[x13]=x13.solution_value()\n",
    "    results[x14]=x14.solution_value()\n",
    "    results[x15]=x15.solution_value()\n",
    "    results[x16]=x16.solution_value()\n",
    "    results[x17]=x17.solution_value()\n",
    "    results[x18]=x18.solution_value()\n",
    "    results[x19]=x19.solution_value()\n",
    "    results[x20]=x20.solution_value()\n",
    "    results[x21]=x21.solution_value()\n",
    "    results[x22]=x22.solution_value()\n",
    "    results[x23]=x23.solution_value()\n",
    "    results[x24]=x24.solution_value()\n",
    "    results[y1]=y1.solution_value()\n",
    "    results[y2]=y2.solution_value()\n",
    "    results[y3]=y3.solution_value()\n",
    "    results[y4]=y4.solution_value()\n",
    "    results[y5]=y5.solution_value()\n",
    "    results[y6]=y6.solution_value()\n",
    "    results[y7]=y7.solution_value()\n",
    "    results[y8]=y8.solution_value()\n",
    "    results[y9]=y9.solution_value()\n",
    "    results[y10]=y10.solution_value()\n",
    "    results[y11]=y11.solution_value()\n",
    "    results[y12]=y12.solution_value()\n",
    "    results[y13]=y13.solution_value()\n",
    "    results[y14]=y14.solution_value()\n",
    "    results[y15]=y15.solution_value()\n",
    "    results[y16]=y16.solution_value()\n",
    "    results[y17]=y17.solution_value()\n",
    "    results[y18]=y18.solution_value()\n",
    "    results[y19]=y19.solution_value()\n",
    "    results[y20]=y20.solution_value()\n",
    "    results[y21]=y21.solution_value()\n",
    "    results[y22]=y22.solution_value()\n",
    "    results[y23]=y23.solution_value()\n",
    "    results[y24]=y24.solution_value()\n",
    "\n",
    "    for key, values in results.items():\n",
    "        if values > 0:\n",
    "            print(key.name(), \" = \", values)\n",
    "    \n",
    "else:\n",
    "    print(\"El modelo no tiene una solución optima\")"
   ]
  },
  {
   "cell_type": "markdown",
   "metadata": {},
   "source": [
    "## Preguntas"
   ]
  },
  {
   "cell_type": "markdown",
   "metadata": {},
   "source": [
    "- ¿Cuál es el costo del plan de producción?"
   ]
  },
  {
   "cell_type": "code",
   "execution_count": 7,
   "metadata": {},
   "outputs": [
    {
     "name": "stdout",
     "output_type": "stream",
     "text": [
      "Es de valor:  2151000.0\n"
     ]
    }
   ],
   "source": [
    "sum =0\n",
    "for key, values in results.items():\n",
    "    if \"Produccion \" in str(key.name()):\n",
    "        sum+= values\n",
    "\n",
    "print(\"Es de valor: \",sum)"
   ]
  },
  {
   "cell_type": "markdown",
   "metadata": {},
   "source": [
    "- ¿En qué periodos no se va a producir?"
   ]
  },
  {
   "cell_type": "markdown",
   "metadata": {},
   "source": [
    "En ningun periodo se va ha dejar de producir."
   ]
  },
  {
   "cell_type": "markdown",
   "metadata": {},
   "source": [
    "- ¿En qué periodos no se va a almacenar?"
   ]
  },
  {
   "cell_type": "code",
   "execution_count": 8,
   "metadata": {},
   "outputs": [
    {
     "name": "stdout",
     "output_type": "stream",
     "text": [
      "Almacenamiento semana 2\n",
      "Almacenamiento semana 3\n",
      "Almacenamiento semana 5\n",
      "Almacenamiento semana 6\n",
      "Almacenamiento semana 7\n",
      "Almacenamiento semana 8\n",
      "Almacenamiento semana 10\n",
      "Almacenamiento semana 12\n",
      "Almacenamiento semana 14\n",
      "Almacenamiento semana 16\n",
      "Almacenamiento semana 17\n",
      "Almacenamiento semana 18\n",
      "Almacenamiento semana 19\n",
      "Almacenamiento semana 20\n",
      "Almacenamiento semana 22\n",
      "Almacenamiento semana 24\n"
     ]
    }
   ],
   "source": [
    "for key, values in results.items():\n",
    "    if \"Almacenamiento \" in str(key.name()) and values == 0.0:\n",
    "        print(key.name())"
   ]
  }
 ],
 "metadata": {
  "kernelspec": {
   "display_name": "env",
   "language": "python",
   "name": "python3"
  },
  "language_info": {
   "codemirror_mode": {
    "name": "ipython",
    "version": 3
   },
   "file_extension": ".py",
   "mimetype": "text/x-python",
   "name": "python",
   "nbconvert_exporter": "python",
   "pygments_lexer": "ipython3",
   "version": "3.8.7"
  }
 },
 "nbformat": 4,
 "nbformat_minor": 2
}

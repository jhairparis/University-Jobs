{
 "cells": [
  {
   "cell_type": "code",
   "execution_count": 1,
   "metadata": {},
   "outputs": [],
   "source": [
    "from ortools.linear_solver import pywraplp"
   ]
  },
  {
   "cell_type": "code",
   "execution_count": 2,
   "metadata": {},
   "outputs": [
    {
     "name": "stdout",
     "output_type": "stream",
     "text": [
      "Numero de variables = 6\n"
     ]
    }
   ],
   "source": [
    "solver = pywraplp.Solver.CreateSolver(\"GLOP\")\n",
    "infinity = solver.infinity()\n",
    "\n",
    "x11 = solver.Var(0,infinity,integer=False,name=\"Pl1-Cl1\")\n",
    "x12 = solver.Var(0,infinity,integer=False,name=\"Pl1-Cl2\")\n",
    "x13 = solver.Var(0,infinity,integer=False,name=\"Pl1-Cl3\")\n",
    "x21 = solver.Var(0,infinity,integer=False,name=\"Pl2-Cl1\")\n",
    "x22 = solver.Var(0,infinity,integer=False,name=\"Pl2-Cl2\")\n",
    "x23 = solver.Var(0,infinity,integer=False,name=\"Pl2-Cl3\")\n",
    "print(\"Numero de variables =\", solver.NumVariables())"
   ]
  },
  {
   "cell_type": "code",
   "execution_count": 3,
   "metadata": {},
   "outputs": [
    {
     "name": "stdout",
     "output_type": "stream",
     "text": [
      "Numero de restricciones 5\n"
     ]
    }
   ],
   "source": [
    "\"\"\"Definir restricciones\"\"\"\n",
    "solver.Add(x11+x12+x13<=100)\n",
    "solver.Add(x21+x22+x23<=125)\n",
    "solver.Add(x11+x21>=25)\n",
    "solver.Add(x12+x22>=95)\n",
    "solver.Add(x13+x23>=80)\n",
    "print(\"Numero de restricciones\", solver.NumConstraints())"
   ]
  },
  {
   "cell_type": "code",
   "execution_count": 4,
   "metadata": {},
   "outputs": [],
   "source": [
    "\"\"\"Definir función Objetivo\"\"\"\n",
    "\n",
    "solver.Minimize(250*x11+325*x12+445*x13+275*x21+260*x22+460*x23)\n",
    "\n",
    "status=solver.Solve()"
   ]
  },
  {
   "cell_type": "code",
   "execution_count": 5,
   "metadata": {},
   "outputs": [
    {
     "name": "stdout",
     "output_type": "stream",
     "text": [
      "Solución\n",
      "Valor de la Función Objetivo a Maximizar:  66625.0\n",
      "Planta 1 a Cliente 1  25.0\n",
      "Planta 1 a Cliente 2  0.0\n",
      "Planta 1 a Cliente 3  75.0\n",
      "Planta 2 a Cliente 1  0.0\n",
      "Planta 2 a Cliente 2  95.0\n",
      "Planta 2 a Cliente 3  5.000000000000004\n"
     ]
    }
   ],
   "source": [
    "if status == pywraplp.Solver.OPTIMAL:\n",
    "    print(\"Solución\")\n",
    "    print(\"Valor de la Función Objetivo a Maximizar: \", solver.Objective().Value())\n",
    "    print(\"Planta 1 a Cliente 1 \", x11.solution_value())\n",
    "    print(\"Planta 1 a Cliente 2 \", x12.solution_value())\n",
    "    print(\"Planta 1 a Cliente 3 \", x13.solution_value())\n",
    "    print(\"Planta 2 a Cliente 1 \", x21.solution_value())\n",
    "    print(\"Planta 2 a Cliente 2 \", x22.solution_value())\n",
    "    print(\"Planta 2 a Cliente 3 \", x23.solution_value())\n",
    "\n",
    "else:\n",
    "    print(\"El modelo no tiene una solución optima\")"
   ]
  }
 ],
 "metadata": {
  "kernelspec": {
   "display_name": "Python 3",
   "language": "python",
   "name": "python3"
  },
  "language_info": {
   "codemirror_mode": {
    "name": "ipython",
    "version": 3
   },
   "file_extension": ".py",
   "mimetype": "text/x-python",
   "name": "python",
   "nbconvert_exporter": "python",
   "pygments_lexer": "ipython3",
   "version": "3.12.0"
  },
  "orig_nbformat": 4
 },
 "nbformat": 4,
 "nbformat_minor": 2
}
